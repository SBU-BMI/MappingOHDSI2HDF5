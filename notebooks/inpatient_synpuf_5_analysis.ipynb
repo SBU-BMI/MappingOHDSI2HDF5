{
 "cells": [
  {
   "cell_type": "markdown",
   "metadata": {},
   "source": [
    "CMS (Centers for Medicare & Medicaid Services) has made available a synthetic PUF (Public Use File) of Medicare claims. This data set is known as [SYNPUF](https://www.cms.gov/Research-Statistics-Data-and-Systems/Downloadable-Public-Use-Files/SynPUFs/). It contains synthetic generated diagnoses, demographics and procedures. A robust [ETL script](https://github.com/OHDSI/ETL-CMS/blob/master/python_etl/README.md) has been developed to map the data in the [OHDSI](https://www.ohdsi.org/)'s [Common Data Model](https://github.com/OHDSI/CommonDataModel). The SYNPUF data was loaded into a PostGreSQL database server using version (5.0) of the Common Data Model. Using a [mapper script](https://github.com/jhajagos/TransformDBtoHDF5ML) the data was mapped to matrices in an HDF5 containter. Only inpatient data was included in the mapped matrices. There are many possible of mappings of data in the OHDSI Common Data Model and there is no single official standardized mapping.\n",
    "\n",
    "The end result is an HDF5 file which can be used to teach how to analyze hospital inpatient data and demonstrate the process of building a predictive 30-day inpatient readmission model. This part of the tutorial explores basic analysis of the synthetic clinical HDF5 container file using NumPy. "
   ]
  },
  {
   "cell_type": "code",
   "execution_count": 1,
   "metadata": {
    "collapsed": true
   },
   "outputs": [],
   "source": [
    "import h5py # Library for reading HDF5"
   ]
  },
  {
   "cell_type": "code",
   "execution_count": 2,
   "metadata": {
    "collapsed": true
   },
   "outputs": [],
   "source": [
    "import numpy as np # Numerical matrix library"
   ]
  },
  {
   "cell_type": "code",
   "execution_count": 3,
   "metadata": {
    "collapsed": true
   },
   "outputs": [],
   "source": [
    "f5 = h5py.File(\"synpuf_inpatient_combined.hdf5\", \"r\")"
   ]
  },
  {
   "cell_type": "markdown",
   "metadata": {},
   "source": [
    "The `f5` object is your path into exploring the underlying data in an hdf5 container. Matrices are accessed using a notation similiar to traversing a file system. "
   ]
  },
  {
   "cell_type": "code",
   "execution_count": 5,
   "metadata": {
    "collapsed": false
   },
   "outputs": [
    {
     "data": {
      "text/plain": [
       "[u'computed', u'ohdsi']"
      ]
     },
     "execution_count": 5,
     "metadata": {},
     "output_type": "execute_result"
    }
   ],
   "source": [
    "list(f5[\"/\"])"
   ]
  },
  {
   "cell_type": "code",
   "execution_count": 8,
   "metadata": {
    "collapsed": false
   },
   "outputs": [
    {
     "data": {
      "text/plain": [
       "[u'condition_occurrence',\n",
       " u'death',\n",
       " u'drug_exposure',\n",
       " u'identifiers',\n",
       " u'measurement',\n",
       " u'observation',\n",
       " u'observation_period',\n",
       " u'person',\n",
       " u'procedure_occurrence',\n",
       " u'visit_occurrence']"
      ]
     },
     "execution_count": 8,
     "metadata": {},
     "output_type": "execute_result"
    }
   ],
   "source": [
    "list(f5[\"/ohdsi/\"])"
   ]
  },
  {
   "cell_type": "code",
   "execution_count": 6,
   "metadata": {
    "collapsed": false
   },
   "outputs": [
    {
     "data": {
      "text/plain": [
       "[u'column_annotations', u'column_header', u'core_array']"
      ]
     },
     "execution_count": 6,
     "metadata": {},
     "output_type": "execute_result"
    }
   ],
   "source": [
    "list(f5[\"/ohdsi/condition_occurrence/\"])"
   ]
  },
  {
   "cell_type": "code",
   "execution_count": 7,
   "metadata": {
    "collapsed": false
   },
   "outputs": [
    {
     "data": {
      "text/plain": [
       "(66700, 3559)"
      ]
     },
     "execution_count": 7,
     "metadata": {},
     "output_type": "execute_result"
    }
   ],
   "source": [
    "f5[\"/ohdsi/condition_occurrence/core_array\"].shape"
   ]
  },
  {
   "cell_type": "markdown",
   "metadata": {},
   "source": [
    "Lets start by looking at the data stored in the matrix."
   ]
  },
  {
   "cell_type": "code",
   "execution_count": 9,
   "metadata": {
    "collapsed": false
   },
   "outputs": [
    {
     "data": {
      "text/plain": [
       "array([[ 0.,  0.,  0., ...,  0.,  0.,  0.],\n",
       "       [ 0.,  0.,  0., ...,  0.,  0.,  0.],\n",
       "       [ 0.,  0.,  0., ...,  0.,  0.,  0.],\n",
       "       ..., \n",
       "       [ 0.,  0.,  0., ...,  0.,  0.,  0.],\n",
       "       [ 0.,  0.,  0., ...,  0.,  0.,  0.],\n",
       "       [ 0.,  0.,  0., ...,  0.,  0.,  0.]])"
      ]
     },
     "execution_count": 9,
     "metadata": {},
     "output_type": "execute_result"
    }
   ],
   "source": [
    "f5[\"/ohdsi/condition_occurrence/core_array\"][0:10,:]"
   ]
  },
  {
   "cell_type": "code",
   "execution_count": 10,
   "metadata": {
    "collapsed": false
   },
   "outputs": [
    {
     "data": {
      "text/plain": [
       "49.0"
      ]
     },
     "execution_count": 10,
     "metadata": {},
     "output_type": "execute_result"
    }
   ],
   "source": [
    "np.sum(f5[\"/ohdsi/condition_occurrence/core_array\"][0:10,:])"
   ]
  },
  {
   "cell_type": "code",
   "execution_count": 11,
   "metadata": {
    "collapsed": false
   },
   "outputs": [
    {
     "data": {
      "text/plain": [
       "(array([0, 0, 0, 0, 0, 1, 1, 1, 1, 1, 2, 2, 2, 3, 3, 3, 3, 3, 4, 4, 4, 4, 4,\n",
       "        5, 5, 5, 5, 6, 6, 6, 6, 6, 6, 7, 7, 7, 7, 7, 8, 8, 8, 8, 8, 8, 9, 9,\n",
       "        9, 9, 9], dtype=int64),\n",
       " array([ 322, 1121, 2486, 2522, 3502,  859, 1961, 2524, 3073, 3485, 1228,\n",
       "        1736, 3319, 1396, 2233, 2920, 3005, 3222,  322, 1281, 1629, 1996,\n",
       "        2503,  992, 1005, 2029, 3069,  464, 1004, 1005, 1229, 2015, 3067,\n",
       "         266,  796, 1004, 1080, 1927,  796,  885,  889, 1121, 1542, 2461,\n",
       "        1111, 1591, 1738, 2522, 3453], dtype=int64))"
      ]
     },
     "execution_count": 11,
     "metadata": {},
     "output_type": "execute_result"
    }
   ],
   "source": [
    "np.where(f5[\"/ohdsi/condition_occurrence/core_array\"][0:10,:] > 0)"
   ]
  },
  {
   "cell_type": "code",
   "execution_count": 12,
   "metadata": {
    "collapsed": false
   },
   "outputs": [
    {
     "data": {
      "text/plain": [
       "array([['condition_concept', 'condition_concept', 'condition_concept', ...,\n",
       "        'condition_concept', 'condition_concept', 'condition_concept'],\n",
       "       ['0', '132344', '132392', ..., '81931', '81942', '81989'],\n",
       "       ['No matching concept', 'Gingival and periodontal disease',\n",
       "        'Staphylococcal scalded skin syndrome', ...,\n",
       "        'Psoriasis with arthropathy',\n",
       "        'Enthesopathy of ankle AND/OR tarsus',\n",
       "        'Open wound of upper arm with complication'],\n",
       "       ['categorical_list', 'categorical_list', 'categorical_list', ...,\n",
       "        'categorical_list', 'categorical_list', 'categorical_list']], \n",
       "      dtype='|S128')"
      ]
     },
     "execution_count": 12,
     "metadata": {},
     "output_type": "execute_result"
    }
   ],
   "source": [
    "f5[\"/ohdsi/condition_occurrence/column_annotations\"][...]"
   ]
  },
  {
   "cell_type": "code",
   "execution_count": null,
   "metadata": {
    "collapsed": true
   },
   "outputs": [],
   "source": []
  }
 ],
 "metadata": {
  "kernelspec": {
   "display_name": "Python 2",
   "language": "python",
   "name": "python2"
  },
  "language_info": {
   "codemirror_mode": {
    "name": "ipython",
    "version": 2
   },
   "file_extension": ".py",
   "mimetype": "text/x-python",
   "name": "python",
   "nbconvert_exporter": "python",
   "pygments_lexer": "ipython2",
   "version": "2.7.11"
  }
 },
 "nbformat": 4,
 "nbformat_minor": 0
}
