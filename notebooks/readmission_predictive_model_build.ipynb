{
 "cells": [
  {
   "cell_type": "code",
   "execution_count": 1,
   "metadata": {},
   "outputs": [
    {
     "name": "stderr",
     "output_type": "stream",
     "text": [
      "C:\\ProgramData\\Anaconda3\\lib\\site-packages\\h5py\\__init__.py:36: FutureWarning: Conversion of the second argument of issubdtype from `float` to `np.floating` is deprecated. In future, it will be treated as `np.float64 == np.dtype(float).type`.\n",
      "  from ._conv import register_converters as _register_converters\n"
     ]
    }
   ],
   "source": [
    "import h5py\n",
    "import numpy as np"
   ]
  },
  {
   "cell_type": "code",
   "execution_count": 2,
   "metadata": {},
   "outputs": [],
   "source": [
    "f5 = h5py.File(\"inpatient_readmission_analysis.hdf5\", \"r\")"
   ]
  },
  {
   "cell_type": "code",
   "execution_count": 3,
   "metadata": {},
   "outputs": [
    {
     "data": {
      "text/plain": [
       "(66700, 5686)"
      ]
     },
     "execution_count": 3,
     "metadata": {},
     "output_type": "execute_result"
    }
   ],
   "source": [
    "independent_array = f5[\"/independent/core_array\"][...]\n",
    "independent_array.shape"
   ]
  },
  {
   "cell_type": "code",
   "execution_count": 4,
   "metadata": {},
   "outputs": [
    {
     "data": {
      "text/plain": [
       "array(['age_at_visit_start_in_years_int', 'Length of stay in days',\n",
       "       'gender_concept_id|8532',\n",
       "       'Past history of 30-day inpatient readmissions',\n",
       "       'No matching concept|0|C',\n",
       "       'Gingival and periodontal disease|132344|C',\n",
       "       'Staphylococcal scalded skin syndrome|132392|C',\n",
       "       'Pressure ulcer stage 1|132393|C',\n",
       "       'Post-laminectomy syndrome|132412|C',\n",
       "       'Chronic osteomyelitis of hand|132414|C'],\n",
       "      dtype='|S128')"
      ]
     },
     "execution_count": 4,
     "metadata": {},
     "output_type": "execute_result"
    }
   ],
   "source": [
    "independent_labels = f5[\"/independent/column_annotations\"][...]\n",
    "independent_labels[0: 10]"
   ]
  },
  {
   "cell_type": "code",
   "execution_count": 4,
   "metadata": {},
   "outputs": [
    {
     "data": {
      "text/plain": [
       "(66700,)"
      ]
     },
     "execution_count": 4,
     "metadata": {},
     "output_type": "execute_result"
    }
   ],
   "source": [
    "dependent_array = f5[\"/dependent/core_array\"][...]\n",
    "dependent_array = np.ndarray.flatten(dependent_array)\n",
    "dependent_array.shape"
   ]
  },
  {
   "cell_type": "code",
   "execution_count": 5,
   "metadata": {},
   "outputs": [
    {
     "data": {
      "text/plain": [
       "6420.0"
      ]
     },
     "execution_count": 5,
     "metadata": {},
     "output_type": "execute_result"
    }
   ],
   "source": [
    "np.sum(dependent_array)"
   ]
  },
  {
   "cell_type": "code",
   "execution_count": 6,
   "metadata": {},
   "outputs": [
    {
     "data": {
      "text/plain": [
       "6006622"
      ]
     },
     "execution_count": 6,
     "metadata": {},
     "output_type": "execute_result"
    }
   ],
   "source": [
    "np.sum(independent_array)"
   ]
  },
  {
   "cell_type": "code",
   "execution_count": 7,
   "metadata": {},
   "outputs": [
    {
     "data": {
      "text/plain": [
       "array([b'30-day inpatient readmission'], dtype='|S128')"
      ]
     },
     "execution_count": 7,
     "metadata": {},
     "output_type": "execute_result"
    }
   ],
   "source": [
    "dependent_labels = f5[\"/dependent/column_annotations\"][...]\n",
    "dependent_labels"
   ]
  },
  {
   "cell_type": "code",
   "execution_count": 8,
   "metadata": {},
   "outputs": [
    {
     "data": {
      "text/plain": [
       "'0.19.2'"
      ]
     },
     "execution_count": 8,
     "metadata": {},
     "output_type": "execute_result"
    }
   ],
   "source": [
    "import sklearn\n",
    "sklearn.__version__"
   ]
  },
  {
   "cell_type": "code",
   "execution_count": 9,
   "metadata": {},
   "outputs": [],
   "source": [
    "from sklearn.model_selection import train_test_split"
   ]
  },
  {
   "cell_type": "code",
   "execution_count": 10,
   "metadata": {},
   "outputs": [],
   "source": [
    "X_train, X_test, Y_train, Y_test = train_test_split(independent_array, dependent_array, test_size=0.2)"
   ]
  },
  {
   "cell_type": "code",
   "execution_count": 11,
   "metadata": {},
   "outputs": [
    {
     "data": {
      "text/plain": [
       "array([[73,  3,  0, ...,  0,  0,  0],\n",
       "       [84,  5,  1, ...,  0,  0,  0],\n",
       "       [76,  5,  0, ...,  0,  0,  0],\n",
       "       ...,\n",
       "       [80,  4,  1, ...,  0,  0,  0],\n",
       "       [45, 11,  1, ...,  0,  0,  0],\n",
       "       [71,  5,  1, ...,  0,  0,  0]])"
      ]
     },
     "execution_count": 11,
     "metadata": {},
     "output_type": "execute_result"
    }
   ],
   "source": [
    "X_test"
   ]
  },
  {
   "cell_type": "code",
   "execution_count": 12,
   "metadata": {},
   "outputs": [],
   "source": [
    "from sklearn.pipeline import Pipeline"
   ]
  },
  {
   "cell_type": "code",
   "execution_count": 13,
   "metadata": {},
   "outputs": [
    {
     "name": "stderr",
     "output_type": "stream",
     "text": [
      "C:\\ProgramData\\Anaconda3\\lib\\site-packages\\sklearn\\ensemble\\weight_boosting.py:29: DeprecationWarning: numpy.core.umath_tests is an internal NumPy module and should not be imported. It will be removed in a future NumPy release.\n",
      "  from numpy.core.umath_tests import inner1d\n"
     ]
    }
   ],
   "source": [
    "from sklearn.feature_selection import VarianceThreshold\n",
    "from sklearn.feature_selection import SelectKBest\n",
    "from sklearn.ensemble import RandomForestClassifier"
   ]
  },
  {
   "cell_type": "code",
   "execution_count": 14,
   "metadata": {},
   "outputs": [],
   "source": [
    "variance_thresh = VarianceThreshold()\n",
    "select_k = SelectKBest(k=250)\n",
    "random_forest = RandomForestClassifier(n_estimators=500)\n",
    "\n",
    "pipeline_steps = [(\"remove_zero_variance\", variance_thresh), \n",
    "                  (\"select_features\", select_k), \n",
    "                  (\"random_forest\", random_forest)]"
   ]
  },
  {
   "cell_type": "code",
   "execution_count": 15,
   "metadata": {},
   "outputs": [],
   "source": [
    "pipeline_obj = Pipeline(pipeline_steps)"
   ]
  },
  {
   "cell_type": "code",
   "execution_count": 16,
   "metadata": {},
   "outputs": [
    {
     "data": {
      "text/plain": [
       "Pipeline(memory=None,\n",
       "     steps=[('remove_zero_variance', VarianceThreshold(threshold=0.0)), ('select_features', SelectKBest(k=250, score_func=<function f_classif at 0x000001AA62D21620>)), ('random_forest', RandomForestClassifier(bootstrap=True, class_weight=None, criterion='gini',\n",
       "            max_depth=None, max_features='a...n_jobs=1,\n",
       "            oob_score=False, random_state=None, verbose=0,\n",
       "            warm_start=False))])"
      ]
     },
     "execution_count": 16,
     "metadata": {},
     "output_type": "execute_result"
    }
   ],
   "source": [
    "pipeline_obj.fit(X_train, Y_train)"
   ]
  },
  {
   "cell_type": "code",
   "execution_count": 17,
   "metadata": {},
   "outputs": [
    {
     "data": {
      "text/plain": [
       "array([0., 0., 0., 0., 0., 0., 0., 0., 0., 0., 0., 0., 0., 0., 0., 0., 0.,\n",
       "       0., 0., 0., 0., 0., 0., 0., 0., 0., 0., 0., 0., 0., 0., 0., 0., 0.,\n",
       "       0., 0., 0., 0., 0., 0., 0., 0., 0., 0., 0., 0., 0., 0., 0., 0., 0.,\n",
       "       0., 0., 0., 0., 0., 0., 0., 0., 0., 0., 0., 0., 0., 0., 0., 0., 0.,\n",
       "       0., 0., 0., 0., 0., 0., 0., 0., 0., 0., 0., 0., 0., 0., 0., 0., 0.,\n",
       "       0., 0., 0., 0., 0., 0., 0., 0., 0., 0., 0., 0., 0., 0., 0.],\n",
       "      dtype=float32)"
      ]
     },
     "execution_count": 17,
     "metadata": {},
     "output_type": "execute_result"
    }
   ],
   "source": [
    "Y_predict = pipeline_obj.predict(X_test)\n",
    "Y_predict[0: 100]"
   ]
  },
  {
   "cell_type": "code",
   "execution_count": 19,
   "metadata": {},
   "outputs": [
    {
     "data": {
      "text/plain": [
       "(71.0, (13340,))"
      ]
     },
     "execution_count": 19,
     "metadata": {},
     "output_type": "execute_result"
    }
   ],
   "source": [
    "sum(Y_predict), Y_predict.shape"
   ]
  },
  {
   "cell_type": "code",
   "execution_count": 19,
   "metadata": {
    "collapsed": true
   },
   "outputs": [],
   "source": [
    "from sklearn.metrics import classification_report"
   ]
  },
  {
   "cell_type": "code",
   "execution_count": 20,
   "metadata": {
    "collapsed": true
   },
   "outputs": [],
   "source": [
    "report = classification_report(Y_predict, Y_test)"
   ]
  },
  {
   "cell_type": "code",
   "execution_count": 21,
   "metadata": {},
   "outputs": [
    {
     "name": "stdout",
     "output_type": "stream",
     "text": [
      "             precision    recall  f1-score   support\n",
      "\n",
      "        0.0       1.00      0.90      0.95     13280\n",
      "        1.0       0.01      0.17      0.01        60\n",
      "\n",
      "avg / total       0.99      0.90      0.94     13340\n",
      "\n"
     ]
    }
   ],
   "source": [
    "print(report)"
   ]
  },
  {
   "cell_type": "code",
   "execution_count": 22,
   "metadata": {
    "collapsed": true
   },
   "outputs": [],
   "source": [
    "from sklearn.metrics import roc_curve"
   ]
  },
  {
   "cell_type": "code",
   "execution_count": 23,
   "metadata": {},
   "outputs": [
    {
     "data": {
      "text/plain": [
       "array([[ 0.88507775,  0.11492225],\n",
       "       [ 0.62202046,  0.37797954],\n",
       "       [ 0.92168129,  0.07831871],\n",
       "       [ 0.85808104,  0.14191896],\n",
       "       [ 1.        ,  0.        ],\n",
       "       [ 0.91440862,  0.08559138],\n",
       "       [ 0.94960468,  0.05039532],\n",
       "       [ 0.91440862,  0.08559138],\n",
       "       [ 0.92168129,  0.07831871],\n",
       "       [ 0.91440862,  0.08559138]])"
      ]
     },
     "execution_count": 23,
     "metadata": {},
     "output_type": "execute_result"
    }
   ],
   "source": [
    "Y_test_p = pipeline_obj.predict_proba(X_test)\n",
    "Y_test_p[0: 10]"
   ]
  },
  {
   "cell_type": "code",
   "execution_count": 24,
   "metadata": {
    "collapsed": true
   },
   "outputs": [],
   "source": [
    "import matplotlib.pyplot as plt\n",
    "import seaborn as sb"
   ]
  },
  {
   "cell_type": "code",
   "execution_count": 25,
   "metadata": {
    "collapsed": true
   },
   "outputs": [],
   "source": [
    "fpr, tpr, _ = roc_curve(Y_test, Y_test_p[:,1])"
   ]
  },
  {
   "cell_type": "code",
   "execution_count": 26,
   "metadata": {
    "collapsed": true
   },
   "outputs": [],
   "source": [
    "%matplotlib inline"
   ]
  },
  {
   "cell_type": "code",
   "execution_count": 27,
   "metadata": {},
   "outputs": [
    {
     "data": {
      "text/plain": [
       "[<matplotlib.lines.Line2D at 0x11f240f0>]"
      ]
     },
     "execution_count": 27,
     "metadata": {},
     "output_type": "execute_result"
    },
    {
     "data": {
      "image/png": "[encoded data removed]",
      "text/plain": [
       "<matplotlib.figure.Figure at 0x11f24128>"
      ]
     },
     "metadata": {},
     "output_type": "display_data"
    }
   ],
   "source": [
    "sb.set_style(\"darkgrid\")\n",
    "plt.plot(fpr, tpr)\n",
    "plt.plot([0,1],[0,1], \"k-\", color=\"grey\")"
   ]
  },
  {
   "cell_type": "code",
   "execution_count": 28,
   "metadata": {},
   "outputs": [],
   "source": [
    "from sklearn.metrics import roc_auc_score"
   ]
  },
  {
   "cell_type": "code",
   "execution_count": 29,
   "metadata": {},
   "outputs": [
    {
     "data": {
      "text/plain": [
       "0.53985723801100349"
      ]
     },
     "execution_count": 29,
     "metadata": {},
     "output_type": "execute_result"
    }
   ],
   "source": [
    "roc_auc_score(Y_test, Y_test_p[:,1])"
   ]
  },
  {
   "cell_type": "code",
   "execution_count": 30,
   "metadata": {
    "collapsed": true
   },
   "outputs": [],
   "source": [
    "from sklearn.metrics import confusion_matrix"
   ]
  },
  {
   "cell_type": "code",
   "execution_count": 31,
   "metadata": {},
   "outputs": [
    {
     "data": {
      "text/plain": [
       "array([[11955,    50],\n",
       "       [ 1325,    10]], dtype=int64)"
      ]
     },
     "execution_count": 31,
     "metadata": {},
     "output_type": "execute_result"
    }
   ],
   "source": [
    "confusion_matrix(Y_test, Y_predict)"
   ]
  },
  {
   "cell_type": "code",
   "execution_count": 32,
   "metadata": {},
   "outputs": [
    {
     "data": {
      "text/plain": [
       "array([ True,  True,  True, ..., False,  True,  True], dtype=bool)"
      ]
     },
     "execution_count": 32,
     "metadata": {},
     "output_type": "execute_result"
    }
   ],
   "source": [
    "variance_thresh.get_support()"
   ]
  },
  {
   "cell_type": "code",
   "execution_count": 33,
   "metadata": {},
   "outputs": [],
   "source": [
    "selected_variables1 = independent_labels[variance_thresh.get_support()]"
   ]
  },
  {
   "cell_type": "code",
   "execution_count": 34,
   "metadata": {},
   "outputs": [
    {
     "data": {
      "text/plain": [
       "(5432L,)"
      ]
     },
     "execution_count": 34,
     "metadata": {},
     "output_type": "execute_result"
    }
   ],
   "source": [
    "select_k.get_support().shape"
   ]
  },
  {
   "cell_type": "code",
   "execution_count": 35,
   "metadata": {},
   "outputs": [],
   "source": [
    "selected_variables2 = selected_variables1[select_k.get_support()]"
   ]
  },
  {
   "cell_type": "code",
   "execution_count": 36,
   "metadata": {},
   "outputs": [
    {
     "data": {
      "text/plain": [
       "(250L,)"
      ]
     },
     "execution_count": 36,
     "metadata": {},
     "output_type": "execute_result"
    }
   ],
   "source": [
    "selected_variables2.shape"
   ]
  },
  {
   "cell_type": "code",
   "execution_count": 37,
   "metadata": {},
   "outputs": [],
   "source": [
    "features_importances = random_forest.feature_importances_"
   ]
  },
  {
   "cell_type": "code",
   "execution_count": 38,
   "metadata": {},
   "outputs": [
    {
     "data": {
      "text/plain": [
       "(250L,)"
      ]
     },
     "execution_count": 38,
     "metadata": {},
     "output_type": "execute_result"
    }
   ],
   "source": [
    "random_forest.feature_importances_.shape"
   ]
  },
  {
   "cell_type": "code",
   "execution_count": 39,
   "metadata": {
    "collapsed": true
   },
   "outputs": [],
   "source": [
    "import numpy as np"
   ]
  },
  {
   "cell_type": "code",
   "execution_count": 40,
   "metadata": {},
   "outputs": [],
   "source": [
    "decreasing_order_of_features = np.argsort(-1*random_forest.feature_importances_,)"
   ]
  },
  {
   "cell_type": "code",
   "execution_count": 41,
   "metadata": {},
   "outputs": [
    {
     "data": {
      "text/plain": [
       "[('Past history of 30-day inpatient readmissions', 0.064557083605340682),\n",
       " ('Biopsy of mouth, unspecified structure|2001200|P', 0.055621490256407578),\n",
       " ('End stage renal disease|193782|C', 0.04149588345465615),\n",
       " ('High risk drug monitoring status|440927|O', 0.025867138790944384),\n",
       " ('Long-term drug therapy|4141759|P', 0.025669174508722529),\n",
       " ('Body mass index 30+ - obesity|4060985|M', 0.020479903040990073),\n",
       " ('Repair of hypospadias or epispadias|2003874|P', 0.014604654029990687),\n",
       " ('Dysthymia|433440|C', 0.014492562632503781),\n",
       " ('Fall|436583|O', 0.012198520067470188),\n",
       " ('Adverse effect, due to correct medicinal substance properly administered|439221|C',\n",
       "  0.012181759723598667),\n",
       " ('Seizure|377091|C', 0.012154861567498308),\n",
       " ('Cholangitis|195856|C', 0.011110525967680517),\n",
       " ('History of renal transplant|4059356|O', 0.010477358406969568),\n",
       " ('Percutaneous abdominal drainage|2003547|P', 0.010021297415778153),\n",
       " ('Abnormal patient reaction|433656|C', 0.0097756749388455497),\n",
       " ('Infection by methicillin sensitive Staphylococcus aureus|40481816|C',\n",
       "  0.009087827146051641),\n",
       " ('Continuous invasive mechanical ventilation for 96 consecutive hours or more|2008009|P',\n",
       "  0.008740288315063658),\n",
       " ('Injection of anticoagulant|2008264|P', 0.0080926844811653569),\n",
       " ('Closed reduction of fracture without internal fixation, femur|2005415|P',\n",
       "  0.0080138674222051572),\n",
       " ('Breech extraction|2004722|P', 0.0076172416038703152),\n",
       " ('Computerized axial tomography of head|2006634|P', 0.0073899896200813556),\n",
       " ('Urinary tract obstruction|194406|C', 0.0072991387545323161),\n",
       " ('Closed intertrochanteric fracture|136834|C', 0.0072749223282979145),\n",
       " ('Congestive rheumatic heart failure|315295|C', 0.0069503336889411346),\n",
       " ('Respiratory medication administered by nebulizer|2007683|P',\n",
       "  0.0069266879992826349),\n",
       " ('Disturbance of consciousness|376961|C', 0.0069189467516152939),\n",
       " ('Pressure ulcer|135333|C', 0.0068226136995279711),\n",
       " ('Open wound of forehead without complication|138896|C',\n",
       "  0.0068217846931622481),\n",
       " ('Pulmonary tuberculosis|253954|C', 0.0066918601546702133),\n",
       " ('Corticosteroids adverse reaction|439222|C', 0.0066609433289416186),\n",
       " ('Polycythemia vera|135214|C', 0.0059165375931554643),\n",
       " ('Peritonitis|196152|C', 0.0057560183816629312),\n",
       " ('Other excision of common duct|2003265|P', 0.0054705451231802406),\n",
       " ('Renal osteodystrophy|197921|C', 0.005450946285776072),\n",
       " ('Suture of laceration of rectum|2003005|P', 0.0053527907468072927),\n",
       " ('Insertion of totally implantable vascular access device [VAD]|2006516|P',\n",
       "  0.0052811597379325958),\n",
       " ('Bone graft, patella|2005199|P', 0.0051839927231676795),\n",
       " ('Injection or infusion of nesiritide|2000014|P', 0.0049916128500858753),\n",
       " ('Deep venous thrombosis of lower extremity|443537|C', 0.0048343821391141203),\n",
       " ('Lumbar post-laminectomy syndrome|442425|C', 0.0047787394419942578),\n",
       " ('Thoracic spondylosis with myelopathy|79119|C', 0.0047749066704477275),\n",
       " ('Sensorineural hearing loss|374366|C', 0.0047562090876014564),\n",
       " ('Female sterility|4005743|C', 0.0047071077689703131),\n",
       " ('Disorder of rectum|79069|C', 0.0046929161101204996),\n",
       " ('Hemiplegia of dominant side|40482237|C', 0.004648672288912018),\n",
       " ('Other excision or destruction of lesion of uterus|2004449|P',\n",
       "  0.0046473348195976809),\n",
       " ('Replacement of gastrostomy tube|2008023|P', 0.0045893342513689444),\n",
       " ('Delusional disorder|432590|C', 0.0045304821887212597),\n",
       " ('Creation of conduit between atrium and pulmonary artery|2001493|P',\n",
       "  0.0045055366316527155),\n",
       " ('Subdural hemorrhage following injury without open intracranial wound AND with loss of consciousness|433899|C',\n",
       "  0.0044555509146600959),\n",
       " ('Secondary malignant neoplasm of respiratory tract|253717|C',\n",
       "  0.0043626594828050248),\n",
       " ('Infectious disease carrier|4280828|C', 0.0042870202763370877),\n",
       " ('Laparoscopically assisted vaginal hysterectomy (LAVH)|2004467|P',\n",
       "  0.0042836498509387644),\n",
       " ('Secondary malignant neoplasm of skin|136354|C', 0.0042208161496470739),\n",
       " ('Homonymous hemianopia|372897|C', 0.0041444933220575958),\n",
       " ('Percutaneous aspiration of gallbladder|2003188|P', 0.0041026341369161034),\n",
       " ('Contusion of back|140266|C', 0.0040579924252379584),\n",
       " ('Congenital quadriplegia|4173811|C', 0.0040376236241837764),\n",
       " ('Wristdrop|440193|C', 0.0039212146405137116),\n",
       " ('Obsessive-compulsive disorder|440374|C', 0.0039135327780300579),\n",
       " ('Sprain of interphalangeal joint of finger|75954|C', 0.003861080293592205),\n",
       " ('Thrombophlebitis of upper extremities|319054|C', 0.0038570342442066155),\n",
       " ('Chronic graft-versus-host disease|434314|C', 0.0038509361418736241),\n",
       " ('Helicobacter-associated disease|440321|C', 0.0038208744602393121),\n",
       " ('Postartificial menopausal syndrome|440155|C', 0.0037649430545294215),\n",
       " (\"Inactive Meniere's disease|76130|C\", 0.0037539034655175818),\n",
       " ('Vertebrobasilar artery syndrome|376714|C', 0.0037494234135016201),\n",
       " ('Musculoskeletal symptom|137379|C', 0.0037286946407745799),\n",
       " ('Dissection of abdominal aorta|4256889|C', 0.0036890426047801639),\n",
       " ('Vesicular eczema of hands and/or feet|133551|C', 0.0036551972408593943),\n",
       " ('Primary malignant neoplasm of uterine adnexa|200052|C',\n",
       "  0.0036489639003172646),\n",
       " ('Closed reduction of dislocation of hip|2005554|P', 0.0036210357050962243),\n",
       " ('Allergic urticaria|139902|C', 0.0035829623952968286),\n",
       " ('Urticaria|139900|C', 0.0035391169341860164),\n",
       " ('Arteriography of other intrathoracic vessels|2006859|P',\n",
       "  0.0035182028454337345),\n",
       " ('Disorder of the urea cycle metabolism|434311|C', 0.0034091338390137833),\n",
       " ('Suture of laceration of bronchus|2001367|P', 0.0033668494177318694),\n",
       " ('Follicular cyst of ovary|193530|C', 0.0033651604413269648),\n",
       " ('Paralytic syndrome as late effect of stroke|372654|C',\n",
       "  0.0033616139374887505),\n",
       " ('Postpartum cardiomyopathy|312383|C', 0.003341244708456855),\n",
       " ('Other diagnostic procedures on pharynx|2001254|P', 0.0032881031127860103),\n",
       " ('Tenosynovitis of foot|443111|C', 0.0032687329515101462),\n",
       " ('Alcohol hallucinosis|372607|C', 0.0032323252110730903),\n",
       " ('Closed fracture of T7-T12 level with spinal cord injury|313608|C',\n",
       "  0.0032200675724706621),\n",
       " ('Percutaneous hepatic cholangiogram|2006712|P', 0.0031668242108222593),\n",
       " ('Injection of anesthetic into sympathetic nerve for analgesia|2000252|P',\n",
       "  0.0031558851535361206),\n",
       " ('Chorea|440990|C', 0.0031497935474239964),\n",
       " ('Neutropenia associated with infectious disease|432589|C',\n",
       "  0.0031039466524665012),\n",
       " ('Child attention deficit disorder|440086|C', 0.0030969640730102127),\n",
       " ('Senile corneal changes|375550|C', 0.0030200691155046317),\n",
       " ('Excision or destruction of lesion or tissue of mediastinum|2001409|P',\n",
       "  0.0030194142156021934),\n",
       " ('Congenital anomaly of coronary artery|321109|C', 0.0029483109253074474),\n",
       " ('Closure of nephrostomy and pyelostomy|2003630|P', 0.0029393709084044851),\n",
       " ('Current tear of medial cartilage AND/OR meniscus of knee|80242|C',\n",
       "  0.0029286063345023068),\n",
       " ('Third degree burn of multiple sites of upper limb|40440777|C',\n",
       "  0.0029124074938974946),\n",
       " ('Combined alcohol and drug rehabilitation|2007802|P', 0.002873772613640226),\n",
       " ('Closed reduction of dislocation of shoulder|2005540|P',\n",
       "  0.0028463676576949166),\n",
       " ('Chondrocalcinosis due to dicalcium phosphate crystals|437629|C',\n",
       "  0.002836257549210585),\n",
       " ('Other x-ray of prostate and seminal vesicles|2006774|P',\n",
       "  0.0028291149282937298),\n",
       " ('Other lysis of perirenal or periureteral adhesions|2003898|P',\n",
       "  0.0027648634141916079),\n",
       " ('Diagnostic interview and evaluation, not otherwise specified|2006980|P',\n",
       "  0.0027452679163331413),\n",
       " ('Vitamin K deficiency|435781|C', 0.0027085226155035909),\n",
       " ('Repair of vertebral fracture|2000180|P', 0.0026683137059124169),\n",
       " ('Staphylococcal pneumonia|259852|C', 0.0026597336340260305),\n",
       " ('Testicular hypofunction|26662|C', 0.0026492717610435462),\n",
       " ('Physical abuse of adult|439391|O', 0.0026319695735024847),\n",
       " ('Laparoscopic liver biopsy|2003142|P', 0.0026261927807747182),\n",
       " ('Diagnostic procedures on bone, not elsewhere classified, other bones|2005376|P',\n",
       "  0.0025962824500759614),\n",
       " ('Heterotransplant of pancreas|2003367|P', 0.0025957319790297969),\n",
       " ('Accident caused by fire and flames|432504|O', 0.0025818805486182775),\n",
       " ('Other enterostomy|2002828|P', 0.0025726477659470275),\n",
       " ('Evans syndrome|436956|C', 0.0025561054811585001),\n",
       " ('Other anastomosis or bypass of ureter|2003724|P', 0.0025486027745133567),\n",
       " ('Accidental poisoning|436581|C', 0.0025376868105351585),\n",
       " ('Bundle branch block|313791|C', 0.0025149662407056646),\n",
       " ('Closure of skin and subcutaneous tissue of other sites|2006554|P',\n",
       "  0.0024611496737060815),\n",
       " ('Chronic duodenal ulcer with hemorrhage AND with perforation but without obstruction|438796|C',\n",
       "  0.0024296272558306342),\n",
       " ('Bereavement|4252735|O', 0.0023849952179153195),\n",
       " ('Panic disorder with agoraphobia|4147466|C', 0.0023834640458231396),\n",
       " ('Syphilis|436033|C', 0.0023788298127321505),\n",
       " ('Other operations on one extraocular muscle|2000689|P',\n",
       "  0.002361165773080663),\n",
       " ('Malignant lymphoma of lymph nodes of axilla AND/OR upper limb|441521|C',\n",
       "  0.0023331050030538799),\n",
       " ('Internal carotid artery dissection|45772779|C', 0.0022913372577291176),\n",
       " ('Other diagnostic procedures on kidney|2003590|P', 0.0022735464427705195),\n",
       " ('Parasympathomimetic adverse reaction|435163|C', 0.0021955023889677272),\n",
       " ('Resection of vessel with anastomosis, lower limb veins|2002068|P',\n",
       "  0.0021866287425326807),\n",
       " ('Sick-euthyroid syndrome|137991|C', 0.0021622812596946463),\n",
       " ('Noncollision motor vehicle traffic accident involving injury by being thrown against some part of, or object in, motor vehicle w',\n",
       "  0.0020853487119210914),\n",
       " ('Reactive confusion|441540|C', 0.0020802869835372688),\n",
       " ('Drug-induced psychosis|434900|C', 0.0020569642985431144),\n",
       " ('Ventricular flutter|433225|C', 0.0020451344047331746),\n",
       " ('Joint stiffness|72404|C', 0.0020444497199971611),\n",
       " ('Alcohol-induced psychotic disorder with delusions|442582|C',\n",
       "  0.0020271553967810651),\n",
       " ('Ureteric fistula|200766|C', 0.00202330489492436),\n",
       " ('Gender identity disorder of adulthood|443625|C', 0.0020221026072066691),\n",
       " ('Factitious disorder with combined physical AND psychological symptoms|433993|C',\n",
       "  0.002020899481381263),\n",
       " ('Replacement of other device for musculoskeletal immobilization|2008031|P',\n",
       "  0.0020204405796176773),\n",
       " ('Pruritic rash|135618|C', 0.0020199466208996337),\n",
       " ('Chickenpox with complication|437791|C', 0.0020188726315205196),\n",
       " ('Primary malignant neoplasm of long bone of lower limb|436640|C',\n",
       "  0.0020173894465158691),\n",
       " ('Osteoclasis, tibia and fibula|2005353|P', 0.0019980540226680423),\n",
       " ('Removal of peripheral neurostimulator lead(s)|2000237|P',\n",
       "  0.0019958092902012097),\n",
       " ('Other repair and plastic operations on lung|2001371|P',\n",
       "  0.0019853035837884493),\n",
       " ('Lysis of goniosynechiae|2000520|P', 0.001978506302693995),\n",
       " ('Orbital hemorrhage|433778|C', 0.0019762307538762356),\n",
       " ('Industrial accident|437748|O', 0.0019744918536336682),\n",
       " ('Closed reduction of fracture without internal fixation, carpals and metacarpals|2005413|P',\n",
       "  0.0019673372626905525),\n",
       " ('Revision of tracheostomy|2001309|P', 0.0019667233082694999),\n",
       " ('Pure red cell aplasia|140065|C', 0.0019666533971425884),\n",
       " ('Acquired postural lordosis|78842|C', 0.0019624518775118384),\n",
       " ('Biopsy of facial bone|2004868|P', 0.0019606011666780821),\n",
       " ('Peripheral retinal degeneration|437267|C', 0.001957495121139016),\n",
       " ('Endoscopy of small intestine through artificial stoma|2002684|P',\n",
       "  0.0019550012026527818),\n",
       " ('Acute peptic ulcer with hemorrhage AND with perforation but without obstruction|27026|C',\n",
       "  0.0019532447271402575),\n",
       " ('Injury of superficial nerves of head AND/OR neck|200611|C',\n",
       "  0.0019514934446841223),\n",
       " ('DiGeorge sequence|141831|C', 0.0019491804974362073),\n",
       " ('Biopsy of diaphragm|2001406|P', 0.0019486802185350147),\n",
       " ('Consultation, described as limited|2006981|P', 0.0019480902235236783),\n",
       " ('Measurement of mixed venous blood gases|2007102|P', 0.0019443200068890944),\n",
       " ('Anal fistulectomy|2003048|P', 0.0019400602695483029),\n",
       " ('Laceration of kidney without open wound into abdominal cavity|194200|C',\n",
       "  0.001935793179214403),\n",
       " ('Infection of skin AND/OR subcutaneous tissue|201093|C',\n",
       "  0.001935159922801489),\n",
       " ('Prune belly syndrome|201397|C', 0.0019348990494395708),\n",
       " ('Refusion of other cervical spine, posterior column, posterior technique|2005864|P',\n",
       "  0.0019338925124930018),\n",
       " ('Acquired red cell aplasia|138723|C', 0.0019319089268199376),\n",
       " ('Common arterial trunk|441950|C', 0.0019293891170131584),\n",
       " ('Bursotomy|2006107|P', 0.0019283394340085392),\n",
       " ('Cared for by family|4144149|O', 0.0019251098959979372),\n",
       " ('Acquired trigger finger|77965|C', 0.0019220041649257993),\n",
       " ('Shoulder stiff|72711|C', 0.0019213907179064624),\n",
       " ('Closed fracture of femur, lower epiphysis|437130|C', 0.0019124987378674227),\n",
       " ('Congenital nystagmus|373489|C', 0.0019101984578884876),\n",
       " ('Tuberculosis of meninges|441775|C', 0.0019101958850173914),\n",
       " ('Total body scan|2007466|P', 0.0019100663695822198),\n",
       " ('Malignant secondary hypertension|318437|C', 0.0019063036158827782),\n",
       " ('Malignant neoplasm of cerebrum|4091490|C', 0.0018997897535227961),\n",
       " ('Anomaly of tooth position|433243|C', 0.0018933967504578828),\n",
       " ('Anastomosis of kidney|2003644|P', 0.0018933660904439378),\n",
       " ('Removal of foreign body from scrotum or penis without incision|2008212|P',\n",
       "  0.0018909383651692817),\n",
       " ('Monoplegia|381548|C', 0.0018909034522635389),\n",
       " ('Pica|437839|C', 0.0018894859925592015),\n",
       " ('Contusion of axillary region|434212|C', 0.0018858162422195396),\n",
       " ('Nodular lymphoma of lymph nodes of head, face and neck|435207|C',\n",
       "  0.0018833098287583234),\n",
       " ('Nontraumatic rupture of bladder|197037|C', 0.0018832867449115893),\n",
       " ('Excision of bone for graft, tibia and fibula|2005136|P',\n",
       "  0.001880926215656033),\n",
       " ('Open chest transmyocardial revascularization|2001520|P',\n",
       "  0.0018765604585130853),\n",
       " ('Repair of blood vessel with tissue patch graft|2002228|P',\n",
       "  0.0018730690745582391),\n",
       " ('Mixed conductive AND sensorineural hearing loss|379832|C',\n",
       "  0.0018717872385008581),\n",
       " ('Pruritus ani|200169|C', 0.0018665455244905684),\n",
       " ('Osteoarthritis of elbow|4083695|C', 0.0018605624751269836),\n",
       " ('Adverse reaction to eye drug|440016|C', 0.0018570791487227088),\n",
       " ('Benign neoplasm of nervous system|373432|C', 0.0018569628383397986),\n",
       " ('Vaccination against rubella|2008333|P', 0.0018533784418291368),\n",
       " ('Excision of deep cervical lymph node|2002303|P', 0.0018531826538356359),\n",
       " ('Excision of semilunar cartilage of knee|2005724|P', 0.0018516776041965601),\n",
       " ('Diabetic macular edema|380097|C', 0.0018492366247977105),\n",
       " ('Overlapping malignant neoplasm of oropharynx|438691|C',\n",
       "  0.0018472413158717243),\n",
       " ('Other rehabilitation therapy|2007672|P', 0.0018428365136553514),\n",
       " ('Irrigation of gastrostomy or enterostomy|2007961|P', 0.0018337867639156165),\n",
       " ('Primary malignant neoplasm of thymus|438368|C', 0.0018315077063753749),\n",
       " ('Complex endometrial hyperplasia|198471|C', 0.0018300648739371344),\n",
       " ('Dental restoration finding|4150307|C', 0.0018188811280512452),\n",
       " ('Computerized axial tomography of kidney|2006736|P', 0.0018090906261428192),\n",
       " ('Closure of anal fistula|2003104|P', 0.0018066369114126644),\n",
       " ('Closure of other fistula of trachea|2001308|P', 0.001800822044802455),\n",
       " ('Cerebellar ataxia|435242|C', 0.0017926141978767921),\n",
       " ('Other and unspecified pneumonectomy|2001343|P', 0.0017878282534127367),\n",
       " ('Nystagmus associated with disorder of the vestibular system|377568|C',\n",
       "  0.0017516184549233988),\n",
       " ('Other operations on bronchus|2001386|P', 0.0017371190101594677),\n",
       " ('Chronic leukemia|140057|C', 0.001710647328137623),\n",
       " ('Calcific tendinitis of shoulder|441946|C', 0.0017065824328657837),\n",
       " ('Other operations on septa of heart|2001496|P', 0.0017063405049572147),\n",
       " ('Primary malignant neoplasm of scrotum|79758|C', 0.0017061348122650746),\n",
       " ('Central nervous system depressants and anesthetic agent poisoning|443224|C',\n",
       "  0.0016995610284807419),\n",
       " ('High-dose infusion interleukin-2 [IL-2]|2000016|P', 0.0016898470868077604),\n",
       " ('Open biopsy of liver|2003130|P', 0.0016760857650366988),\n",
       " ('Excision of cystic duct remnant|2003263|P', 0.0016733908527790194),\n",
       " ('Insertion or replacement of pedicle-based dynamic stabilization device(s)|2006357|P',\n",
       "  0.0016566457231030542),\n",
       " ('Lipoma of intrathoracic organs|433167|C', 0.0016471763234384609),\n",
       " ('Loss of consciousness|372448|C', 0.0016183335941412683),\n",
       " ('Sprain of foot|436253|C', 0.001612817914757323),\n",
       " ('Internal fixation of bone without fracture reduction, tarsals and metatarsals|2005312|P',\n",
       "  0.0015145208882247694),\n",
       " ('Closed fracture of base of metacarpal bone other than first metacarpal|440855|C',\n",
       "  0.0014763277039089205),\n",
       " ('Accident caused by machinery|432534|O', 0.0014615938348253479),\n",
       " ('Intrauterine synechiae|197927|C', 0.001406695539270478),\n",
       " ('Central retinal vein occlusion|313761|C', 0.0013927768800010081),\n",
       " ('Wrist pyogenic arthritis|4344398|C', 0.001385334943140789),\n",
       " ('Repair of diaphragmatic hernia, abdominal approach|2003466|P',\n",
       "  0.0013325102523524999),\n",
       " ('Lymphangioma|433997|C', 0.00131419109095352),\n",
       " ('Transurethral removal of obstruction from ureter and renal pelvis|2003668|P',\n",
       "  0.0012986392031896069),\n",
       " ('Schizotypal personality disorder|434010|C', 0.0012774553167435576),\n",
       " ('Pollicization operation carrying over nerves and blood supply|2006051|P',\n",
       "  0.0012312484724356268),\n",
       " ('Internal fixation of bone without fracture reduction, radius and ulna|2005297|P',\n",
       "  0.0011484168497863862),\n",
       " ('Closed fracture of vault of skull without intracranial injury|441133|C',\n",
       "  0.0011436057251373805),\n",
       " ('Superficial injury of hand without infection|80591|C',\n",
       "  0.0010892073756962519),\n",
       " ('Primary malignant neoplasm of spleen|193418|C', 0.0010492822155647758),\n",
       " ('Closed traumatic dislocation of joint of wrist|437406|C',\n",
       "  0.0010470149161887238),\n",
       " ('Chronic post-traumatic headache|377546|C', 0.00098805640047262529),\n",
       " ('Premature/false labor|4125778|C', 0.00097137252324363751),\n",
       " ('Cortex contusion without open intracranial wound|440858|C',\n",
       "  0.00089385306559086966),\n",
       " ('Transfusion of coagulation factors|2008240|P', 0.00079824302388294718),\n",
       " ('Infective/parasitic disease in preg/childbirth/puerperium|433266|C',\n",
       "  0.0007920906711228981),\n",
       " ('Second degree burn of upper limb|441177|C', 0.00070378842954084474),\n",
       " ('Microscopic examination of peritoneal and retroperitoneal specimen, toxicology|2007313|P',\n",
       "  0.00066981498109038235),\n",
       " ('Primary malignant neoplasm of pelvic bones, sacrum and coccyx|72566|C',\n",
       "  0.00064081869733895972),\n",
       " ('Third degree burn of forehead AND/OR cheek|138033|C',\n",
       "  0.00063323142044049822),\n",
       " ('Administration of intelligence test|2007691|P', 0.00058878857897381618),\n",
       " ('Midtarsal fusion|2005834|P', 0.00056079044811004129),\n",
       " ('Full thickness burn of a single finger|77180|C', 0.00044347422108378568),\n",
       " ('Injury of unknown intent by burns or fire|432810|C',\n",
       "  0.00038795827687900718)]"
      ]
     },
     "execution_count": 41,
     "metadata": {},
     "output_type": "execute_result"
    }
   ],
   "source": [
    "[(selected_variables2[decreasing_order_of_features][i], features_importances[decreasing_order_of_features][i]) \n",
    " for i in range(features_importances.shape[0])]"
   ]
  },
  {
   "cell_type": "code",
   "execution_count": null,
   "metadata": {
    "collapsed": true
   },
   "outputs": [],
   "source": []
  }
 ],
 "metadata": {
  "kernelspec": {
   "display_name": "Python 3",
   "language": "python",
   "name": "python3"
  },
  "language_info": {
   "codemirror_mode": {
    "name": "ipython",
    "version": 3
   },
   "file_extension": ".py",
   "mimetype": "text/x-python",
   "name": "python",
   "nbconvert_exporter": "python",
   "pygments_lexer": "ipython3",
   "version": "3.6.6"
  }
 },
 "nbformat": 4,
 "nbformat_minor": 1
}
