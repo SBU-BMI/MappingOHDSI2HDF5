{
 "cells": [
  {
   "cell_type": "code",
   "execution_count": 1,
   "metadata": {
    "collapsed": true
   },
   "outputs": [],
   "source": [
    "import h5py\n",
    "import numpy as np"
   ]
  },
  {
   "cell_type": "code",
   "execution_count": 2,
   "metadata": {
    "collapsed": true
   },
   "outputs": [],
   "source": [
    "f5 = h5py.File(\"inpatient_readmission_analysis.hdf5\", \"r\")"
   ]
  },
  {
   "cell_type": "code",
   "execution_count": 3,
   "metadata": {
    "collapsed": false
   },
   "outputs": [
    {
     "data": {
      "text/plain": [
       "(66700L, 5686L)"
      ]
     },
     "execution_count": 3,
     "metadata": {},
     "output_type": "execute_result"
    }
   ],
   "source": [
    "independent_array = f5[\"/independent/core_array\"][...]\n",
    "independent_array.shape"
   ]
  },
  {
   "cell_type": "code",
   "execution_count": 4,
   "metadata": {
    "collapsed": false
   },
   "outputs": [
    {
     "data": {
      "text/plain": [
       "array(['age_at_visit_start_in_years_int', 'Length of stay in days',\n",
       "       'gender_concept_name|FEMALE',\n",
       "       'Past history of 30-day inpatient readmissions',\n",
       "       'No matching concept|0|C',\n",
       "       'Gingival and periodontal disease|132344|C',\n",
       "       'Staphylococcal scalded skin syndrome|132392|C',\n",
       "       'Pressure ulcer stage 1|132393|C',\n",
       "       'Post-laminectomy syndrome|132412|C',\n",
       "       'Chronic osteomyelitis of hand|132414|C'],\n",
       "      dtype='|S128')"
      ]
     },
     "execution_count": 4,
     "metadata": {},
     "output_type": "execute_result"
    }
   ],
   "source": [
    "independent_labels = f5[\"/independent/column_annotations\"][...]\n",
    "independent_labels[0: 10]"
   ]
  },
  {
   "cell_type": "code",
   "execution_count": 5,
   "metadata": {
    "collapsed": false
   },
   "outputs": [
    {
     "data": {
      "text/plain": [
       "(66700L,)"
      ]
     },
     "execution_count": 5,
     "metadata": {},
     "output_type": "execute_result"
    }
   ],
   "source": [
    "dependent_array = f5[\"/dependent/core_array\"][...]\n",
    "dependent_array = np.ndarray.flatten(dependent_array)\n",
    "dependent_array.shape"
   ]
  },
  {
   "cell_type": "code",
   "execution_count": 6,
   "metadata": {
    "collapsed": false
   },
   "outputs": [
    {
     "data": {
      "text/plain": [
       "6421.0"
      ]
     },
     "execution_count": 6,
     "metadata": {},
     "output_type": "execute_result"
    }
   ],
   "source": [
    "np.sum(dependent_array)"
   ]
  },
  {
   "cell_type": "code",
   "execution_count": 7,
   "metadata": {
    "collapsed": false
   },
   "outputs": [
    {
     "data": {
      "text/plain": [
       "6000119"
      ]
     },
     "execution_count": 7,
     "metadata": {},
     "output_type": "execute_result"
    }
   ],
   "source": [
    "np.sum(independent_array)"
   ]
  },
  {
   "cell_type": "code",
   "execution_count": 8,
   "metadata": {
    "collapsed": false
   },
   "outputs": [
    {
     "data": {
      "text/plain": [
       "array(['30-day inpatient readmission'],\n",
       "      dtype='|S128')"
      ]
     },
     "execution_count": 8,
     "metadata": {},
     "output_type": "execute_result"
    }
   ],
   "source": [
    "dependent_labels = f5[\"/dependent/column_annotations\"][...]\n",
    "dependent_labels"
   ]
  },
  {
   "cell_type": "code",
   "execution_count": 9,
   "metadata": {
    "collapsed": false
   },
   "outputs": [
    {
     "data": {
      "text/plain": [
       "'0.19.1'"
      ]
     },
     "execution_count": 9,
     "metadata": {},
     "output_type": "execute_result"
    }
   ],
   "source": [
    "import sklearn\n",
    "sklearn.__version__"
   ]
  },
  {
   "cell_type": "code",
   "execution_count": 10,
   "metadata": {
    "collapsed": false
   },
   "outputs": [],
   "source": [
    "from sklearn.model_selection import train_test_split"
   ]
  },
  {
   "cell_type": "code",
   "execution_count": 11,
   "metadata": {
    "collapsed": false
   },
   "outputs": [],
   "source": [
    "X_train, X_test, Y_train, Y_test = train_test_split(independent_array, dependent_array, test_size=0.2)"
   ]
  },
  {
   "cell_type": "code",
   "execution_count": 12,
   "metadata": {
    "collapsed": false
   },
   "outputs": [
    {
     "data": {
      "text/plain": [
       "array([[83,  6,  1, ...,  0,  0,  0],\n",
       "       [64, 11,  1, ...,  0,  0,  0],\n",
       "       [76,  4,  0, ...,  0,  0,  0],\n",
       "       ..., \n",
       "       [86,  4,  1, ...,  0,  0,  0],\n",
       "       [63,  6,  1, ...,  0,  0,  0],\n",
       "       [29,  5,  1, ...,  0,  0,  0]])"
      ]
     },
     "execution_count": 12,
     "metadata": {},
     "output_type": "execute_result"
    }
   ],
   "source": [
    "X_test"
   ]
  },
  {
   "cell_type": "code",
   "execution_count": 13,
   "metadata": {
    "collapsed": true
   },
   "outputs": [],
   "source": [
    "from sklearn.pipeline import Pipeline"
   ]
  },
  {
   "cell_type": "code",
   "execution_count": 14,
   "metadata": {
    "collapsed": true
   },
   "outputs": [],
   "source": [
    "from sklearn.feature_selection import VarianceThreshold\n",
    "from sklearn.feature_selection import SelectKBest\n",
    "from sklearn.ensemble import RandomForestClassifier"
   ]
  },
  {
   "cell_type": "code",
   "execution_count": 15,
   "metadata": {
    "collapsed": true
   },
   "outputs": [],
   "source": [
    "variance_thresh = VarianceThreshold()\n",
    "select_k = SelectKBest(k=250)\n",
    "random_forest = RandomForestClassifier(n_estimators=500)\n",
    "\n",
    "pipeline_steps = [(\"remove_zero_variance\", variance_thresh), \n",
    "                  (\"select_features\", select_k), \n",
    "                  (\"random_forest\", random_forest)]"
   ]
  },
  {
   "cell_type": "code",
   "execution_count": 16,
   "metadata": {
    "collapsed": true
   },
   "outputs": [],
   "source": [
    "pipeline_obj = Pipeline(pipeline_steps)"
   ]
  },
  {
   "cell_type": "code",
   "execution_count": 17,
   "metadata": {
    "collapsed": false
   },
   "outputs": [
    {
     "data": {
      "text/plain": [
       "Pipeline(memory=None,\n",
       "     steps=[('remove_zero_variance', VarianceThreshold(threshold=0.0)), ('select_features', SelectKBest(k=250, score_func=<function f_classif at 0x000000000719F208>)), ('random_forest', RandomForestClassifier(bootstrap=True, class_weight=None, criterion='gini',\n",
       "            max_depth=None, max_features='a...n_jobs=1,\n",
       "            oob_score=False, random_state=None, verbose=0,\n",
       "            warm_start=False))])"
      ]
     },
     "execution_count": 17,
     "metadata": {},
     "output_type": "execute_result"
    }
   ],
   "source": [
    "pipeline_obj.fit(X_train, Y_train)"
   ]
  },
  {
   "cell_type": "code",
   "execution_count": 18,
   "metadata": {
    "collapsed": false
   },
   "outputs": [
    {
     "data": {
      "text/plain": [
       "array([ 0.,  0.,  0.,  0.,  0.,  0.,  0.,  0.,  0.,  0.,  0.,  0.,  0.,\n",
       "        0.,  0.,  0.,  0.,  0.,  0.,  0.,  0.,  0.,  0.,  0.,  0.,  0.,\n",
       "        0.,  0.,  0.,  0.,  0.,  0.,  0.,  0.,  0.,  0.,  0.,  0.,  0.,\n",
       "        0.,  0.,  0.,  0.,  0.,  0.,  0.,  0.,  0.,  0.,  0.,  0.,  0.,\n",
       "        0.,  0.,  0.,  0.,  0.,  0.,  0.,  0.,  0.,  0.,  0.,  0.,  0.,\n",
       "        0.,  0.,  0.,  0.,  0.,  0.,  0.,  0.,  0.,  0.,  0.,  0.,  0.,\n",
       "        0.,  0.,  0.,  0.,  0.,  0.,  0.,  0.,  0.,  0.,  0.,  0.,  0.,\n",
       "        0.,  0.,  0.,  0.,  0.,  0.,  0.,  0.,  0.], dtype=float32)"
      ]
     },
     "execution_count": 18,
     "metadata": {},
     "output_type": "execute_result"
    }
   ],
   "source": [
    "Y_predict = pipeline_obj.predict(X_test)\n",
    "Y_predict[0: 100]"
   ]
  },
  {
   "cell_type": "code",
   "execution_count": 19,
   "metadata": {
    "collapsed": true
   },
   "outputs": [],
   "source": [
    "from sklearn.metrics import classification_report"
   ]
  },
  {
   "cell_type": "code",
   "execution_count": 20,
   "metadata": {
    "collapsed": true
   },
   "outputs": [],
   "source": [
    "report = classification_report(Y_predict, Y_test)"
   ]
  },
  {
   "cell_type": "code",
   "execution_count": 21,
   "metadata": {
    "collapsed": false
   },
   "outputs": [
    {
     "name": "stdout",
     "output_type": "stream",
     "text": [
      "             precision    recall  f1-score   support\n",
      "\n",
      "        0.0       1.00      0.90      0.95     13281\n",
      "        1.0       0.00      0.07      0.01        59\n",
      "\n",
      "avg / total       0.99      0.90      0.94     13340\n",
      "\n"
     ]
    }
   ],
   "source": [
    "print(report)"
   ]
  },
  {
   "cell_type": "code",
   "execution_count": 22,
   "metadata": {
    "collapsed": true
   },
   "outputs": [],
   "source": [
    "from sklearn.metrics import roc_curve"
   ]
  },
  {
   "cell_type": "code",
   "execution_count": 23,
   "metadata": {
    "collapsed": false
   },
   "outputs": [
    {
     "data": {
      "text/plain": [
       "array([[ 0.91390741,  0.08609259],\n",
       "       [ 0.91390741,  0.08609259],\n",
       "       [ 0.91390741,  0.08609259],\n",
       "       [ 0.91390741,  0.08609259],\n",
       "       [ 0.91390741,  0.08609259],\n",
       "       [ 0.90110616,  0.09889384],\n",
       "       [ 0.89754901,  0.10245099],\n",
       "       [ 0.90110616,  0.09889384],\n",
       "       [ 0.90376927,  0.09623073],\n",
       "       [ 0.71674551,  0.28325449]])"
      ]
     },
     "execution_count": 23,
     "metadata": {},
     "output_type": "execute_result"
    }
   ],
   "source": [
    "Y_test_p = pipeline_obj.predict_proba(X_test)\n",
    "Y_test_p[0: 10]"
   ]
  },
  {
   "cell_type": "code",
   "execution_count": 24,
   "metadata": {
    "collapsed": true
   },
   "outputs": [],
   "source": [
    "import matplotlib.pyplot as plt\n",
    "import seaborn as sb"
   ]
  },
  {
   "cell_type": "code",
   "execution_count": 25,
   "metadata": {
    "collapsed": true
   },
   "outputs": [],
   "source": [
    "fpr, tpr, _ = roc_curve(Y_test, Y_test_p[:,1])"
   ]
  },
  {
   "cell_type": "code",
   "execution_count": 26,
   "metadata": {
    "collapsed": true
   },
   "outputs": [],
   "source": [
    "%matplotlib inline"
   ]
  },
  {
   "cell_type": "code",
   "execution_count": 27,
   "metadata": {
    "collapsed": false
   },
   "outputs": [
    {
     "data": {
      "text/plain": [
       "[<matplotlib.lines.Line2D at 0x10b83be0>]"
      ]
     },
     "execution_count": 27,
     "metadata": {},
     "output_type": "execute_result"
    },
    {
     "data": {
      "image/png": "[encoded data removed]",
      "text/plain": [
       "<matplotlib.figure.Figure at 0x10b83ba8>"
      ]
     },
     "metadata": {},
     "output_type": "display_data"
    }
   ],
   "source": [
    "sb.set_style(\"darkgrid\")\n",
    "plt.plot(fpr, tpr)\n",
    "plt.plot([0,1],[0,1], \"k-\", color=\"grey\")"
   ]
  },
  {
   "cell_type": "code",
   "execution_count": 28,
   "metadata": {
    "collapsed": false
   },
   "outputs": [],
   "source": [
    "from sklearn.metrics import roc_auc_score"
   ]
  },
  {
   "cell_type": "code",
   "execution_count": 29,
   "metadata": {
    "collapsed": false
   },
   "outputs": [
    {
     "data": {
      "text/plain": [
       "0.53082336976838507"
      ]
     },
     "execution_count": 29,
     "metadata": {},
     "output_type": "execute_result"
    }
   ],
   "source": [
    "roc_auc_score(Y_test, Y_test_p[:,1])"
   ]
  },
  {
   "cell_type": "code",
   "execution_count": 30,
   "metadata": {
    "collapsed": true
   },
   "outputs": [],
   "source": [
    "from sklearn.metrics import confusion_matrix"
   ]
  },
  {
   "cell_type": "code",
   "execution_count": 31,
   "metadata": {
    "collapsed": false
   },
   "outputs": [
    {
     "data": {
      "text/plain": [
       "array([[11994,    55],\n",
       "       [ 1287,     4]], dtype=int64)"
      ]
     },
     "execution_count": 31,
     "metadata": {},
     "output_type": "execute_result"
    }
   ],
   "source": [
    "confusion_matrix(Y_test, Y_predict)"
   ]
  },
  {
   "cell_type": "code",
   "execution_count": 32,
   "metadata": {
    "collapsed": false
   },
   "outputs": [
    {
     "data": {
      "text/plain": [
       "array([ True,  True,  True, ...,  True,  True,  True], dtype=bool)"
      ]
     },
     "execution_count": 32,
     "metadata": {},
     "output_type": "execute_result"
    }
   ],
   "source": [
    "variance_thresh.get_support()"
   ]
  },
  {
   "cell_type": "code",
   "execution_count": 33,
   "metadata": {
    "collapsed": false
   },
   "outputs": [],
   "source": [
    "selected_variables1 = independent_labels[variance_thresh.get_support()]"
   ]
  },
  {
   "cell_type": "code",
   "execution_count": 34,
   "metadata": {
    "collapsed": false
   },
   "outputs": [
    {
     "data": {
      "text/plain": [
       "(5443L,)"
      ]
     },
     "execution_count": 34,
     "metadata": {},
     "output_type": "execute_result"
    }
   ],
   "source": [
    "select_k.get_support().shape"
   ]
  },
  {
   "cell_type": "code",
   "execution_count": 35,
   "metadata": {
    "collapsed": false
   },
   "outputs": [],
   "source": [
    "selected_variables2 = selected_variables1[select_k.get_support()]"
   ]
  },
  {
   "cell_type": "code",
   "execution_count": 36,
   "metadata": {
    "collapsed": false
   },
   "outputs": [
    {
     "data": {
      "text/plain": [
       "(250L,)"
      ]
     },
     "execution_count": 36,
     "metadata": {},
     "output_type": "execute_result"
    }
   ],
   "source": [
    "selected_variables2.shape"
   ]
  },
  {
   "cell_type": "code",
   "execution_count": 37,
   "metadata": {
    "collapsed": false
   },
   "outputs": [],
   "source": [
    "features_importances = random_forest.feature_importances_"
   ]
  },
  {
   "cell_type": "code",
   "execution_count": 38,
   "metadata": {
    "collapsed": false
   },
   "outputs": [
    {
     "data": {
      "text/plain": [
       "(250L,)"
      ]
     },
     "execution_count": 38,
     "metadata": {},
     "output_type": "execute_result"
    }
   ],
   "source": [
    "random_forest.feature_importances_.shape"
   ]
  },
  {
   "cell_type": "code",
   "execution_count": 39,
   "metadata": {
    "collapsed": true
   },
   "outputs": [],
   "source": [
    "import numpy as np"
   ]
  },
  {
   "cell_type": "code",
   "execution_count": 40,
   "metadata": {
    "collapsed": false
   },
   "outputs": [],
   "source": [
    "decreasing_order_of_features = np.argsort(-1*random_forest.feature_importances_,)"
   ]
  },
  {
   "cell_type": "code",
   "execution_count": 41,
   "metadata": {
    "collapsed": false
   },
   "outputs": [
    {
     "data": {
      "text/plain": [
       "[('Hypertensive renal disease with renal failure|439697|C',\n",
       "  0.050012513946377915),\n",
       " ('Past history of 30-day inpatient readmissions', 0.040812243232893897),\n",
       " ('End stage renal disease|193782|C', 0.039753207232488215),\n",
       " ('No matching concept|0|O', 0.033277621355126144),\n",
       " ('High risk drug monitoring status|440927|O', 0.028691072431022174),\n",
       " ('Correction of cleft palate|2001221|P', 0.023170446836818969),\n",
       " ('Long-term drug therapy|4141759|P', 0.021309350634301047),\n",
       " ('Repair of hypospadias or epispadias|2003874|P', 0.016413745315967777),\n",
       " ('Body mass index 30+ - obesity|4060985|M', 0.016258087588215897),\n",
       " ('Acute on chronic diastolic heart failure|40481043|C', 0.015836983631949221),\n",
       " ('Postoperative infection|437474|C', 0.015363834224134999),\n",
       " ('Dysthymia|433440|C', 0.013741020237324627),\n",
       " ('Excisional debridement of wound, infection, or burn|2006533|P',\n",
       "  0.012688492559476416),\n",
       " ('Adverse effect, due to correct medicinal substance properly administered|439221|C',\n",
       "  0.011197910429358544),\n",
       " ('Complication of surgical procedure|434547|C', 0.010930561529880662),\n",
       " ('Abnormal patient reaction|433656|C', 0.01076565066285797),\n",
       " ('Infection by methicillin sensitive Staphylococcus aureus|40481816|C',\n",
       "  0.010616223591945678),\n",
       " ('Fixation of intestine, not otherwise specified|2002849|P',\n",
       "  0.010426941013549634),\n",
       " ('Complication of procedure|442019|C', 0.0098240131971640051),\n",
       " ('Closed intertrochanteric fracture|136834|C', 0.0095051687724499994),\n",
       " ('Fall|436583|O', 0.0093790636472022623),\n",
       " ('Fall on same level from slipping, tripping or stumbling|437175|O',\n",
       "  0.0091953683275433976),\n",
       " ('Hypovolemia|436375|C', 0.0088187291849908638),\n",
       " ('Percutaneous abdominal drainage|2003547|P', 0.0086419799913574347),\n",
       " ('Congestive rheumatic heart failure|315295|C', 0.008431300364503843),\n",
       " ('Urinary tract obstruction|194406|C', 0.0083960166326491874),\n",
       " ('Computerized axial tomography of head|2006634|P', 0.0083853264492397984),\n",
       " ('Pressure ulcer|135333|C', 0.0072858744162626306),\n",
       " ('Open wound of forehead without complication|138896|C',\n",
       "  0.0068431927819530671),\n",
       " ('Corticosteroids adverse reaction|439222|C', 0.0063520843329397357),\n",
       " ('Secondary malignant neoplasm of respiratory tract|253717|C',\n",
       "  0.0061721146091326708),\n",
       " ('Subdural hemorrhage|439040|C', 0.0056639880149319853),\n",
       " ('Other excision of common duct|2003265|P', 0.0056184396542094655),\n",
       " ('Polycythemia vera|135214|C', 0.0055031641816554117),\n",
       " ('Renal disorder associated with type 1 diabetes mellitus|200687|C',\n",
       "  0.0054689305320900156),\n",
       " ('Pulmonary tuberculosis|253954|C', 0.0054170426139617169),\n",
       " ('Deep venous thrombosis of lower extremity|443537|C', 0.0053681973150665448),\n",
       " ('Body mass index 20-24 - normal|4135421|M', 0.0053541044821447141),\n",
       " ('Female sterility|4005743|C', 0.0052421375154184154),\n",
       " ('Respiratory insufficiency|318459|C', 0.0051835968037750825),\n",
       " ('Bone graft, patella|2005199|P', 0.0051586175080696331),\n",
       " ('Homonymous hemianopia|372897|C', 0.0050359213133497911),\n",
       " ('Hemiplegia of dominant side|40482237|C', 0.0048489216888435447),\n",
       " ('Other intrathoracic anastomosis of esophagus|2002483|P',\n",
       "  0.0045110045392400188),\n",
       " ('Infectious disease carrier|4280828|C', 0.0043932033936587957),\n",
       " ('Injection of anticoagulant|2008264|P', 0.0043567765489013156),\n",
       " ('Contusion of back|140266|C', 0.0042469822811640147),\n",
       " ('Ulceration of intestine|195002|C', 0.0041983818887800523),\n",
       " ('Sensorineural hearing loss|374366|C', 0.0041837343864757756),\n",
       " ('Insertion of totally implantable vascular access device [VAD]|2006516|P',\n",
       "  0.0041086513939099633),\n",
       " ('Attention to nephrostomy tube|4140125|P', 0.0040317066422755447),\n",
       " ('Arteriosclerotic dementia with delirium|376094|C', 0.0039817233433814226),\n",
       " ('Renal osteodystrophy|197921|C', 0.0039651287957424269),\n",
       " ('Testicular hypofunction|26662|C', 0.0039064709654226095),\n",
       " ('Neutropenia associated with infectious disease|432589|C',\n",
       "  0.0038931868255626463),\n",
       " ('Disorder of prosthetic cardiac valve|437461|C', 0.0038391632867354713),\n",
       " ('Peritonitis|196152|C', 0.0037909930401059857),\n",
       " ('Laparoscopically assisted vaginal hysterectomy (LAVH)|2004467|P',\n",
       "  0.0037678163441259129),\n",
       " ('Injection or infusion of nesiritide|2000014|P', 0.0036646477524367249),\n",
       " ('Acquired hemolytic anemia|440979|C', 0.0035951676901818949),\n",
       " ('Current tear of medial cartilage AND/OR meniscus of knee|80242|C',\n",
       "  0.0035769898358823408),\n",
       " (\"Inactive Meniere's disease|76130|C\", 0.0035466865051353149),\n",
       " ('Wristdrop|440193|C', 0.0035342276895616704),\n",
       " ('Chronic duodenal ulcer with hemorrhage AND with perforation but without obstruction|438796|C',\n",
       "  0.0034629750387466514),\n",
       " ('Thrombophlebitis of upper extremities|319054|C', 0.0034593914974496718),\n",
       " ('Internal carotid artery dissection|45772779|C', 0.0034500083570925687),\n",
       " ('Disorder of rectum|79069|C', 0.0033509144923739428),\n",
       " ('Insertion of totally implantable infusion pump|2006515|P',\n",
       "  0.0033268090198051692),\n",
       " ('Staphylococcal pneumonia|259852|C', 0.0033264977711231721),\n",
       " ('Diagnostic procedures on bone, not elsewhere classified, other bones|2005376|P',\n",
       "  0.0032719654824056319),\n",
       " ('Vesicular eczema of hands and/or feet|133551|C', 0.003262660889111777),\n",
       " ('Evans syndrome|436956|C', 0.0031600213628492965),\n",
       " ('Postpartum cardiomyopathy|312383|C', 0.0030587612279822426),\n",
       " ('Intracranial injury|437409|C', 0.0030561830846102846),\n",
       " ('Chorea|440990|C', 0.0030553456010095617),\n",
       " ('Repair of vertebral fracture|2000180|P', 0.0030537340773933237),\n",
       " ('Lysis of goniosynechiae|2000520|P', 0.0030472996056283763),\n",
       " ('Ulcerative colitis|81893|C', 0.0030186602430200145),\n",
       " ('Obsessive-compulsive disorder|440374|C', 0.0030142616390052271),\n",
       " ('Multiple mitral and aortic valve involvement|312931|C',\n",
       "  0.0029976813756887382),\n",
       " ('Toxic polyneuropathy|373470|C', 0.0029661147437461221),\n",
       " ('Infarction of lung due to iatrogenic pulmonary embolism|40480461|C',\n",
       "  0.0029653415520381511),\n",
       " ('Follicular cyst of ovary|193530|C', 0.0028935009282796869),\n",
       " ('Bundle branch block|313791|C', 0.0028869364256422772),\n",
       " ('Inflammatory disease of the uterus|196162|C', 0.0028798319707122304),\n",
       " ('Other diagnostic procedures on pharynx|2001254|P', 0.0028691626975477042),\n",
       " ('Aspiration curettage of uterus for termination of pregnancy|2004525|P',\n",
       "  0.0028675727451408584),\n",
       " ('Arteriography of other intrathoracic vessels|2006859|P',\n",
       "  0.002843188832854665),\n",
       " ('Postartificial menopausal syndrome|440155|C', 0.0028272035416453301),\n",
       " ('Congenital anomaly of coronary artery|321109|C', 0.0028002293446644112),\n",
       " ('Pneumonia and influenza|256723|C', 0.0027999929651188298),\n",
       " ('Dilation of sphincter of Oddi|2003283|P', 0.0027937978666187384),\n",
       " ('Injection of anesthetic into sympathetic nerve for analgesia|2000252|P',\n",
       "  0.0027914315828055686),\n",
       " ('Endoscopic excision or destruction of lesion or tissue of stomach|2002544|P',\n",
       "  0.0027846276211777651),\n",
       " ('Interview and evaluation, described as comprehensive|2006978|P',\n",
       "  0.002784177926001745),\n",
       " ('Other operations on vessels of heart|2001527|P', 0.0027579443977069134),\n",
       " ('Third degree burn of multiple sites of upper limb|40440777|C',\n",
       "  0.0027571889505235616),\n",
       " ('Primary localized osteoarthrosis of pelvic region|434123|C',\n",
       "  0.0027300209626910806),\n",
       " ('Pain in eye|379031|C', 0.002726847014882934),\n",
       " ('Computerized axial tomography of kidney|2006736|P', 0.0027266561258218231),\n",
       " ('Tenosynovitis of foot|443111|C', 0.0026296605129175802),\n",
       " ('Chronic graft-versus-host disease|434314|C', 0.0026187446311271199),\n",
       " ('Primary malignant neoplasm of urethra|196049|C', 0.0025938844899444282),\n",
       " ('Adrenal hypofunction|193984|C', 0.0025737889032335167),\n",
       " ('Suture of gastric ulcer site|2002610|P', 0.0025625407526779411),\n",
       " ('Closure of laceration of lung|2001369|P', 0.0025473859436469571),\n",
       " ('Child attention deficit disorder|440086|C', 0.0025320919669723895),\n",
       " ('Physical abuse of adult|439391|O', 0.0025006834175839783),\n",
       " ('Percutaneous aspiration of gallbladder|2003188|P', 0.002466318375038217),\n",
       " ('Resection of vessel with anastomosis, aorta|2002063|P',\n",
       "  0.0024348713121023725),\n",
       " ('Alcohol hallucinosis|372607|C', 0.0024321758844325293),\n",
       " ('Hypersensitivity angiitis|196431|C', 0.0024207631095795488),\n",
       " ('Thoracoscopic robotic assisted procedure|2000852|P', 0.0024099482343202358),\n",
       " ('Suture of laceration of bronchus|2001367|P', 0.0023886344358797751),\n",
       " ('Replacement of any type pacemaker device with single-chamber device, not specified as rate responsive|2001977|P',\n",
       "  0.0023527757253300917),\n",
       " ('Other x-ray of prostate and seminal vesicles|2006774|P',\n",
       "  0.0023151968251528439),\n",
       " ('Accidents caused by cutting and piercing instruments or objects|432807|O',\n",
       "  0.0023071102258437346),\n",
       " ('Chondrocalcinosis due to dicalcium phosphate crystals|437629|C',\n",
       "  0.0022800748850722919),\n",
       " ('Accident caused by fire and flames|432504|O', 0.002253375597440536),\n",
       " ('Excision or destruction of lesion or tissue of mediastinum|2001409|P',\n",
       "  0.0022321939958396802),\n",
       " ('Local excision of lesion or tissue of bone, humerus|2005100|P',\n",
       "  0.0021966287158918904),\n",
       " ('Diagnostic interview and evaluation, not otherwise specified|2006980|P',\n",
       "  0.0021763225311450178),\n",
       " ('Malignant lymphoma of lymph nodes of axilla AND/OR upper limb|441521|C',\n",
       "  0.0021307910321280441),\n",
       " ('Emotional upset|439791|C', 0.0021176414463855049),\n",
       " ('Excision of lesion of tendon sheath of hand|2006002|P',\n",
       "  0.0020566390134972661),\n",
       " ('Benign neoplasm of kidney|195498|C', 0.0020514615520359474),\n",
       " ('Malignant neoplasm of temporal lobe|4180907|C', 0.0019707654278655535),\n",
       " ('Urethritis|195862|C', 0.0019647455946752409),\n",
       " ('Replacement of nephrostomy tube|2003650|P', 0.0018983973393062654),\n",
       " ('Contusion of axillary region|434212|C', 0.0018835092005639702),\n",
       " ('Other unilateral femoral herniorrhaphy|2003429|P', 0.0018828487365816356),\n",
       " ('Accidental poisoning|436581|C', 0.0018824323372206655),\n",
       " ('Legionella pneumonia|4112820|C', 0.0018802445564473247),\n",
       " ('Closed reduction of fracture without internal fixation, carpals and metacarpals|2005413|P',\n",
       "  0.0018693850141547673),\n",
       " ('Prepatellar bursitis|133294|C', 0.0018673662313935246),\n",
       " ('Benign neoplasm of nervous system|373432|C', 0.0018637351383650779),\n",
       " ('Reactive confusion|441540|C', 0.0018634932594244139),\n",
       " ('Common arterial trunk|441950|C', 0.0018619926430305687),\n",
       " ('Prader-Willi syndrome|441963|C', 0.0018514665329037829),\n",
       " ('Pruritic rash|135618|C', 0.0018504963335367621),\n",
       " ('Fall from bed|436882|O', 0.0018413524507360577),\n",
       " ('Refractory migraine with aura|372886|C', 0.0018376535007613012),\n",
       " ('Microscopic examination of peritoneal and retroperitoneal specimen, toxicology|2007313|P',\n",
       "  0.0018315295708256007),\n",
       " ('Pharynx or nasopharynx cyst|23789|C', 0.0018310137807858726),\n",
       " ('Mild pre-eclampsia|314090|C', 0.0018253071077996082),\n",
       " ('Closure of skin and subcutaneous tissue of other sites|2006554|P',\n",
       "  0.0018222999696730204),\n",
       " ('Insertion or replacement of pedicle-based dynamic stabilization device(s)|2006357|P',\n",
       "  0.0018218471775858394),\n",
       " ('Alcohol-induced psychotic disorder with delusions|442582|C',\n",
       "  0.0018208872861479122),\n",
       " ('Open chest transmyocardial revascularization|2001520|P',\n",
       "  0.0018208035825061548),\n",
       " ('Schizotypal personality disorder|434010|C', 0.0018054229357806336),\n",
       " ('Excision of lesion of tonsil and adenoid|2001247|P', 0.0017998604117402165),\n",
       " ('Release of carpal tunnel|2000217|P', 0.0017966310550440081),\n",
       " ('Acquired trigger finger|77965|C', 0.0017955931746503194),\n",
       " ('Overlapping malignant neoplasm of oropharynx|438691|C',\n",
       "  0.0017947829882635996),\n",
       " ('Nodular lymphoma of lymph nodes of multiple sites|320347|C',\n",
       "  0.0017919181792885213),\n",
       " ('Internal fixation of bone without fracture reduction, tarsals and metatarsals|2005312|P',\n",
       "  0.0017894332452238794),\n",
       " ('Chickenpox with complication|437791|C', 0.0017890827228103094),\n",
       " ('Closure of other fistula of trachea|2001308|P', 0.0017794803116967396),\n",
       " ('Anastomosis of kidney|2003644|P', 0.0017775964681884142),\n",
       " ('Monoplegia|381548|C', 0.0017721067336664952),\n",
       " ('Infection of skin AND/OR subcutaneous tissue|201093|C',\n",
       "  0.0017715705782215478),\n",
       " ('Injury of superficial nerves of head AND/OR neck|200611|C',\n",
       "  0.0017699234365022725),\n",
       " ('Noncollision motor vehicle traffic accident involving injury by being thrown against some part of, or object in, motor vehicle w',\n",
       "  0.001765244168392479),\n",
       " ('Biopsy of diaphragm|2001406|P', 0.0017599685107531199),\n",
       " ('Microcalcifications of the breast|72737|C', 0.0017597346862082402),\n",
       " ('Irrigation of gastrostomy or enterostomy|2007961|P', 0.0017592456693556755),\n",
       " ('Pure red cell aplasia|140065|C', 0.0017585968820039374),\n",
       " ('Other operations on bronchus|2001386|P', 0.0017533358070956793),\n",
       " ('Peripheral retinal degeneration|437267|C', 0.0017525447667681641),\n",
       " ('Laceration of kidney without open wound into abdominal cavity|194200|C',\n",
       "  0.0017522845570335066),\n",
       " ('Industrial accident|437748|O', 0.0017519168572561719),\n",
       " ('Bilateral neural hearing loss|443606|C', 0.0017516522428324996),\n",
       " ('Measurement of mixed venous blood gases|2007102|P', 0.0017349047846957873),\n",
       " ('Excision of bone for graft, tibia and fibula|2005136|P',\n",
       "  0.0017256313650410558),\n",
       " ('Nicotiana tabacum poisoning|443933|C', 0.0017235961673903503),\n",
       " ('Biopsy of facial bone|2004868|P', 0.0017170697582036521),\n",
       " ('Hypervitaminosis D|435522|C', 0.0017154849094581574),\n",
       " ('Other operations on lymphatic structures|2002346|P', 0.0017100183650369434),\n",
       " ('Removal of foreign body from scrotum or penis without incision|2008212|P',\n",
       "  0.0017087108305601116),\n",
       " ('Refusion of other cervical spine, posterior column, posterior technique|2005864|P',\n",
       "  0.0017066356990127092),\n",
       " ('Shoulder stiff|72711|C', 0.0017037505577444548),\n",
       " ('Excision of deep cervical lymph node|2002303|P', 0.0016990416760129),\n",
       " ('Bronchitis and pneumonitis due to chemical fumes|439298|C',\n",
       "  0.0016984873928721038),\n",
       " ('Total removal of small intestine|2002748|P', 0.0016981722624352063),\n",
       " ('Acquired postural lordosis|78842|C', 0.0016950147930466159),\n",
       " ('Gender identity disorder of adulthood|443625|C', 0.0016932944098332257),\n",
       " ('Anal fistulectomy|2003048|P', 0.0016904545230145489),\n",
       " ('DiGeorge sequence|141831|C', 0.0016832952248600284),\n",
       " ('Adverse reaction to BCG vaccine|437768|C', 0.0016805250583490714),\n",
       " ('Removal of peripheral neurostimulator lead(s)|2000237|P',\n",
       "  0.0016767811863428522),\n",
       " ('Chondrocalcinosis of joint of pelvis|40483814|C', 0.0016757677100416642),\n",
       " ('Replacement of other device for musculoskeletal immobilization|2008031|P',\n",
       "  0.0016737166407001709),\n",
       " ('Joint stiffness|72404|C', 0.0016719274585500646),\n",
       " ('Progressive multifocal leukoencephalopathy|433957|C',\n",
       "  0.0016714632316765675),\n",
       " ('Open wound of multiple sites of face with complication|134510|C',\n",
       "  0.0016604951517160459),\n",
       " ('Other and unspecified pneumonectomy|2001343|P', 0.0016602550219357202),\n",
       " ('Primary malignant neoplasm of uterine adnexa|200052|C',\n",
       "  0.0016587612210864386),\n",
       " ('Cared for by family|4144149|O', 0.0016576815688759141),\n",
       " ('Mixed conductive AND sensorineural hearing loss|379832|C',\n",
       "  0.0016438820155926211),\n",
       " ('Dental restoration finding|4150307|C', 0.0016430214755535164),\n",
       " ('Traumatic closed dislocation of temporomandibular joint|79173|C',\n",
       "  0.0016383002850873709),\n",
       " ('Diabetic macular edema|380097|C', 0.0016340511881234375),\n",
       " ('Acute peptic ulcer with hemorrhage AND with perforation but without obstruction|27026|C',\n",
       "  0.0016322378892266458),\n",
       " ('Biopsy of lip|2001199|P', 0.0016288032411614862),\n",
       " ('Staphylococcal meningitis|436090|C', 0.0016158107220133257),\n",
       " ('Osteoarthritis of elbow|4083695|C', 0.0016137787159990658),\n",
       " ('Acquired red cell aplasia|138723|C', 0.0016093831073063954),\n",
       " ('Chondrocalcinosis due to pyrophosphate crystals, of the shoulder region|76499|C',\n",
       "  0.0016066093047715391),\n",
       " ('Sprain of interphalangeal joint of finger|75954|C', 0.0016047522392393719),\n",
       " ('Other repair and plastic operations on lung|2001371|P',\n",
       "  0.001604054620068696),\n",
       " ('Combined alcohol and drug rehabilitation|2007802|P', 0.0015983162897580682),\n",
       " ('Thrombosed hemorrhoids|195294|C', 0.0015979532141252922),\n",
       " ('Liver minor laceration with open wound into cavity|198288|C',\n",
       "  0.0015935379365737694),\n",
       " ('Amputation and disarticulation of finger|2006208|P', 0.0015888970074800412),\n",
       " ('Laparoscopic repair of indirect inguinal hernia with graft or prosthesis|2000802|P',\n",
       "  0.0015823351434961946),\n",
       " ('Excision of cystic duct remnant|2003263|P', 0.0015715026433198644),\n",
       " ('Central nervous system depressants and anesthetic agent poisoning|443224|C',\n",
       "  0.0015670844351202981),\n",
       " ('Removal of sutures from head and neck|2008070|P', 0.0015591027785594328),\n",
       " ('Parasympathomimetic adverse reaction|435163|C', 0.0015551155676663507),\n",
       " ('Nystagmus associated with disorder of the vestibular system|377568|C',\n",
       "  0.0015478380801379589),\n",
       " ('Gastric gavage|2007960|P', 0.0015386998286737211),\n",
       " ('Late effect of burn of extremities, except wrist AND hand|435969|C',\n",
       "  0.0015287110112203101),\n",
       " ('Primary malignant neoplasm of scrotum|79758|C', 0.0015264913415354781),\n",
       " ('Factitious disorder with combined physical AND psychological symptoms|433993|C',\n",
       "  0.0015045323213920523),\n",
       " ('Late syphilis|435739|C', 0.0014992679807713275),\n",
       " ('Wrist pyogenic arthritis|4344398|C', 0.0014737240316304485),\n",
       " ('Primary malignant neoplasm of spleen|193418|C', 0.001467250833510237),\n",
       " ('Closed fracture of femur, lower epiphysis|437130|C', 0.0014292241363431293),\n",
       " ('Complex endometrial hyperplasia|198471|C', 0.0013936547373568945),\n",
       " ('Closed fracture of base of metacarpal bone other than first metacarpal|440855|C',\n",
       "  0.0013791938665102786),\n",
       " ('Ventricular flutter|433225|C', 0.0013768125972589884),\n",
       " ('Incisional hernia|198464|C', 0.0013656147152918789),\n",
       " ('Perforated diverticulum of small intestine|4092161|C',\n",
       "  0.0013249179294837379),\n",
       " ('Loss of consciousness|372448|C', 0.0013137706768586626),\n",
       " ('Cardiac inotropic agent adverse reaction|4167767|C', 0.0013096383707158147),\n",
       " ('Tendon graft|2006176|P', 0.0012503927707112202),\n",
       " ('Cortex contusion without open intracranial wound|440858|C',\n",
       "  0.0012300777199577922),\n",
       " ('Chronic post-traumatic headache|377546|C', 0.0011452993128339174),\n",
       " ('Second degree burn of abdominal wall|192785|C', 0.00096234368921888872),\n",
       " ('Accident caused by machinery|432534|O', 0.00090081921165385641),\n",
       " ('Infective/parasitic disease in preg/childbirth/puerperium|433266|C',\n",
       "  0.00089164492498581801),\n",
       " ('Premature/false labor|4125778|C', 0.00085545760850698428),\n",
       " ('Burning due to contact with hot solid objects and materials|433376|O',\n",
       "  0.00082794467268691783),\n",
       " ('Phlebography using contrast material, unspecified site|2006897|P',\n",
       "  0.00078721863098664825),\n",
       " ('Closed fracture of vault of skull without intracranial injury|441133|C',\n",
       "  0.00074004452006094627),\n",
       " ('Transient visual loss|372627|C', 0.00056008861140339279),\n",
       " ('Compartment syndrome of upper limb|135349|C', 0.00051783111517818986),\n",
       " ('Full thickness burn of a single finger|77180|C', 0.00044179248461335106),\n",
       " ('Closed traumatic dislocation of joint of wrist|437406|C',\n",
       "  0.00041537188008653202),\n",
       " ('Injury of unknown intent by burns or fire|432810|C',\n",
       "  0.00031487802921186832)]"
      ]
     },
     "execution_count": 41,
     "metadata": {},
     "output_type": "execute_result"
    }
   ],
   "source": [
    "[(selected_variables2[decreasing_order_of_features][i], features_importances[decreasing_order_of_features][i]) \n",
    " for i in range(features_importances.shape[0])]"
   ]
  },
  {
   "cell_type": "code",
   "execution_count": null,
   "metadata": {
    "collapsed": true
   },
   "outputs": [],
   "source": []
  }
 ],
 "metadata": {
  "kernelspec": {
   "display_name": "Python 2",
   "language": "python",
   "name": "python2"
  },
  "language_info": {
   "codemirror_mode": {
    "name": "ipython",
    "version": 2
   },
   "file_extension": ".py",
   "mimetype": "text/x-python",
   "name": "python",
   "nbconvert_exporter": "python",
   "pygments_lexer": "ipython2",
   "version": "2.7.11"
  }
 },
 "nbformat": 4,
 "nbformat_minor": 0
}
