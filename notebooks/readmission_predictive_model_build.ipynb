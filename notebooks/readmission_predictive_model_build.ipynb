{
 "cells": [
  {
   "cell_type": "code",
   "execution_count": 1,
   "metadata": {
    "collapsed": true
   },
   "outputs": [],
   "source": [
    "import h5py\n",
    "import numpy as np"
   ]
  },
  {
   "cell_type": "code",
   "execution_count": 2,
   "metadata": {
    "collapsed": true
   },
   "outputs": [],
   "source": [
    "f5 = h5py.File(\"inpatient_readmission_analysis.hdf5\", \"r\")"
   ]
  },
  {
   "cell_type": "code",
   "execution_count": 3,
   "metadata": {
    "collapsed": false
   },
   "outputs": [
    {
     "data": {
      "text/plain": [
       "(10000L, 5686L)"
      ]
     },
     "execution_count": 3,
     "metadata": {},
     "output_type": "execute_result"
    }
   ],
   "source": [
    "independent_array = f5[\"/independent/core_array\"][0:10000,:]\n",
    "independent_array.shape"
   ]
  },
  {
   "cell_type": "code",
   "execution_count": 4,
   "metadata": {
    "collapsed": false
   },
   "outputs": [
    {
     "data": {
      "text/plain": [
       "array(['gender_concept_name|FEMALE', 'Length of stay in days',\n",
       "       'age_at_visit_start_in_years_int',\n",
       "       'Past history of 30-day inpatient readmissions',\n",
       "       'No matching concept|0|C',\n",
       "       'Gingival and periodontal disease|132344|C',\n",
       "       'Staphylococcal scalded skin syndrome|132392|C',\n",
       "       'Pressure ulcer stage 1|132393|C',\n",
       "       'Post-laminectomy syndrome|132412|C',\n",
       "       'Chronic osteomyelitis of hand|132414|C'],\n",
       "      dtype='|S128')"
      ]
     },
     "execution_count": 4,
     "metadata": {},
     "output_type": "execute_result"
    }
   ],
   "source": [
    "independent_labels = f5[\"/independent/column_annotations\"][...]\n",
    "independent_labels[0: 10]"
   ]
  },
  {
   "cell_type": "code",
   "execution_count": 5,
   "metadata": {
    "collapsed": false
   },
   "outputs": [
    {
     "data": {
      "text/plain": [
       "(10000L,)"
      ]
     },
     "execution_count": 5,
     "metadata": {},
     "output_type": "execute_result"
    }
   ],
   "source": [
    "dependent_array = f5[\"/dependent/core_array\"][0:10000,:]\n",
    "dependent_array = np.ndarray.flatten(dependent_array)\n",
    "dependent_array.shape"
   ]
  },
  {
   "cell_type": "code",
   "execution_count": 6,
   "metadata": {
    "collapsed": false
   },
   "outputs": [
    {
     "data": {
      "text/plain": [
       "960.0"
      ]
     },
     "execution_count": 6,
     "metadata": {},
     "output_type": "execute_result"
    }
   ],
   "source": [
    "np.sum(dependent_array)"
   ]
  },
  {
   "cell_type": "code",
   "execution_count": 7,
   "metadata": {
    "collapsed": false
   },
   "outputs": [
    {
     "data": {
      "text/plain": [
       "897529"
      ]
     },
     "execution_count": 7,
     "metadata": {},
     "output_type": "execute_result"
    }
   ],
   "source": [
    "np.sum(independent_array)"
   ]
  },
  {
   "cell_type": "code",
   "execution_count": 8,
   "metadata": {
    "collapsed": false
   },
   "outputs": [
    {
     "data": {
      "text/plain": [
       "array(['30-day inpatient readmission'],\n",
       "      dtype='|S128')"
      ]
     },
     "execution_count": 8,
     "metadata": {},
     "output_type": "execute_result"
    }
   ],
   "source": [
    "dependent_labels = f5[\"/dependent/column_annotations\"][...]\n",
    "dependent_labels"
   ]
  },
  {
   "cell_type": "code",
   "execution_count": 9,
   "metadata": {
    "collapsed": false
   },
   "outputs": [
    {
     "data": {
      "text/plain": [
       "'0.19.0'"
      ]
     },
     "execution_count": 9,
     "metadata": {},
     "output_type": "execute_result"
    }
   ],
   "source": [
    "import sklearn\n",
    "sklearn.__version__"
   ]
  },
  {
   "cell_type": "code",
   "execution_count": 10,
   "metadata": {
    "collapsed": false
   },
   "outputs": [],
   "source": [
    "from sklearn.model_selection import train_test_split"
   ]
  },
  {
   "cell_type": "code",
   "execution_count": 11,
   "metadata": {
    "collapsed": false
   },
   "outputs": [],
   "source": [
    "X_train, X_test, Y_train, Y_test = train_test_split(independent_array, dependent_array, test_size=0.2)"
   ]
  },
  {
   "cell_type": "code",
   "execution_count": 12,
   "metadata": {
    "collapsed": false
   },
   "outputs": [
    {
     "data": {
      "text/plain": [
       "array([[84,  6,  0, ...,  0,  0,  0],\n",
       "       [55,  7,  0, ...,  0,  0,  0],\n",
       "       [48,  3,  1, ...,  0,  0,  0],\n",
       "       ..., \n",
       "       [84,  5,  1, ...,  0,  0,  0],\n",
       "       [68,  8,  0, ...,  0,  0,  0],\n",
       "       [67,  6,  0, ...,  0,  0,  0]])"
      ]
     },
     "execution_count": 12,
     "metadata": {},
     "output_type": "execute_result"
    }
   ],
   "source": [
    "X_test"
   ]
  },
  {
   "cell_type": "code",
   "execution_count": 13,
   "metadata": {
    "collapsed": true
   },
   "outputs": [],
   "source": [
    "from sklearn.pipeline import Pipeline"
   ]
  },
  {
   "cell_type": "code",
   "execution_count": 14,
   "metadata": {
    "collapsed": true
   },
   "outputs": [],
   "source": [
    "from sklearn.feature_selection import VarianceThreshold\n",
    "from sklearn.feature_selection import SelectKBest\n",
    "from sklearn.ensemble import RandomForestClassifier"
   ]
  },
  {
   "cell_type": "code",
   "execution_count": 15,
   "metadata": {
    "collapsed": true
   },
   "outputs": [],
   "source": [
    "variance_thresh = VarianceThreshold()\n",
    "select_k = SelectKBest(k=1000)\n",
    "random_forest = RandomForestClassifier(n_estimators=1000)\n",
    "\n",
    "pipeline_steps = [(\"remove_zero_variance\", variance_thresh), \n",
    "                  (\"select_features\", select_k), \n",
    "                  (\"random_forest\", random_forest)]"
   ]
  },
  {
   "cell_type": "code",
   "execution_count": 16,
   "metadata": {
    "collapsed": true
   },
   "outputs": [],
   "source": [
    "pipeline_obj = Pipeline(pipeline_steps)"
   ]
  },
  {
   "cell_type": "code",
   "execution_count": 17,
   "metadata": {
    "collapsed": false
   },
   "outputs": [
    {
     "data": {
      "text/plain": [
       "Pipeline(memory=None,\n",
       "     steps=[('remove_zero_variance', VarianceThreshold(threshold=0.0)), ('select_features', SelectKBest(k=1000, score_func=<function f_classif at 0x0000000014B5D128>)), ('random_forest', RandomForestClassifier(bootstrap=True, class_weight=None, criterion='gini',\n",
       "            max_depth=None, max_features='...n_jobs=1,\n",
       "            oob_score=False, random_state=None, verbose=0,\n",
       "            warm_start=False))])"
      ]
     },
     "execution_count": 17,
     "metadata": {},
     "output_type": "execute_result"
    }
   ],
   "source": [
    "pipeline_obj.fit(X_train, Y_train)"
   ]
  },
  {
   "cell_type": "code",
   "execution_count": 18,
   "metadata": {
    "collapsed": false
   },
   "outputs": [
    {
     "data": {
      "text/plain": [
       "array([ 0.,  0.,  0.,  0.,  0.,  0.,  0.,  0.,  0.,  0.,  0.,  0.,  0.,\n",
       "        0.,  0.,  0.,  0.,  0.,  0.,  0.,  0.,  0.,  0.,  0.,  0.,  0.,\n",
       "        0.,  0.,  0.,  0.,  0.,  1.,  0.,  0.,  0.,  0.,  0.,  0.,  0.,\n",
       "        0.,  0.,  0.,  0.,  0.,  0.,  0.,  0.,  0.,  0.,  0.,  0.,  0.,\n",
       "        0.,  0.,  0.,  0.,  0.,  0.,  0.,  0.,  0.,  0.,  0.,  0.,  0.,\n",
       "        0.,  0.,  0.,  0.,  0.,  0.,  0.,  0.,  0.,  0.,  0.,  0.,  0.,\n",
       "        0.,  0.,  0.,  0.,  0.,  0.,  0.,  0.,  0.,  0.,  0.,  0.,  0.,\n",
       "        0.,  0.,  0.,  0.,  0.,  0.,  0.,  0.,  0.], dtype=float32)"
      ]
     },
     "execution_count": 18,
     "metadata": {},
     "output_type": "execute_result"
    }
   ],
   "source": [
    "Y_predict = pipeline_obj.predict(X_test)\n",
    "Y_predict[0: 100]"
   ]
  },
  {
   "cell_type": "code",
   "execution_count": 19,
   "metadata": {
    "collapsed": true
   },
   "outputs": [],
   "source": [
    "from sklearn.metrics import classification_report"
   ]
  },
  {
   "cell_type": "code",
   "execution_count": 20,
   "metadata": {
    "collapsed": true
   },
   "outputs": [],
   "source": [
    "report = classification_report(Y_predict, Y_test)"
   ]
  },
  {
   "cell_type": "code",
   "execution_count": 21,
   "metadata": {
    "collapsed": false
   },
   "outputs": [
    {
     "name": "stdout",
     "output_type": "stream",
     "text": [
      "             precision    recall  f1-score   support\n",
      "\n",
      "        0.0       0.99      0.90      0.94      1986\n",
      "        1.0       0.01      0.07      0.01        14\n",
      "\n",
      "avg / total       0.99      0.90      0.94      2000\n",
      "\n"
     ]
    }
   ],
   "source": [
    "print(report)"
   ]
  },
  {
   "cell_type": "code",
   "execution_count": 22,
   "metadata": {
    "collapsed": true
   },
   "outputs": [],
   "source": [
    "from sklearn.metrics import roc_curve"
   ]
  },
  {
   "cell_type": "code",
   "execution_count": 23,
   "metadata": {
    "collapsed": false
   },
   "outputs": [
    {
     "data": {
      "text/plain": [
       "array([[ 0.962     ,  0.038     ],\n",
       "       [ 0.975     ,  0.025     ],\n",
       "       [ 0.982     ,  0.018     ],\n",
       "       [ 0.94925   ,  0.05075   ],\n",
       "       [ 0.997     ,  0.003     ],\n",
       "       [ 0.991     ,  0.009     ],\n",
       "       [ 0.996     ,  0.004     ],\n",
       "       [ 0.95019527,  0.04980473],\n",
       "       [ 0.964     ,  0.036     ],\n",
       "       [ 0.905     ,  0.095     ]])"
      ]
     },
     "execution_count": 23,
     "metadata": {},
     "output_type": "execute_result"
    }
   ],
   "source": [
    "Y_test_p = pipeline_obj.predict_proba(X_test)\n",
    "Y_test_p[0: 10]"
   ]
  },
  {
   "cell_type": "code",
   "execution_count": 24,
   "metadata": {
    "collapsed": true
   },
   "outputs": [],
   "source": [
    "import matplotlib.pyplot as plt\n",
    "import seaborn as sb"
   ]
  },
  {
   "cell_type": "code",
   "execution_count": 25,
   "metadata": {
    "collapsed": true
   },
   "outputs": [],
   "source": [
    "fpr, tpr, _ = roc_curve(Y_test, Y_test_p[:,1])"
   ]
  },
  {
   "cell_type": "code",
   "execution_count": 26,
   "metadata": {
    "collapsed": true
   },
   "outputs": [],
   "source": [
    "%matplotlib inline"
   ]
  },
  {
   "cell_type": "code",
   "execution_count": 27,
   "metadata": {
    "collapsed": false
   },
   "outputs": [
    {
     "data": {
      "text/plain": [
       "[<matplotlib.lines.Line2D at 0x3b0d1160>]"
      ]
     },
     "execution_count": 27,
     "metadata": {},
     "output_type": "execute_result"
    },
    {
     "data": {
      "image/png": "[encoded data removed]",
      "text/plain": [
       "<matplotlib.figure.Figure at 0x3b0bcbe0>"
      ]
     },
     "metadata": {},
     "output_type": "display_data"
    }
   ],
   "source": [
    "sb.set_style(\"darkgrid\")\n",
    "plt.plot(fpr, tpr)\n",
    "plt.plot([0,1],[0,1], \"k-\", color=\"grey\")"
   ]
  },
  {
   "cell_type": "code",
   "execution_count": 28,
   "metadata": {
    "collapsed": false
   },
   "outputs": [],
   "source": [
    "from sklearn.metrics import roc_auc_score"
   ]
  },
  {
   "cell_type": "code",
   "execution_count": 29,
   "metadata": {
    "collapsed": false
   },
   "outputs": [
    {
     "data": {
      "text/plain": [
       "0.53588069517527193"
      ]
     },
     "execution_count": 29,
     "metadata": {},
     "output_type": "execute_result"
    }
   ],
   "source": [
    "roc_auc_score(Y_test, Y_test_p[:,1])"
   ]
  },
  {
   "cell_type": "code",
   "execution_count": 30,
   "metadata": {
    "collapsed": true
   },
   "outputs": [],
   "source": [
    "from sklearn.metrics import confusion_matrix"
   ]
  },
  {
   "cell_type": "code",
   "execution_count": 31,
   "metadata": {
    "collapsed": false
   },
   "outputs": [
    {
     "data": {
      "text/plain": [
       "array([[1790,   13],\n",
       "       [ 196,    1]], dtype=int64)"
      ]
     },
     "execution_count": 31,
     "metadata": {},
     "output_type": "execute_result"
    }
   ],
   "source": [
    "confusion_matrix(Y_test, Y_predict)"
   ]
  },
  {
   "cell_type": "code",
   "execution_count": 32,
   "metadata": {
    "collapsed": false
   },
   "outputs": [
    {
     "data": {
      "text/plain": [
       "array([ True,  True,  True, ..., False,  True, False], dtype=bool)"
      ]
     },
     "execution_count": 32,
     "metadata": {},
     "output_type": "execute_result"
    }
   ],
   "source": [
    "variance_thresh.get_support()"
   ]
  },
  {
   "cell_type": "code",
   "execution_count": 33,
   "metadata": {
    "collapsed": false
   },
   "outputs": [],
   "source": [
    "selected_variables1 = independent_labels[variance_thresh.get_support()]"
   ]
  },
  {
   "cell_type": "code",
   "execution_count": 34,
   "metadata": {
    "collapsed": false
   },
   "outputs": [
    {
     "data": {
      "text/plain": [
       "(3257L,)"
      ]
     },
     "execution_count": 34,
     "metadata": {},
     "output_type": "execute_result"
    }
   ],
   "source": [
    "select_k.get_support().shape"
   ]
  },
  {
   "cell_type": "code",
   "execution_count": 35,
   "metadata": {
    "collapsed": false
   },
   "outputs": [],
   "source": [
    "selected_variables2 = selected_variables1[select_k.get_support()]"
   ]
  },
  {
   "cell_type": "code",
   "execution_count": 36,
   "metadata": {
    "collapsed": false
   },
   "outputs": [
    {
     "data": {
      "text/plain": [
       "(1000L,)"
      ]
     },
     "execution_count": 36,
     "metadata": {},
     "output_type": "execute_result"
    }
   ],
   "source": [
    "selected_variables2.shape"
   ]
  },
  {
   "cell_type": "code",
   "execution_count": 37,
   "metadata": {
    "collapsed": false
   },
   "outputs": [],
   "source": [
    "features_importances = random_forest.feature_importances_"
   ]
  },
  {
   "cell_type": "code",
   "execution_count": 38,
   "metadata": {
    "collapsed": false
   },
   "outputs": [
    {
     "data": {
      "text/plain": [
       "(1000L,)"
      ]
     },
     "execution_count": 38,
     "metadata": {},
     "output_type": "execute_result"
    }
   ],
   "source": [
    "random_forest.feature_importances_.shape"
   ]
  },
  {
   "cell_type": "code",
   "execution_count": 39,
   "metadata": {
    "collapsed": true
   },
   "outputs": [],
   "source": [
    "import numpy as np"
   ]
  },
  {
   "cell_type": "code",
   "execution_count": 40,
   "metadata": {
    "collapsed": false
   },
   "outputs": [],
   "source": [
    "decreasing_order_of_features = np.argsort(-1*random_forest.feature_importances_,)"
   ]
  },
  {
   "cell_type": "code",
   "execution_count": 41,
   "metadata": {
    "collapsed": false
   },
   "outputs": [
    {
     "data": {
      "text/plain": [
       "[('Length of stay in days', 0.071519542991589094),\n",
       " ('History of clinical finding in subject|4214956|M', 0.017046670749470593),\n",
       " ('Coronary arteriosclerosis in native artery|42872402|C',\n",
       "  0.015162890869780414),\n",
       " ('Atrial fibrillation|313217|C', 0.014977693480529327),\n",
       " ('Urinary tract infectious disease|81902|C', 0.014710580522327486),\n",
       " ('Hypertensive renal disease with renal failure|439697|C',\n",
       "  0.012656824269194514),\n",
       " ('Hypothyroidism|140673|C', 0.012341292408396438),\n",
       " ('Other repair of urethra|2003877|P', 0.010326326585340179),\n",
       " ('Tobacco dependence syndrome|437264|C', 0.0097254542282811871),\n",
       " ('Pure hypercholesterolemia|437827|C', 0.0086698703996323737),\n",
       " ('Temporary tracheostomy|2001285|P', 0.0086087379893359829),\n",
       " ('Hypokalemia|437833|C', 0.0085084202294153609),\n",
       " ('Dehydration|435796|C', 0.0084938730835713971),\n",
       " ('Osteoarthritis|80180|C', 0.0081903096652032274),\n",
       " ('Organic mental disorder|374009|C', 0.0081027154018250107),\n",
       " ('Suture of laceration of palate|2001220|P', 0.0079649145997860629),\n",
       " ('Past history of 30-day inpatient readmissions', 0.0077215030550495086),\n",
       " ('No matching concept|0|M', 0.0075237288133302134),\n",
       " ('Acute posthemorrhagic anemia|434894|C', 0.0065111917814419827),\n",
       " ('Splenotomy|2002370|P', 0.0063525326752444109),\n",
       " ('Conduction disorder of the heart|316999|C', 0.006329618211790798),\n",
       " ('Benign prostatic hypertrophy without outflow obstruction|201072|C',\n",
       "  0.0059152148100500004),\n",
       " ('Obesity|433736|C', 0.0055646444206781595),\n",
       " ('Low blood pressure|317002|C', 0.0054059963339092654),\n",
       " ('Acute respiratory failure|319049|C', 0.0053829147319245903),\n",
       " ('Osteoporosis|80502|C', 0.0051995353456479121),\n",
       " ('Obstructive sleep apnea syndrome|442588|C', 0.0051221530925758861),\n",
       " (\"Alzheimer's disease|378419|C\", 0.0050621691233467382),\n",
       " ('Esophagectomy, not otherwise specified|2002462|P', 0.0050617985656880608),\n",
       " ('End stage renal disease|193782|C', 0.0050065595156991117),\n",
       " ('Atelectasis|261880|C', 0.0049916041264522603),\n",
       " ('Asthma|317009|C', 0.0049691731154392548),\n",
       " ('Hyperkalemia|434610|C', 0.0045763682838380962),\n",
       " ('Constipation|75860|C', 0.0045268531652643837),\n",
       " ('Bone graft, humerus|2005195|P', 0.0044678554533571224),\n",
       " ('Dementia associated with another disease|374888|C', 0.0042201275766539708),\n",
       " ('Malaise and fatigue|439926|C', 0.0042026268977980496),\n",
       " ('Cellulitis and abscess of lower leg|4066371|C', 0.0040776535967919237),\n",
       " ('Venous catheterization, not elsewhere classified|2002174|P',\n",
       "  0.003980510609026669),\n",
       " ('Cerebral infarction due to thrombosis of cerebral arteries|4110192|C',\n",
       "  0.0038889970510712904),\n",
       " ('Preinfarction syndrome|315296|C', 0.0038435705034959972),\n",
       " ('Long-term drug therapy|4141759|P', 0.003811027148134007),\n",
       " ('Chronic kidney disease stage 3|443597|C', 0.0037896173586817509),\n",
       " ('Total knee replacement|2005904|P', 0.00376713237657045),\n",
       " ('Epilepsy|380378|C', 0.0036734612876377169),\n",
       " ('Diabetic on insulin|440922|M', 0.003658609019991506),\n",
       " ('Arthropathy|73553|C', 0.0036520481360206949),\n",
       " ('Hemiplegia as late effect of cerebrovascular disease|40481762|C',\n",
       "  0.0036181806996960337),\n",
       " ('Type II diabetes mellitus uncontrolled|40482801|M', 0.0035436626784599587),\n",
       " ('Cardiac pacemaker in situ|40479553|M', 0.0033965577530057616),\n",
       " ('Pressure ulcer of lower back|44783163|C', 0.0033017266288931034),\n",
       " ('Thoracoscopic lung biopsy|2001350|P', 0.0032222538933379266),\n",
       " ('Dysthymia|433440|C', 0.0031231565986373573),\n",
       " ('Thrombocytopenic disorder|432870|C', 0.0030308747890829524),\n",
       " ('Disorder of kidney and/or ureter|40483287|C', 0.0030230732266633086),\n",
       " ('Diastolic heart failure|443587|C', 0.0030222408824762113),\n",
       " ('Seizure|377091|C', 0.0029952133503710707),\n",
       " ('Fall|436583|M', 0.0029762004629710166),\n",
       " ('Body mass index 30+ - obesity|4060985|M', 0.0029102765687368604),\n",
       " ('Other repair of kidney|2003646|P', 0.0028562394581266369),\n",
       " ('Closed [endoscopic] biopsy of stomach|2002586|P', 0.0027636974810863755),\n",
       " ('Muscle pain|442752|C', 0.0027499683269736706),\n",
       " ('Other repair of bladder|2003816|P', 0.0027262535659074803),\n",
       " ('Carotid artery obstruction|4288310|C', 0.002726240347473762),\n",
       " ('Bone graft, carpals and metacarpals|2005197|P', 0.0026992982790679022),\n",
       " ('Low back pain|194133|C', 0.0026471536044869641),\n",
       " ('Dialysis finding|4090651|M', 0.0026424302335690611),\n",
       " ('Acute exacerbation of chronic asthmatic bronchitis|40481763|C',\n",
       "  0.0026213414522101371),\n",
       " ('Other diagnostic procedures on spleen|2002386|P', 0.0025884504584288716),\n",
       " ('Total hip replacement|2005891|P', 0.002582503474180365),\n",
       " ('Orthostatic hypotension|319041|C', 0.0025612452878404825),\n",
       " ('Hemorrhage AND/OR hematoma complicating procedure|435141|C',\n",
       "  0.002557332676250829),\n",
       " ('Internal fixation of bone without fracture reduction, unspecified site|2005294|P',\n",
       "  0.0024674382038163273),\n",
       " ('Other antesternal esophagoenterostomy|2002488|P', 0.0024446227643634129),\n",
       " ('Diabetic renal disease|192279|C', 0.0024244941132316967),\n",
       " ('Correction of cleft palate|2001221|P', 0.0023977288788535386),\n",
       " ('Bipolar disorder|436665|C', 0.0023493035477428147),\n",
       " ('Disorder due to type 2 diabetes mellitus|443732|C', 0.0023347021935174106),\n",
       " ('Pneumonitis due to inhalation of food or vomitus|252663|C',\n",
       "  0.0023196304219393186),\n",
       " ('Chronic asthmatic bronchitis|256448|C', 0.0023039396985767564),\n",
       " ('Other excision of mouth|2001209|P', 0.0022421530315296012),\n",
       " ('Ulcer of foot|74719|C', 0.0022412310048989552),\n",
       " ('Nausea and vomiting|27674|C', 0.0021966396745836782),\n",
       " ('Continuous invasive mechanical ventilation for less than 96 consecutive hours|2008008|P',\n",
       "  0.0021910828060462185),\n",
       " ('Pulmonary emphysema|261325|C', 0.0021821488309930136),\n",
       " ('Fixation of intestine, not otherwise specified|2002849|P',\n",
       "  0.0021536817772036965),\n",
       " ('H/O: artificial heart valve|4060089|M', 0.0021241353453476395),\n",
       " ('Infection due to Escherichia coli|440320|C', 0.0020595746757414235),\n",
       " ('Abdominal pain|200219|C', 0.0020580239736956185),\n",
       " ('Malignant neoplasm of temporal lobe|4180907|C', 0.0020338025572792786),\n",
       " ('Spinal stenosis of lumbar region|136788|C', 0.0020116124821046286),\n",
       " ('Disorder of lung|257907|C', 0.0020069907799216001),\n",
       " ('Accident|440279|M', 0.0019864268522427754),\n",
       " ('Application of external fixator device, humerus|2005216|P',\n",
       "  0.0019639163338894356),\n",
       " ('Arthropathy of knee joint|4324765|C', 0.0019457849743469919),\n",
       " ('Degenerative joint disease of pelvis|40483794|C', 0.0019411738259115744),\n",
       " ('Cardiomegaly|314658|C', 0.0018801628898395316),\n",
       " ('Metabolic encephalopathy|372892|C', 0.0018159280666579175),\n",
       " ('Dependence on supplemental oxygen|42873170|C', 0.0017914996535920314),\n",
       " ('Acute infective exacerbation of chronic obstructive airways disease|4115044|C',\n",
       "  0.0017879957054925347),\n",
       " ('Bacterial infection due to Pseudomonas|438064|C', 0.0017837772482391205),\n",
       " ('Ascites|200528|C', 0.0017807327450314661),\n",
       " ('Acute pancreatitis|199074|C', 0.0017643991086547641),\n",
       " ('Restless legs|73754|C', 0.0017307184025829826),\n",
       " ('Combined alcohol and drug detoxification|2007803|P', 0.0017228239355757268),\n",
       " ('Bipolar affective disorder, current episode manic|440078|C',\n",
       "  0.0017065656676383668),\n",
       " ('History of renal transplant|4059356|M', 0.0016760193665091715),\n",
       " ('Postoperative hypothyroidism|137820|C', 0.0016696552598325838),\n",
       " ('Cerebral atherosclerosis|316437|C', 0.0016382678789518225),\n",
       " ('Septic shock|196236|C', 0.0016371562272716653),\n",
       " ('Anemia in neoplastic disease|441258|C', 0.0016152356498509834),\n",
       " ('Postoperative infection|437474|C', 0.0016026425215777277),\n",
       " ('Migraine|318736|C', 0.0015893434116615607),\n",
       " ('Shoulder joint pain|78232|C', 0.0015857423325288348),\n",
       " ('Palliative care|4014023|M', 0.0015794948896402329),\n",
       " ('Diverticulitis of colon|77025|C', 0.0015779196121250998),\n",
       " ('Pancytopenia|432881|C', 0.0015721840392507349),\n",
       " ('Closed fracture of rib|74188|C', 0.0015637065212996517),\n",
       " ('Closed reduction of fracture without internal fixation, femur|2005415|P',\n",
       "  0.0015472316119976522),\n",
       " ('Incision of perivesical tissue|2003901|P', 0.001507493618885401),\n",
       " ('Legal blindness USA|377290|C', 0.0015003710762991973),\n",
       " ('Excisional debridement of wound, infection, or burn|2006533|P',\n",
       "  0.0014547169359346308),\n",
       " ('Injection or infusion of other therapeutic or prophylactic substance|2008285|P',\n",
       "  0.0014481173556088005),\n",
       " ('Lysis of intraluminal adhesions with incision into bladder|2003764|P',\n",
       "  0.001438880596649912),\n",
       " ('Interruption of the vena cava|2002129|P', 0.0014381482253443851),\n",
       " ('Electrocardiogram abnormal|320536|M', 0.0014359769346581127),\n",
       " ('Closed [endoscopic] biopsy of bronchus|2001354|P', 0.0014307633898853513),\n",
       " ('Thoracoscopic excision of lesion or tissue of lung|2001326|P',\n",
       "  0.0014184045638927236),\n",
       " ('First degree atrioventricular block|314379|C', 0.0014126286873353338),\n",
       " ('Vitamin B deficiency|437246|C', 0.0014036377536219642),\n",
       " ('Pulmonary embolism|440417|C', 0.0014007533562340694),\n",
       " ('Thyrotoxicosis without goiter OR other cause|133727|C',\n",
       "  0.001396745601643116),\n",
       " ('Chronic pain syndrome|440704|C', 0.0013928602210745676),\n",
       " ('Thoracic spondylosis with myelopathy|79119|C', 0.0013801332541329516),\n",
       " ('Hyperparathyroidism due to renal insufficiency|133810|C',\n",
       "  0.001377530113652196),\n",
       " ('Female sterility|4005743|C', 0.0013675816630070291),\n",
       " ('Acute on chronic diastolic heart failure|40481043|C',\n",
       "  0.0013494067013583933),\n",
       " ('Suture of laceration of other part of mouth|2001212|P',\n",
       "  0.0013451393880690708),\n",
       " ('Pressure ulcer|135333|C', 0.0013411149623051542),\n",
       " ('Lumbosacral spondylosis without myelopathy|80813|C', 0.0013410382185248093),\n",
       " ('Unspecified operation on bone injury, carpals and metacarpals|2005594|P',\n",
       "  0.0013375040163435608),\n",
       " ('Single major depressive episode|432284|C', 0.0013296668905582827),\n",
       " ('Ostium secundum type atrial septal defect|434467|C', 0.0013240167921314838),\n",
       " ('Schizoaffective schizophrenia|432597|C', 0.0013110666896788616),\n",
       " ('Borderline personality disorder|434626|C', 0.0012955515114512887),\n",
       " ('Accident while engaged in household activity|433942|M',\n",
       "  0.0012946649751879352),\n",
       " ('Other excision or destruction of lesion or tissue of pharynx|2001260|P',\n",
       "  0.0012829873160890017),\n",
       " ('Biopsy of cornea|2000470|P', 0.0012784048303172372),\n",
       " ('Closed fracture of femur|435093|C', 0.0012776756670071611),\n",
       " ('Vascular insufficiency of intestine|192673|C', 0.0012713816834124627),\n",
       " ('Stapedectomy with incus replacement|2000890|P', 0.0012628963031598853),\n",
       " ('Open and other sigmoidectomy|2002765|P', 0.0012624887805807526),\n",
       " ('Other repair of anal sphincter|2003108|P', 0.0012559024693269668),\n",
       " ('Fall on same level from slipping, tripping or stumbling|437175|M',\n",
       "  0.0012481735806769087),\n",
       " ('Therapeutic plasmapheresis|2008373|P', 0.0012461136598252208),\n",
       " ('Acute exacerbation of intrinsic asthma|45773005|C', 0.0012434712556587996),\n",
       " ('Closed fracture of femur, lower epiphysis|437130|C', 0.0012307541087826343),\n",
       " ('Internal fixation of bone without fracture reduction, femur|2005299|P',\n",
       "  0.0012257752848706897),\n",
       " ('Pain in eye|379031|C', 0.001221733925237022),\n",
       " ('Osteoarthrosis involving multiple sites but not designated as generalized|76194|C',\n",
       "  0.0012211663644357933),\n",
       " ('Acute myocardial infarction|312327|C', 0.0012165344506531689),\n",
       " ('Other operations on urinary system|2003943|P', 0.0012146715081124153),\n",
       " ('Pancreatic sphincteroplasty|2003285|P', 0.0012146639868160221),\n",
       " ('Esophagitis|30753|C', 0.0012116504817862154),\n",
       " ('Endoscopic control of gastric or duodenal bleeding|2002622|P',\n",
       "  0.0012059024789099813),\n",
       " ('Acute upper respiratory infection|257011|C', 0.0012027105935288563),\n",
       " ('Cramp in limb|4311591|C', 0.0012016465275015193),\n",
       " ('Arthrotomy for removal of prosthesis without replacement, hip|2005618|P',\n",
       "  0.0011980333160647738),\n",
       " ('Bilateral neural hearing loss|443606|C', 0.0011888835711155439),\n",
       " ('Mononeuritis|372309|C', 0.0011884267097761634),\n",
       " ('Hematemesis|26727|C', 0.0011804908456545639),\n",
       " ('Adverse effect, due to correct medicinal substance properly administered|439221|C',\n",
       "  0.0011800747618127968),\n",
       " ('Other laparoscopic repair of other hernia of anterior abdominal wall with graft or prosthesis|2003464|P',\n",
       "  0.0011797457068402201),\n",
       " ('Raised prostate specific antigen|4245252|M', 0.0011787439319714266),\n",
       " ('Alcohol dependence|435243|C', 0.0011779324152688181),\n",
       " ('Profound mental retardation|438733|C', 0.0011749544775936547),\n",
       " ('Atherosclerosis of bypass graft of limb|40483538|C', 0.0011732867599783369),\n",
       " ('Other conversion of cardiac rhythm|2008361|P', 0.0011705623821090401),\n",
       " ('Vaccination required|4015724|M', 0.0011669264103860071),\n",
       " ('Sepsis due to Staphylococcus aureus|40489907|C', 0.0011661579348640496),\n",
       " ('Hypersensitivity angiitis|196431|C', 0.0011650099921141138),\n",
       " ('Endoscopic sphincterotomy and papillotomy|2003287|P',\n",
       "  0.0011610862718081699),\n",
       " ('H/O: heart valve recipient|4058429|M', 0.0011603706711197934),\n",
       " ('Other and open repair of direct inguinal hernia with graft or prosthesis|2003405|P',\n",
       "  0.0011597220408948044),\n",
       " ('Viral hepatitis without hepatic coma|193693|C', 0.0011492340519319991),\n",
       " ('Bronchiectasis|256449|C', 0.0011451024547186352),\n",
       " ('Sick-euthyroid syndrome|137991|C', 0.0011428958360195425),\n",
       " ('Pathological fracture of vertebra|74138|C', 0.0011395103339772409),\n",
       " ('Malignant neoplasm of cerebrum|4091490|C', 0.0011343606581280534),\n",
       " ('Exacerbation of asthma|257581|C', 0.0011334550469269628),\n",
       " ('Computerized axial tomography of head|2006634|P', 0.0011331540560587403),\n",
       " ('Limb shortening procedures, unspecified site|2005235|P',\n",
       "  0.0011301056524350664),\n",
       " ('Abnormal patient reaction|433656|C', 0.0011290668066562307),\n",
       " ('Secondary malignant neoplasm of pleura|72266|C', 0.0011277364945407374),\n",
       " ('Third degree burn of multiple sites of upper limb|40440777|C',\n",
       "  0.0011208951499957446),\n",
       " ('Laceration of kidney without open wound into abdominal cavity|194200|C',\n",
       "  0.0011116435955333891),\n",
       " ('Biopsy of lymphatic structure|2002290|P', 0.0011068761787287815),\n",
       " ('Contusion of knee|78619|C', 0.0010935972646921167),\n",
       " ('Dermatomyositis|80182|C', 0.0010930850522247078),\n",
       " ('Aquapheresis|2008380|P', 0.0010912699721961204),\n",
       " ('Removal of implanted devices from bone, humerus|2005317|P',\n",
       "  0.0010870401063243868),\n",
       " ('Traumatic arthropathy-knee|4114604|C', 0.0010710965498273201),\n",
       " ('Postprocedural state finding|444239|C', 0.0010666927883923255),\n",
       " ('Disorder of bone and articular cartilage|77646|C', 0.0010633082854588189),\n",
       " ('Pain of breast|73819|C', 0.0010632623648553568),\n",
       " ('Venous catheterization for renal dialysis|2002176|P',\n",
       "  0.0010572726192449855),\n",
       " ('Blepharitis|378425|C', 0.0010560749585479922),\n",
       " ('Hypercortisolism|195212|C', 0.0010560513925071424),\n",
       " ('Acquired kyphosis|80512|C', 0.0010548277807601533),\n",
       " ('Benign hypertensive heart disease with congestive heart failure|312338|C',\n",
       "  0.0010533292886596305),\n",
       " ('Chorea|440990|C', 0.0010478414360729168),\n",
       " ('Secondary malignant neoplasm of respiratory tract|253717|C',\n",
       "  0.0010455363433098546),\n",
       " ('Opioid analgesic allergy|4163058|C', 0.0010442108405399127),\n",
       " ('Other computerized axial tomography|2006852|P', 0.0010376972133965586),\n",
       " ('Mixed bipolar affective disorder, severe, with psychosis|439246|C',\n",
       "  0.0010375461399982388),\n",
       " ('Orbital hemorrhage|433778|C', 0.0010333896451650496),\n",
       " ('Closed fracture of ilium|81141|C', 0.0010326335881071882),\n",
       " ('Primary malignant neoplasm of anus|80045|C', 0.0010318272792630384),\n",
       " ('Essential thrombocythemia|438383|C', 0.0010313683390947453),\n",
       " ('Malignant neoplasm of anterior wall of urinary bladder|77812|C',\n",
       "  0.0010287731504860309),\n",
       " ('Administration of neuroprotective agent|2008377|P', 0.0010255830206877233),\n",
       " ('Disturbance of consciousness|376961|C', 0.0010218197457067628),\n",
       " ('Degeneration of intervertebral disc|80816|C', 0.0010204898091584194),\n",
       " ('Sepsis due to anaerobic bacteria|40486631|C', 0.0010188821976690227),\n",
       " ('Monitoring of cardiac output by other technique|2007104|P',\n",
       "  0.0010183068249251437),\n",
       " ('Sensorineural hearing loss|374366|C', 0.0010182937551330377),\n",
       " ('Open wound of ear without complication|379953|C', 0.0010175603533767233),\n",
       " ('Hypovolemia|436375|C', 0.0010173325086496462),\n",
       " ('Bleeding diverticulosis|194395|C', 0.0010159546598623912),\n",
       " ('Accidents caused by cutting and piercing instruments or objects|432807|M',\n",
       "  0.0010156652289401284),\n",
       " ('Grand mal status|373748|C', 0.0010105141819491082),\n",
       " ('Transabdominal proctosigmoidoscopy|2002942|P', 0.0010100260974087263),\n",
       " ('Insertion or replacement of pedicle-based dynamic stabilization device(s)|2006357|P',\n",
       "  0.0010090231705174961),\n",
       " ('Percutaneous aspiration of gallbladder|2003188|P', 0.0010035926145538685),\n",
       " ('Incision or excision of congenital septum of uterus|2004447|P',\n",
       "  0.00099940052952691917),\n",
       " ('Cellulitis and abscess of foot excluding toe|74114|C',\n",
       "  0.00099916547180921452),\n",
       " ('Replacement of nephrostomy tube|2003650|P', 0.0009917151527734844),\n",
       " ('Complication of introduction procedure|436007|C', 0.00098694508039639237),\n",
       " ('Blood coagulation disorder, categorized by value of screening test|440846|C',\n",
       "  0.00098645256770012375),\n",
       " ('Insertion of permanent tube into esophagus|2002505|P',\n",
       "  0.00098443744042434576),\n",
       " ('Biopsy of bony palate|2001197|P', 0.00098162911674218333),\n",
       " ('Percutaneous abdominal drainage|2003547|P', 0.00097808252633154857),\n",
       " ('Pica|437839|C', 0.00097406612464522935),\n",
       " ('Traumatic closed dislocation of temporomandibular joint|79173|C',\n",
       "  0.00097314406892996211),\n",
       " ('Dissection of abdominal aorta|4256889|C', 0.00097312390392186303),\n",
       " ('Congenital chromosomal disease|434153|C', 0.00097154915584520593),\n",
       " ('Insertion of totally implantable infusion pump|2006515|P',\n",
       "  0.00096942471604613534),\n",
       " ('Subdural hemorrhage|439040|C', 0.00096915742722457972),\n",
       " ('Cerebral cyst|380702|C', 0.00096694559652754804),\n",
       " ('Amphetamine abuse, continuous|438126|C', 0.00096517714581487299),\n",
       " ('Optic neuritis|374954|C', 0.0009646917806449089),\n",
       " ('Diverticulosis of colon with perforation|4173243|C',\n",
       "  0.00096366619933227048),\n",
       " ('Dacryocystitis|439025|C', 0.00096340868822680792),\n",
       " ('Nondependent mixed drug abuse|439312|C', 0.0009612699339220668),\n",
       " ('Difficulty speaking|432730|C', 0.0009607952673963509),\n",
       " ('Suture of laceration of kidney|2003629|P', 0.00096043021423478472),\n",
       " ('Percutaneous hepatic cholangiogram|2006712|P', 0.00095510920685499569),\n",
       " ('Combined opioid with other drug dependence in remission|4100520|C',\n",
       "  0.00095460667447585645),\n",
       " ('Rupture of chordae tendineae|438171|C', 0.00095455738574996396),\n",
       " ('Chronic kidney disease stage 2|443601|C', 0.00095439989442064029),\n",
       " ('Malignant neoplasm of corpus uteri, excluding isthmus|194286|C',\n",
       "  0.00095292139226507439),\n",
       " ('Examination of research control|4063521|P', 0.00094703246562644766),\n",
       " ('Primary malignant neoplasm of unspecified site|436919|C',\n",
       "  0.00094624044020892063),\n",
       " ('Incision with removal of foreign body or device from skin and subcutaneous tissue|2006514|P',\n",
       "  0.00094364572878140199),\n",
       " ('Foreign body in orifice|259995|C', 0.00094268914082909288),\n",
       " ('Pruritus of genital organs|4146239|C', 0.00093648024212414024),\n",
       " ('Endoscopic excision or destruction of lesion or tissue of stomach|2002544|P',\n",
       "  0.00093463457078314096),\n",
       " ('Alcohol detoxification|2007787|P', 0.0009333861490408668),\n",
       " ('Ketoacidosis in type 2 diabetes mellitus|443734|C', 0.0009318445389281027),\n",
       " ('Suture of laceration of bronchus|2001367|P', 0.00093162667766461492),\n",
       " ('Replacement of any type pacemaker device with single-chamber device, not specified as rate responsive|2001977|P',\n",
       "  0.0009285809283602342),\n",
       " ('Other nonoperative cardiac and vascular measurements|2007084|P',\n",
       "  0.00092707326931222339),\n",
       " ('Disorder of cardiovascular prostheses and implants|142026|C',\n",
       "  0.00092668526401995272),\n",
       " ('Congenital anomaly of aorta|314463|C', 0.00092561180347750839),\n",
       " ('Body mass index 20-24 - normal|4135421|M', 0.00092174456092000256),\n",
       " ('Schizotypal personality disorder|434010|C', 0.00091981092152409723),\n",
       " ('Biopsy of diaphragm|2001406|P', 0.00091931095583207918),\n",
       " ('Biopsy of bone, other bones|2005077|P', 0.00091425496432619862),\n",
       " ('Ambulation and gait training|2007550|P', 0.00091044669150036378),\n",
       " ('Endoscopic retrograde cholangiopancreatography [ERCP]|2003203|P',\n",
       "  0.00090942469533929996),\n",
       " ('Congenital deformity of hip joint|77373|C', 0.00090633045820119867),\n",
       " ('Laparoscopic right hemicolectomy|2000832|P', 0.00090535117470467042),\n",
       " ('Renal disorder associated with type 1 diabetes mellitus|200687|C',\n",
       "  0.00090230369796028454),\n",
       " ('Acute gastric ulcer with hemorrhage but without obstruction|193795|C',\n",
       "  0.00090161013450521757),\n",
       " ('Hypercalcemia|435511|C', 0.00089787570088123078),\n",
       " ('Excision of cystic duct remnant|2003263|P', 0.00089558361986920678),\n",
       " ('Combined physical therapy without mention of the components|2007586|P',\n",
       "  0.00089445119861155016),\n",
       " ('Removal of implanted devices from bone, patella|2005321|P',\n",
       "  0.00089337016084353553),\n",
       " ('Allergic rhinitis|257007|C', 0.00088953112525625301),\n",
       " ('Bundle branch block|313791|C', 0.00088916600170076338),\n",
       " ('Opioid dependence|438120|C', 0.00088789834028577073),\n",
       " ('Thrown from animal being ridden, rider of animal injured|442360|M',\n",
       "  0.00088175754423427109),\n",
       " ('Cholangitis|195856|C', 0.00088049124446215989),\n",
       " ('Tricuspid valve disorder|316993|C', 0.00088011020674263704),\n",
       " ('Insomnia|436962|C', 0.00087920028061467691),\n",
       " ('Cystic disease of kidney|193016|C', 0.00087657457675661108),\n",
       " ('Diabetic macular edema|380097|C', 0.00087598199306746427),\n",
       " ('Biopsy of eyeball and orbit|2000725|P', 0.00087235062334563957),\n",
       " ('Adjustment disorder with depressed mood|442306|C', 0.00087228798266069567),\n",
       " ('Repair of hypospadias or epispadias|2003874|P', 0.00087217841842679444),\n",
       " ('Thiamin deficiency|441266|C', 0.00087147871222016031),\n",
       " ('Locked in syndrome|434644|C', 0.00087069564077381335),\n",
       " ('Scan of other sites of head|2007450|P', 0.00087043831693177929),\n",
       " ('Attachment of pedicle or flap graft to other sites|2006580|P',\n",
       "  0.00087040563808506285),\n",
       " ('Spontaneous tension pneumothorax|258787|C', 0.00086847605743633788),\n",
       " ('History of cataract extraction|4178305|M', 0.00086730067657460243),\n",
       " ('Incision of salivary gland or duct|2001174|P', 0.00086489787350541307),\n",
       " ('Diagnostic ultrasound of head and neck|2006917|P', 0.00086376929873495519),\n",
       " ('Spiritual beliefs conflicting with healthcare plan|4309418|C',\n",
       "  0.00086352066919580283),\n",
       " ('Closed [percutaneous] [needle] biopsy of kidney|2003588|P',\n",
       "  0.00086295598260388909),\n",
       " ('Pyoderma gangrenosum|133283|C', 0.0008602049181969352),\n",
       " ('Spinal cord disease|135526|C', 0.00085750910173279071),\n",
       " ('Tophus|433447|C', 0.00085742758414694643),\n",
       " ('Hypercoagulability state|4295287|C', 0.00085608071149295814),\n",
       " ('Infarction - precerebral|4043731|C', 0.00085351146383401552),\n",
       " ('Noninflammatory disorder of the vagina|195867|C', 0.00085248277960077185),\n",
       " ('Repair of atrial septal defect with tissue graft|2001476|P',\n",
       "  0.0008506107247431236),\n",
       " ('Resection of vessel with anastomosis, intracranial vessels|2002050|P',\n",
       "  0.00084903552645985742),\n",
       " ('Helicobacter-associated disease|440321|C', 0.00084638680640940352),\n",
       " ('Shortening procedure on one extraocular muscle|2000688|P',\n",
       "  0.00084487466007766203),\n",
       " ('Other anterior resection of rectum|2002990|P', 0.00084423151821117978),\n",
       " ('Laparoscopic gastroenterostomy|2002606|P', 0.0008433630859955648),\n",
       " ('Other incision of vulva and perineum|2004650|P', 0.00084269438036240223),\n",
       " ('Other and unspecified segmental resection of lung|2001337|P',\n",
       "  0.00083945622027386147),\n",
       " ('Primary malignant neoplasm of long bone of lower limb|436640|C',\n",
       "  0.00083890095659116658),\n",
       " ('Corticosteroids adverse reaction|439222|C', 0.00083759786596075692),\n",
       " ('Chronic respiratory failure|314971|C', 0.00083685902592098424),\n",
       " ('Vaginitis and vulvovaginitis|194083|C', 0.00083549053402276734),\n",
       " ('Incision of chest wall and pleura|2001389|P', 0.00083338718640178831),\n",
       " ('Osteomyelitis of shoulder region|133003|C', 0.00082601681380129279),\n",
       " ('Thrombophlebitis of the femoral vein|439314|C', 0.00082558735875521675),\n",
       " ('Mechanical complication of cardiac device, implant AND/OR graft|438297|C',\n",
       "  0.00082512592286687711),\n",
       " ('Microscopic examination of blood, culture and sensitivity|2007202|P',\n",
       "  0.00082299667666771003),\n",
       " ('Supraventricular premature beats|441872|C', 0.00082233441250530951),\n",
       " (\"Farmers' lung|435298|C\", 0.00082145364566918379),\n",
       " ('Disorder of nervous system|376337|C', 0.00082084297058695923),\n",
       " ('Viral disease|440029|C', 0.00082067681313457497),\n",
       " ('Hypertensive heart AND renal disease|195556|C', 0.00081654876174264211),\n",
       " ('Panniculitis|432719|C', 0.00080682616150120289),\n",
       " ('Ehlers-Danlos syndrome|79145|C', 0.0008037852590294755),\n",
       " ('Cholelithiasis without obstruction|444367|C', 0.00080357199270665418),\n",
       " ('Fever|437663|C', 0.00080298532846638461),\n",
       " ('Transurethral clearance of bladder|2003751|P', 0.0008022638291966522),\n",
       " ('Angioplasty of other non-coronary vessel(s)|2002222|P',\n",
       "  0.00079523325156122477),\n",
       " ('Open fracture finger proximal phalanx|443114|C', 0.00078926209877853406),\n",
       " ('Congestive rheumatic heart failure|315295|C', 0.00078833453887129255),\n",
       " ('Bacterial infectious disease|432545|C', 0.00078749944916045405),\n",
       " ('Food allergy|4188027|C', 0.00078707916782373624),\n",
       " ('Localization-related epilepsy|374915|C', 0.00078653527688148398),\n",
       " ('Other diagnostic procedures on kidney|2003590|P', 0.00078583328279841793),\n",
       " ('Other oxygen enrichment|2007685|P', 0.00078580223749560212),\n",
       " ('Laparoscopy|2003504|P', 0.00078476620742976727),\n",
       " ('Acute laryngitis|30133|C', 0.00078295798237933308),\n",
       " ('Laparoscopic repair of direct inguinal hernia with graft or prosthesis|2000791|P',\n",
       "  0.00078267341390047857),\n",
       " ('Autoimmune hemolytic anemia|441269|C', 0.00078222535411863481),\n",
       " ('Skin lesion|4316083|C', 0.00078102668633228775),\n",
       " ('Closed fracture of intracapsular section of femur|437703|C',\n",
       "  0.00078077430254816873),\n",
       " ('Nephroscopy|2003586|P', 0.00078062880609961426),\n",
       " ('Ulcer of lower extremity|197304|C', 0.00077962223933939086),\n",
       " ('Disorder of bronchus|260131|C', 0.00077893411220586939),\n",
       " ('Benign neoplasm of stomach|196061|C', 0.00077833406882965985),\n",
       " ('Neoplasm of uncertain behavior of brain and spinal cord|440676|C',\n",
       "  0.00077759634065787959),\n",
       " ('Congenital anomaly of coronary artery|321109|C', 0.00077415451141693841),\n",
       " ('Ventricular shunt to abdominal cavity and organs|2000148|P',\n",
       "  0.00077393363372949475),\n",
       " ('Osteoarthritis of elbow|4083695|C', 0.00077130090651850842),\n",
       " ('Revision of amputation stump|2006268|P', 0.0007687604697649927),\n",
       " ('Disorder of bone|75909|C', 0.00076672128691535307),\n",
       " ('Closed fracture of multiple ribs|78273|C', 0.00076603951968635606),\n",
       " ('Poisoning by methadone|440919|C', 0.00076477770281355682),\n",
       " ('Attention to tracheostomy|4336916|P', 0.00076094511928530425),\n",
       " ('Coronary arteriography using two catheters|2006892|P',\n",
       "  0.0007599203978711273),\n",
       " ('Mechanical complication due to urethral indwelling catheter|194847|C',\n",
       "  0.00075961593173446134),\n",
       " ('Acute generalized peritonitis|193240|C', 0.00075827372924184883),\n",
       " ('Other excision of vessels, lower limb veins|2002128|P',\n",
       "  0.00075737414874146435),\n",
       " ('Chronic infection of amputation stump|135722|C', 0.0007569683284763633),\n",
       " ('Nodular lymphoma|4149840|C', 0.00075595320398702027),\n",
       " ('REM sleep behavior disorder|439007|C', 0.0007557969428957607),\n",
       " ('Removal of nail, nail bed, or nail fold|2006534|P', 0.00075180044895483561),\n",
       " ('Exploratory laparotomy|2003490|P', 0.00075119514398703754),\n",
       " ('Partial ureterectomy|2003690|P', 0.00075055482878336936),\n",
       " ('Contusion of multiple sites|433071|C', 0.00074982141421743153),\n",
       " ('Neoplasm of digestive tract|196931|C', 0.00074923198088443232),\n",
       " ('Cystitis|195588|C', 0.00074767748466354723),\n",
       " ('Acute leukemia|138708|C', 0.00074686509872178865),\n",
       " ('H/O: surgery|4058419|M', 0.000745050722990324),\n",
       " ('Cared for by family|4144149|M', 0.00074472374441062058),\n",
       " ('Urinary symptoms|74174|C', 0.00074373494575798507),\n",
       " ('Other operations on one extraocular muscle involving temporary detachment from globe|2000685|P',\n",
       "  0.00074305873903927064),\n",
       " ('Other repair or plastic operations on bone, scapula, clavicle, and thorax [ribs and sternum]|2005274|P',\n",
       "  0.00074223771897108382),\n",
       " ('Other repair of esophagus|2002522|P', 0.00074165073828515919),\n",
       " ('Repair of inguinal hernia with graft or prosthesis, not otherwise specified|2003407|P',\n",
       "  0.00073868078654638545),\n",
       " ('Chronic ulcerative pancolitis|40482241|C', 0.00073787487450906848),\n",
       " ('Ultraviolet light therapy|2008394|P', 0.00073479751083358553),\n",
       " ('Esophageal bleeding|23245|C', 0.00073412713762378737),\n",
       " ('Other lavage of bronchus and trachea|2007991|P', 0.00073273715015215385),\n",
       " ('Traumatic shock|201478|C', 0.0007321982882149366),\n",
       " ('Unemployed|4251171|M', 0.00073145481726323949),\n",
       " ('Antiepileptic adverse reaction|432809|C', 0.00072929895477568275),\n",
       " ('Device withdrawn and / or removed|432814|M', 0.000725922302084157),\n",
       " ('Immunization refused|4171434|M', 0.00072338318694178223),\n",
       " ('Respiratory medication administered by nebulizer|2007683|P',\n",
       "  0.00072329401921242319),\n",
       " ('Percutaneous nephrostomy without fragmentation|2003570|P',\n",
       "  0.00072050201324052232),\n",
       " ('Aspiration and lavage of nasal sinus|2001085|P', 0.00071995769288614475),\n",
       " ('Benign hypertensive renal disease|193493|C', 0.00071860097051870057),\n",
       " ('H/O: lung recipient|4059465|M', 0.0007169266855046564),\n",
       " ('Suicidal thoughts|4273391|C', 0.00071517952137393798),\n",
       " ('Primary malignant neoplasm of base of tongue|256633|C',\n",
       "  0.00071438011491074382),\n",
       " ('Benign neoplasm of fallopian tubes and uterine ligaments|198108|C',\n",
       "  0.00071401793485034401),\n",
       " ('Excision or destruction of lesion or tissue of mediastinum|2001409|P',\n",
       "  0.00071290093630291805),\n",
       " ('Other repair or plastic operations on bone, radius and ulna|2005276|P',\n",
       "  0.0007109474087319159),\n",
       " ('Lipoma of intra-abdominal organs|196654|C', 0.0007003413636171423),\n",
       " ('Polycystic kidney disease, adult type|436232|C', 0.00069545902094353407),\n",
       " ('Shock|201965|C', 0.0006951540263431293),\n",
       " ('Synovial cyst|72712|C', 0.00069493764381648533),\n",
       " (\"Crohn's disease|201606|C\", 0.00069414187020065265),\n",
       " ('Overlapping malignant neoplasm of bronchus and lung|258375|C',\n",
       "  0.00069411930423018877),\n",
       " ('Other excision or destruction of lesion of uterus|2004449|P',\n",
       "  0.00069352133636022733),\n",
       " ('Cholelithiasis AND cholecystitis without obstruction|201070|C',\n",
       "  0.00068940430807462811),\n",
       " ('Paraplegia|192606|C', 0.00068225511375277824),\n",
       " ('Deep full thickness burn of multiple specified sites with loss of body part|444175|C',\n",
       "  0.00068052772373688856),\n",
       " ('Extraction of milk from lactating breast|2008418|P',\n",
       "  0.00067874371359354926),\n",
       " ('Disorder of pancreatic internal secretion|193983|C', 0.0006785638789143408),\n",
       " ('Secondary malignant neoplasm of intra-abdominal lymph nodes|192568|C',\n",
       "  0.00067793418544501844),\n",
       " ('Contusion of back|140266|C', 0.00067640985320853106),\n",
       " ('Closed fracture of neck of femur|434500|C', 0.00067570220623372099),\n",
       " ('Overlapping malignant neoplasm of pancreas|192261|C',\n",
       "  0.00067541446520412701),\n",
       " ('Open wound of nose without complication|255677|C', 0.00067461329793865087),\n",
       " ('Abrasion and/or friction burn of scalp without infection|442623|C',\n",
       "  0.00067396870486904079),\n",
       " ('Acquired coagulation factor deficiency|432863|C', 0.00067357040098481758),\n",
       " ('Other and unspecified repair of the anulus fibrosus|2005722|P',\n",
       "  0.00067160478560003155),\n",
       " ('Benzodiazepine sedative adverse reaction|437470|C', 0.00066874333318285562),\n",
       " ('Other partial resection of small intestine|2002747|P',\n",
       "  0.00066774583615889882),\n",
       " ('Chronic hepatitis C|198964|C', 0.00066677704325963634),\n",
       " ('Other operations on cul-de-sac|2004643|P', 0.00066656446279658439),\n",
       " ('Hemodialysis-associated hypotension|313232|C', 0.00066649177730740482),\n",
       " ('Delirium|373995|C', 0.0006663171454258551),\n",
       " ('Disorder of transplanted kidney|199991|C', 0.00066626160475696924),\n",
       " ('Musculoskeletal symptom|137379|C', 0.00066564111335277283),\n",
       " ('Mycobacteriosis|440631|C', 0.00066509926775340294),\n",
       " ('Culdocentesis|2004551|P', 0.00066193193808798093),\n",
       " ('Malignant neoplasm of uterus|197230|C', 0.00066019749549900072),\n",
       " ('Mood disorder|444100|C', 0.00065887170821816738),\n",
       " ('Application of other cast|2007608|P', 0.00065772133530048735),\n",
       " ('Revision or removal of pacemaker device|2001980|P', 0.00065756233108842468),\n",
       " ('Removal of foreign body from posterior segment of eye with use of magnet|2000603|P',\n",
       "  0.00065689436466474479),\n",
       " ('Secondary malignant neoplasm of lymph nodes of upper limb|434298|C',\n",
       "  0.00065617768429512716),\n",
       " ('Basilar artery occlusion|437308|C', 0.00065499017005973966),\n",
       " ('Gastro-esophageal reflux disease with esophagitis|30437|C',\n",
       "  0.00065382161646750168),\n",
       " ('Hemiplegia of dominant side|40482237|C', 0.00065291078973912472),\n",
       " ('Degenerative joint disease of ankle AND/OR foot|4219481|C',\n",
       "  0.00065130558075422935),\n",
       " ('Other incision with drainage of skin and subcutaneous tissue|2006513|P',\n",
       "  0.00065115660786916111),\n",
       " ('Hammer toe|433577|C', 0.00065100261868968317),\n",
       " ('Bleeding ulcer of esophagus|26441|C', 0.00064703540973893984),\n",
       " ('Candidiasis of mouth|29735|C', 0.00064679206359897893),\n",
       " ('Aftercare|4186037|M', 0.00064174067494961239),\n",
       " ('Other and unspecified pneumonectomy|2001343|P', 0.0006358490092247919),\n",
       " ('Infection by methicillin sensitive Staphylococcus aureus|40481816|C',\n",
       "  0.00063458707959754312),\n",
       " ('Insertion or replacement of interspinous process device(s)|2006355|P',\n",
       "  0.00063435403774136142),\n",
       " ('Respiratory complication|321483|C', 0.0006342916168778403),\n",
       " ('Other operations on vessels of heart|2001527|P', 0.00063163180447224567),\n",
       " ('Dehiscence of surgical wound|136580|C', 0.00063127253059861615),\n",
       " ('Mechanical complication due to cardiac pacemaker electrode|442011|C',\n",
       "  0.000630017800981431),\n",
       " ('Chronic leukemia|140057|C', 0.00062479487917608666),\n",
       " ('Functional evaluation|2007509|P', 0.00062210083461615082),\n",
       " ('Chronic pulmonary radiation disease|252348|C', 0.00062047088452659826),\n",
       " ('Hemopericardium|258449|C', 0.00061960231145924459),\n",
       " ('Finding relating to psychosocial functioning|4107655|C',\n",
       "  0.00061786129448120281),\n",
       " ('Follicular cyst of ovary|193530|C', 0.00061689850105366855),\n",
       " ('Secondary malignant neoplasm of liver|198700|C', 0.00061666181447637101),\n",
       " ('Polyarthropathy|75897|C', 0.00061388560100624368),\n",
       " ('Thrombosis of arteries of lower extremity|4236905|C',\n",
       "  0.00061045641305326845),\n",
       " ('Posterior rhinorrhea|257683|C', 0.0006091181811318224),\n",
       " ('Injection of therapeutic substance into bursa|2006201|P',\n",
       "  0.00060895189179459145),\n",
       " ('Pedicle or flap graft, not otherwise specified|2006576|P',\n",
       "  0.00060376643618155847),\n",
       " ('Other local excision or destruction of lesion of joint, foot and toe|2005765|P',\n",
       "  0.00060024443537033689),\n",
       " ('Permanent colostomy|2002807|P', 0.00059992479172560136),\n",
       " ('Continuous opioid dependence|440693|C', 0.00059818167817276202),\n",
       " ('Partial hip replacement|2005902|P', 0.0005971511793523319),\n",
       " ('Spinal tap|2000173|P', 0.0005967307892449879),\n",
       " ('Localized adiposity|438731|C', 0.00059505227657533956),\n",
       " ('Other evisceration of eyeball|2000729|P', 0.00059453215822403668),\n",
       " ('Contusion of eye|381444|C', 0.00059354807612469439),\n",
       " ('Combined opioid with other drug dependence|4099809|C',\n",
       "  0.00059272034856140395),\n",
       " ('Chronic residual schizophrenia|436673|C', 0.00058981507597698354),\n",
       " ('Acute pain due to injury|4333227|C', 0.00058739450745615),\n",
       " ('Tenosynovitis of foot|443111|C', 0.00058127122518656922),\n",
       " ('Ganglion of joint|80815|C', 0.0005804553348362939),\n",
       " ('Varicose veins of lower extremity with ulcer|318784|C',\n",
       "  0.00057783195302901172),\n",
       " ('Amputated above knee|4103638|C', 0.00057749743377510747),\n",
       " ('Generalized abdominal pain|197988|C', 0.00057711927553027727),\n",
       " ('Multiple joint pain|78517|C', 0.00057571635187605682),\n",
       " ('Dysphasia as late effect of cerebrovascular disease|40479575|C',\n",
       "  0.0005754132854179873),\n",
       " ('Gastric ulcer without hemorrhage, without perforation AND without obstruction|195851|C',\n",
       "  0.00057534942821897965),\n",
       " ('Fall from one level to another|436299|M', 0.00057441497097696168),\n",
       " ('Open biopsy of brain|2000101|P', 0.00057405381952594747),\n",
       " ('Impulse control disorder|433752|C', 0.0005734989152795662),\n",
       " ('Chronic combined systolic and diastolic heart failure|44782719|C',\n",
       "  0.0005703918025271906),\n",
       " ('Refusion of other cervical spine, posterior column, posterior technique|2005864|P',\n",
       "  0.00056893882339149795),\n",
       " ('Insertion of totally implantable vascular access device [VAD]|2006516|P',\n",
       "  0.00056877001903912197),\n",
       " ('Other operations on ossicular chain|2000905|P', 0.00056863659600365146),\n",
       " ('Congenital disorder of gallbladder and biliary tract|196214|C',\n",
       "  0.00056841675858041103),\n",
       " ('Edema of penis|201346|C', 0.00056578659994050286),\n",
       " ('Narcolepsy|436100|C', 0.00056440076083895873),\n",
       " ('Malignant lymphoma of intra-abdominal lymph nodes|200349|C',\n",
       "  0.00056134144525857733),\n",
       " ('Infected seroma after surgical procedure|40480515|C',\n",
       "  0.00056004551977901498),\n",
       " ('Destruction of phrenic nerve for collapse of lung|2001361|P',\n",
       "  0.00055861560228371394),\n",
       " ('Complication of surgical procedure|434547|C', 0.00055859166733102257),\n",
       " ('Acute cor pulmonale|312927|C', 0.00055752872395389385),\n",
       " ('Precordial pain|134159|C', 0.00055732721639469008),\n",
       " ('Dilation of esophagus|2002525|P', 0.00055465373649325929),\n",
       " ('Cervical lymphangiogram|2006639|P', 0.00055267362403465831),\n",
       " ('Hemiplegia of nondominant side as late effect of cerebrovascular disease|40484513|C',\n",
       "  0.0005490177272909903),\n",
       " (\"Megacolon, not Hirschsprung's|198465|C\", 0.00054810106754880493),\n",
       " ('High gastric bypass|2002604|P', 0.00054792376294589696),\n",
       " ('Primary malignant neoplasm of vagina|196048|C', 0.00054640857398975846),\n",
       " ('Closed fracture of base of skull with subarachnoid, subdural AND/OR extradural hemorrhage|440531|C',\n",
       "  0.00054519272807886045),\n",
       " ('Allergy to substance|4169307|C', 0.00054459669532267005),\n",
       " ('Application of plaster jacket|2007606|P', 0.00054184022123571294),\n",
       " ('Insertion or replacement of epicardial lead [electrode] into epicardium|2001576|P',\n",
       "  0.0005397714198243737),\n",
       " ('Viral hepatitis C|197494|C', 0.00053771451838405347),\n",
       " ('Other (peripheral) vascular shunt or bypass|2002191|P',\n",
       "  0.00053621917861725846),\n",
       " ('Acute prostatitis|193522|C', 0.0005353840712651345),\n",
       " ('Deep venous thrombosis of lower extremity|443537|C', 0.0005351555106573087),\n",
       " ('Acquired genu valgum|80504|C', 0.00053401221970802613),\n",
       " ('Colostomy management and care|4093763|M', 0.00053295663233171456),\n",
       " ('Inflammatory polyarthropathy|74125|C', 0.00053105453178941089),\n",
       " ('Endoscopic robotic assisted procedure|2000841|P', 0.00053025160843690527),\n",
       " ('Other kidney transplantation|2003626|P', 0.00052928357047208382),\n",
       " ('Plastic operations on spinal cord structures|2000177|P',\n",
       "  0.00052560622545739816),\n",
       " ('Renal osteodystrophy|197921|C', 0.00052160472814961477),\n",
       " ('Peripheral circulatory disorder associated with type 2 diabetes mellitus|443729|C',\n",
       "  0.00051994841359969497),\n",
       " ('Removal of implanted devices from bone, radius and ulna|2005318|P',\n",
       "  0.00051868804616302751),\n",
       " ('Immune thrombocytopenic purpura|4120621|C', 0.00051825729964812526),\n",
       " ('Gas gangrene|433696|C', 0.00051750330074300623),\n",
       " ('Nonruptured cerebral aneurysm|377001|C', 0.00051555807328684843),\n",
       " ('Attention to gastrostomy|4125153|P', 0.00051375347520335717),\n",
       " ('Mallory-Weiss syndrome|316457|C', 0.00051108501576264823),\n",
       " ('Isolation of segment of large intestine|2002744|P', 0.00050661190478986208),\n",
       " ('Iliopsoas abscess|199073|C', 0.00050622632203734539),\n",
       " ('Premature beats|316429|C', 0.00050392227289258274),\n",
       " ('Disorder of artery|321887|C', 0.00050137244232774218),\n",
       " ('Unilateral recurrent inguinal hernia with obstruction but no gangrene|197022|M',\n",
       "  0.00050104841420236872),\n",
       " ('Repair of ventricular septal defect with tissue graft|2001477|P',\n",
       "  0.00049623300861377409),\n",
       " ('Removal of implanted devices from bone, femur|2005320|P',\n",
       "  0.00049147944302970804),\n",
       " ('Psychophysical visual disturbance|373775|C', 0.00049088421337835397),\n",
       " ('Endovascular (total) embolization or occlusion of head and neck vessels|2002251|P',\n",
       "  0.00048843104242818),\n",
       " ('Electrographic monitoring|2007079|P', 0.00048571911132541971),\n",
       " ('Closed [percutaneous] [needle] biopsy of intra-abdominal mass|2003507|P',\n",
       "  0.00048528289926404183),\n",
       " ('Other psychiatric drug therapy|2007726|P', 0.00048365002206033866),\n",
       " ('Precipitous drop in hematocrit|4216894|M', 0.00048160612380979752),\n",
       " ('Disorder of basal ganglia|378144|C', 0.00048002973168098943),\n",
       " ('Acute on chronic combined systolic and diastolic heart failure|44782733|C',\n",
       "  0.00047979188370682199),\n",
       " ('Other sympathectomy and ganglionectomy|2000250|P', 0.00047811232639116712),\n",
       " ('Arteriosclerotic dementia with depression|374326|C',\n",
       "  0.00047687232455181168),\n",
       " ('Other puncture of vein|2002178|P', 0.00047522838513674439),\n",
       " ('Subarachnoid hemorrhage following injury without open intracranial wound AND with no loss of consciousness|439944|C',\n",
       "  0.00047387672190139757),\n",
       " ('Congenital anomaly of esophagus|23868|C', 0.00047272070990538067),\n",
       " ('Multiple mitral and aortic valve involvement|312931|C',\n",
       "  0.00047258739799015191),\n",
       " ('Necrotizing fasciitis|133566|C', 0.00047077642787320275),\n",
       " ('Closed fracture of calcaneus|80232|C', 0.00046977810118948801),\n",
       " ('Multiple myeloma|437233|C', 0.00046854414193762115),\n",
       " ('Fistula of intestine|196160|C', 0.00046780318567739071),\n",
       " ('Hemangioma|441818|C', 0.00046669036786764739),\n",
       " ('Implantation of cardiac resynchronization pacemaker without mention of defibrillation, total system [CRT-P]|2000048|P',\n",
       "  0.00046646680450735371),\n",
       " ('Cardioplegia|2002245|P', 0.00046145005341558036),\n",
       " ('Other physical therapy|2007587|P', 0.00045853961174974081),\n",
       " ('Internal fixation of bone without fracture reduction, tarsals and metatarsals|2005312|P',\n",
       "  0.00045644419668727462),\n",
       " ('Streptococcal infectious disease|437779|C', 0.00045346626704400515),\n",
       " ('Revision of automatic implantable cardioverter/defibrillator|4144100|P',\n",
       "  0.00045101820388057895),\n",
       " ('Emphysematous bronchitis|258780|C', 0.00045037556864104201),\n",
       " ('Injection or infusion of cancer chemotherapeutic substance|2008271|P',\n",
       "  0.00044938047677153944),\n",
       " ('Other electroshock therapy|2007728|P', 0.0004488136949941859),\n",
       " ('Vaginal enterocele|4162218|C', 0.00044715875560853659),\n",
       " ('Lipid-lowering drug adverse reaction|443372|C', 0.00044598057773957245),\n",
       " ('Closure of stoma of small intestine|2002846|P', 0.00044203288908520772),\n",
       " ('Other procedures for creation of esophagogastric sphincteric competence|2002642|P',\n",
       "  0.00043696406668856149),\n",
       " ('Pneumonia due to Klebsiella pneumoniae|253790|C', 0.00043694130094791366),\n",
       " ('Acute appendicitis without peritonitis|441604|C', 0.00043422145011146442),\n",
       " ('Speech and language deficit as late effect of cerebrovascular accident|40481354|C',\n",
       "  0.0004338093358540039),\n",
       " ('Systemic inflammatory response syndrome|434821|C', 0.00043283752930606636),\n",
       " ('Congenital anomaly of cerebrovascular system|372721|C',\n",
       "  0.00043196261248426527),\n",
       " ('Transient arterial retinal occlusion|433195|C', 0.00043053039900492392),\n",
       " ('Pollicization operation carrying over nerves and blood supply|2006051|P',\n",
       "  0.00042909930292322048),\n",
       " ('Diagnostic ultrasound of abdomen and retroperitoneum|2006932|P',\n",
       "  0.00042686981825442913),\n",
       " ('Testicular hypofunction|26662|C', 0.0004261170057711005),\n",
       " ('Attention to ileostomy|4017330|P', 0.00042338767747479415),\n",
       " ('Generalized convulsive epilepsy|374924|C', 0.00042160147329219555),\n",
       " ('Arterial catheterization|2002172|P', 0.00041892570044188229),\n",
       " ('Other appendectomy|2002909|P', 0.00041849697387058202),\n",
       " ('Arteriography of femoral and other lower extremity arteries|2006873|P',\n",
       "  0.00041796282194295702),\n",
       " ('Age related macular degeneration|374028|C', 0.00041726939459815066),\n",
       " ('Arteriovenostomy for renal dialysis|2002189|P', 0.00041541998696003571),\n",
       " ('Complication of implant|440009|C', 0.00041496602644948422),\n",
       " ('Other local excision or destruction of lesion or tissue of skin and subcutaneous tissue|2006540|P',\n",
       "  0.00041382715630982426),\n",
       " ('Pressure ulcer of hip|44782447|C', 0.00040802870446971163),\n",
       " ('Other total cystectomy|2003806|P', 0.00040646891047935098),\n",
       " ('Insertion of bone growth stimulator, scapula, clavicle and thorax [ribs and sternum]|2005379|P',\n",
       "  0.00040469682730597065),\n",
       " ('Excision or destruction of other lesion or tissue of heart, open approach|2001548|P',\n",
       "  0.00040270184630002137),\n",
       " ('Acute esophagitis|26459|C', 0.00040145545216542505),\n",
       " (\"Gilles de la Tourette's syndrome|379782|C\", 0.00040129745484894649),\n",
       " ('Laparoscopic left hemicolectomy|2000834|P', 0.00040019728681685442),\n",
       " ('Central venous catheter placement with guidance|40756786|P',\n",
       "  0.00039839735696684469),\n",
       " ('Injury of face and neck|44783027|C', 0.0003983375325991941),\n",
       " ('Other miscellaneous procedures|2008419|P', 0.00039826903456535967),\n",
       " ('Thoracoscopic robotic assisted procedure|2000852|P',\n",
       "  0.00039595386692592205),\n",
       " ('Limb lengthening procedures, unspecified site|2005254|P',\n",
       "  0.00039411048254304955),\n",
       " ('Chill|434490|C', 0.00039382351279318266),\n",
       " ('Other excision or destruction of lesion or tissue of brain|2000127|P',\n",
       "  0.00039255792992010227),\n",
       " ('Other removal of both ovaries and tubes at same operative episode|2004263|P',\n",
       "  0.0003865268345608945),\n",
       " ('Acute myocardial infarction of inferolateral wall|438447|C',\n",
       "  0.00038633840022292258),\n",
       " ('Respiratory insufficiency|318459|C', 0.00038476446818132845),\n",
       " ('Stenosis of larynx|24974|C', 0.00038120650041342471),\n",
       " ('Sign or symptom of the urinary system|77673|C', 0.00037939670326174137),\n",
       " ('Malignant tumor of body of pancreas|4092072|C', 0.00037712443069218179),\n",
       " ('Intervertebral chemonucleolysis|2005710|P', 0.00037492256770536457),\n",
       " ('Toxic encephalopathy|373764|C', 0.00037394090003551456),\n",
       " ('Tension-type headache|376382|C', 0.00037297287954146435),\n",
       " ('Nystagmus associated with disorder of the vestibular system|377568|C',\n",
       "  0.00037249289172118879),\n",
       " ('Ventricular fibrillation|437894|C', 0.00037095390150746485),\n",
       " ('Other and unspecified vaginal hysterectomy|2004468|P',\n",
       "  0.00037057639248585698),\n",
       " ('Arthralgia of the lower leg|81112|C', 0.00036961797210394517),\n",
       " ('Leukemia|317510|C', 0.00036852204913937408),\n",
       " ('Closed fracture of upper end of tibia|435666|C', 0.00036761609177808619),\n",
       " ('Foreign body in lung|254830|C', 0.00036695066605588498),\n",
       " ('Infective/parasitic disease in preg/childbirth/puerperium|433266|C',\n",
       "  0.00036553743351427177),\n",
       " ('Open reduction of separated epiphysis, femur|2005514|P',\n",
       "  0.00036518783513875172),\n",
       " ('Antisocial personality disorder|440988|C', 0.00036502335683714964),\n",
       " ('Acute appendicitis with peritoneal abscess|193238|C',\n",
       "  0.00036041824404275859),\n",
       " ('Other and open repair of indirect inguinal hernia with graft or prosthesis|2003406|P',\n",
       "  0.00035872363189816696),\n",
       " ('Spinal traction using skull device|2007589|P', 0.00035866122596212865),\n",
       " ('Premature/false labor|4125778|C', 0.00035659724678756884),\n",
       " ('Drug-induced mood disorder|436079|C', 0.00035433418876482651),\n",
       " ('Blood chemistry abnormal|436230|M', 0.00035431005881163675),\n",
       " ('Abscess of peritoneum|200757|C', 0.00034925325589066765),\n",
       " ('Loose body in joint of shoulder region|73561|C', 0.00034625134442719624),\n",
       " ('Previous bariatric surgery in mother complicating childbirth|45757094|C',\n",
       "  0.0003455802183004868),\n",
       " ('Megaloblastic anemia due to folate deficiency|440977|C',\n",
       "  0.00034502568873078632),\n",
       " ('Catheter based invasive electrophysiologic testing|2001541|P',\n",
       "  0.00034125383836790436),\n",
       " ('Primary malignant neoplasm of kidney|198985|C', 0.00034060805421585658),\n",
       " ('Dependent personality disorder|437523|C', 0.00033960618464186641),\n",
       " ('Open wound of lip without complication|139179|C', 0.00033865317428612867),\n",
       " ('Removal of implanted devices from bone, tarsals and metatarsals|2005333|P',\n",
       "  0.00033648035277512644),\n",
       " ('Nonunion of fracture|73574|C', 0.00033643810175079891),\n",
       " ('Hypertensive encephalopathy|312938|C', 0.0003349001167152494),\n",
       " ('Lipoprotein deficiency disorder|435516|C', 0.00033356038873334277),\n",
       " ('Lumbar and lumbosacral fusion of the anterior column, posterior technique|2005818|P',\n",
       "  0.00033283935086248824),\n",
       " ('Endoscopic dilation of ampulla and biliary duct|2003286|P',\n",
       "  0.00033207210450454839),\n",
       " ('Erythematous condition|135892|C', 0.00033037124920412737),\n",
       " ('Malignant tumor of cecum|443391|C', 0.00032796029853976027),\n",
       " ('Disorder of adrenal gland|193165|C', 0.00032769439789042467),\n",
       " ('Postoperative care|4046550|M', 0.00032749692729323605),\n",
       " ('Alpha-1-antitrypsin deficiency|192275|C', 0.00032703254322780421),\n",
       " ('Chronic lymphoid leukemia, disease|138379|C', 0.00032472407363531028),\n",
       " ('Gouty tophus|4299408|C', 0.00032457171098772036),\n",
       " ('Dilation of intestine|2002886|P', 0.0003242834776300273),\n",
       " ('Diagnostic procedures on salivary glands and ducts|2001175|P',\n",
       "  0.00031718641524271658),\n",
       " ('Congenital quadriplegia|4173811|C', 0.00031676846702269779),\n",
       " ('Type 1 diabetes mellitus|201254|C', 0.00031418618261463288),\n",
       " ('Intracranial injury|437409|C', 0.00030920331653347237),\n",
       " ('Diagnostic procedures on bone, not elsewhere classified, other bones|2005376|P',\n",
       "  0.00030817396127590021),\n",
       " ('Abnormal weight loss|435928|M', 0.0003063599004255505),\n",
       " ('Other unilateral salpingo-oophorectomy|2004246|P', 0.0003062985502371147),\n",
       " ('Open and other multiple segmental resection of large intestine|2002750|P',\n",
       "  0.00030307475522507244),\n",
       " ('Pyogenic arthritis of the ankle and/or foot|78829|C',\n",
       "  0.00029916623223563438),\n",
       " ('Vertebrobasilar artery syndrome|376714|C', 0.0002987152514741087),\n",
       " ('Revision of hip replacement, acetabular liner and/or femoral head only|2000072|P',\n",
       "  0.00029579476283153822),\n",
       " ('Uncomplicated arteriosclerotic dementia|439276|C', 0.00029561044241873752),\n",
       " ('Kyphoscoliosis and scoliosis|78529|C', 0.00029424531618682493),\n",
       " ('Thrombosis of subclavian vein|4203836|C', 0.00028972656811174566),\n",
       " ('Thrombosis of arteries of upper extremity|4136335|C',\n",
       "  0.00028779516531849775),\n",
       " ('Other and open repair of other hernia of anterior abdominal wall with graft or prosthesis|2003465|P',\n",
       "  0.00028686517892923024),\n",
       " ('Laparoscopic appendectomy|2002908|P', 0.00028669660660788113),\n",
       " ('Pneumonia due to Streptococcus|261324|C', 0.00028135256479290858),\n",
       " ('Disease due to Gram-negative bacteria|435742|C', 0.00027568594389166309),\n",
       " ('Calculus of bile duct with acute cholecystitis without obstruction|442750|C',\n",
       "  0.00027392921289051269),\n",
       " ('Stereotactic radiosurgery, not elsewhere classified|2007504|P',\n",
       "  0.00027370538028949966),\n",
       " ('Nondependent alcohol abuse, continuous|435534|C', 0.00027222924042036978),\n",
       " ('Disorder of menstruation|443431|C', 0.00027087719174162723),\n",
       " ('Ulcer of thigh|443593|C', 0.00026951051932591722),\n",
       " ('Primary malignant neoplasm of transverse colon|432257|C',\n",
       "  0.0002673913218747691),\n",
       " ('Acute renal failure syndrome|197320|C', 0.00026428490099866239),\n",
       " ('Accident caused by machinery|432534|M', 0.00026425664761652701),\n",
       " ('Insertion of indwelling urinary catheter|2003821|P',\n",
       "  0.00025545047804004467),\n",
       " ('Chronic osteomyelitis of pelvic region and/or thigh|137367|C',\n",
       "  0.00025186038662167317),\n",
       " ('Left upper quadrant pain|194175|C', 0.00024983145720060615),\n",
       " ('Wrist pyogenic arthritis|4344398|C', 0.0002477275932593557),\n",
       " ('Primary malignant neoplasm of intrahepatic bile duct|40490929|C',\n",
       "  0.00024614929219074017),\n",
       " ('Hydrocele|76737|C', 0.00024573638054125821),\n",
       " ('Compartment syndrome of upper limb|135349|C', 0.00024568658655231009),\n",
       " ('Benign neoplasm of rectum and anal canal|434303|C', 0.00024498130031873339),\n",
       " ('Infectious disease carrier|4280828|C', 0.00024415201462352432),\n",
       " ('Contusion of buttock|73089|C', 0.00024411293871992205),\n",
       " ('Gallbladder calculus with acute cholecystitis and obstruction|201352|C',\n",
       "  0.00024313387061230778),\n",
       " ('Arthralgia of the pelvic region and thigh|79106|C', 0.00024189542917175193),\n",
       " ('Phlebography using contrast material, unspecified site|2006897|P',\n",
       "  0.00023948258155695706),\n",
       " ('Psoriasis with arthropathy|81931|C', 0.00023758647827776242),\n",
       " ('Vaginal reconstruction|2004607|P', 0.00023109679354637566),\n",
       " ('Homonymous hemianopia|372897|C', 0.00023076520074825915),\n",
       " ('Other total shoulder replacement|2005944|P', 0.00023030239770937936),\n",
       " ('Diffuse Lewy body disease|380701|C', 0.00023018344364744348),\n",
       " ('Other group therapy|2007764|P', 0.00022977105338303433),\n",
       " ('Creation of conduit between atrium and pulmonary artery|2001493|P',\n",
       "  0.000228702125766281),\n",
       " ('Esophagostomy, not otherwise specified|2002425|P', 0.00022623779755484761),\n",
       " ('Embolism and/or thrombosis of the common iliac artery|4111850|C',\n",
       "  0.00022412839962724661),\n",
       " ('Percutaneous [endoscopic] gastrostomy [PEG]|2002530|P',\n",
       "  0.00022382868718450927),\n",
       " ('Allergy to anti-infective agent|4239720|C', 0.00022291935555518615),\n",
       " ('Disarticulation of wrist|2006211|P', 0.00022036865293120373),\n",
       " ('Closure of skin and subcutaneous tissue of other sites|2006554|P',\n",
       "  0.0002190136518622884),\n",
       " ('Osteomyelitis of ankle AND/OR foot|133853|C', 0.00021845186504676982),\n",
       " ('Biopsy of bone marrow|2002382|P', 0.00021762501695146472),\n",
       " ('Acquired hallux valgus|75911|C', 0.00021271130952405857),\n",
       " ('Other and unspecified radical vaginal hysterectomy|2004484|P',\n",
       "  0.00021143429129972307),\n",
       " ('Housing lack|4144274|M', 0.00021041214581069492),\n",
       " ('Amputation through foot|2006230|P', 0.00020687018670233055),\n",
       " ('Excessive and frequent menstruation|197607|C', 0.00020498801670870321),\n",
       " ('Abscess of lung|257010|C', 0.00020478215516453162),\n",
       " ('Chronic sinusitis|257012|C', 0.00020398698678605808),\n",
       " ('Calculus of bile duct with cholecystitis|201614|C', 0.00020347477612809561),\n",
       " ('Postmenopausal bleeding|195321|C', 0.00020161260487303257),\n",
       " ('Other local excision or destruction of lesion of joint, unspecified site|2005747|P',\n",
       "  0.00019993909341474049),\n",
       " ('Scraping of cornea for smear or culture|2000469|P', 0.00019764041730655429),\n",
       " ('Video and radio-telemetered electroencephalographic monitoring|2007015|P',\n",
       "  0.00019640390302017391),\n",
       " ('Endometrial ablation|2004448|P', 0.00019549381254405521),\n",
       " ('Open wound of finger without complication|77139|C', 0.00019243934094514121),\n",
       " ('Disorder of the urea cycle metabolism|434311|C', 0.00019005805743038773),\n",
       " ('Dermatitis due to drug AND/OR medicine taken internally|134116|C',\n",
       "  0.00018982067391475673),\n",
       " ('Cocaine abuse|432303|C', 0.00018938788675448812),\n",
       " ('Amputation above knee|2006245|P', 0.00018895611701778654),\n",
       " ('Closed fracture of four ribs|80852|C', 0.00018538214461829826),\n",
       " ('Microscopic examination of specimen from lymph node and of lymph, culture|2007237|P',\n",
       "  0.00017612095958718712),\n",
       " ('Laparoscopic procedures for creation of esophagogastric sphincteric competence|2002643|P',\n",
       "  0.00017293812721642072),\n",
       " ('Disseminated malignancy of unknown primary|438701|C',\n",
       "  0.00017275472524430971),\n",
       " ('Replacement of electronic ureteral stimulator|2003746|P',\n",
       "  0.00017147435540254164),\n",
       " ('Mental disorders during pregnancy, childbirth and the puerperium|4060424|C',\n",
       "  0.00017014895893902298),\n",
       " ('Acquired spondylolisthesis|316211|C', 0.00016822233288475296),\n",
       " ('Spontaneous pneumothorax|255302|C', 0.00016692278747551493),\n",
       " ('Inflammatory disorder of breast|79072|C', 0.00016227638776556493),\n",
       " ('Closed fracture of one rib|75941|C', 0.0001621705821610574),\n",
       " ('Overweight|437525|M', 0.00016184304238781098),\n",
       " ('Amputation and disarticulation of finger|2006208|P',\n",
       "  0.00016073499839038037),\n",
       " ('Endoscopic polypectomy of large intestine|2002728|P',\n",
       "  0.00015901489506319505),\n",
       " ('Closed reduction of dislocation of shoulder|2005540|P',\n",
       "  0.00015800146822920837),\n",
       " ('Ischemic heart disease|4185932|C', 0.0001565675557712755),\n",
       " ('Application of external fixator device, unspecified site|2005214|P',\n",
       "  0.00015578684153430409),\n",
       " ('Other destruction of lesion of large intestine|2002730|P',\n",
       "  0.00015398444897271301),\n",
       " ('Diplopia|373474|C', 0.0001527407000392334),\n",
       " ('Internal fixation of bone without fracture reduction, humerus|2005296|P',\n",
       "  0.00015097832945740693),\n",
       " ('Computerized axial tomography of thorax|2006696|P', 0.00014970123857169489),\n",
       " ('Neurological disorder associated with type 1 diabetes mellitus|377821|C',\n",
       "  0.00014868154122464278),\n",
       " ('Angiodysplasia of duodenum|40482685|C', 0.00014844080959502243),\n",
       " ('Nondependent alcohol abuse in remission|441276|C', 0.00014218472347994092),\n",
       " ('Contusion of lower leg|77734|C', 0.00014022680485523622),\n",
       " ('Implantation of cardiac resynchronization defibrillator, total system [CRT-D]|2000049|P',\n",
       "  0.00013782138871223768),\n",
       " ('Total esophagectomy|2002464|P', 0.000137643417715179),\n",
       " ('Intracarotid amobarbital test|2006996|P', 0.00013727916241707585),\n",
       " ('Acute myeloid leukemia, disease|140352|C', 0.00013672388721067564),\n",
       " ('Ankle ulcer|4171556|C', 0.00013193307760636807),\n",
       " ('Insertion of palatal implant|2001223|P', 0.00012877745129222186),\n",
       " ('(Aorto)coronary bypass of three coronary arteries|2001512|P',\n",
       "  0.00012763421725473439),\n",
       " ('Combined right and left heart cardiac catheterization|2001538|P',\n",
       "  0.00012601678397428345),\n",
       " ('Chronic interstitial cystitis|75863|C', 0.00012599770483117442),\n",
       " ('Candidiasis of the esophagus|28974|C', 0.00012591756150511158),\n",
       " ('Hymenotomy|2004563|P', 0.00012468738434531551),\n",
       " ('Truncal vagotomy|2002569|P', 0.00012276170728994518),\n",
       " ('Other transurethral prostatectomy|2003966|P', 0.0001226076475623186),\n",
       " ('Laparoscopic lysis of peritoneal adhesions|2003523|P',\n",
       "  0.00012008816512377543),\n",
       " ('Osteomyelitis|141663|C', 0.00011890556567994588),\n",
       " ('Other diagnostic procedures on tonsils and adenoids|2001238|P',\n",
       "  0.00011578506524657617),\n",
       " ('Complication of gastrostomy|434675|C', 0.00011505176110672266),\n",
       " ('Malignant lymphoma of lymph nodes of head, face AND/OR neck|438698|C',\n",
       "  0.00011418842104356386),\n",
       " ('Canceled operative procedure|4164707|C', 0.00011284027914103242),\n",
       " ('Acquired postural kyphosis|75637|C', 0.0001121721116287139),\n",
       " ('Other acupuncture|2008412|P', 0.00011090144460905298),\n",
       " ('Open reduction of fracture with internal fixation, humerus|2005474|P',\n",
       "  0.00011047175211455517),\n",
       " ('Secondary malignant neoplasm of lymph nodes of lower limb|442182|C',\n",
       "  0.00011019921727745385),\n",
       " ('Opioid analgesic adverse reaction|432789|C', 0.0001078056403592636),\n",
       " ('Peripheral arterial occlusive disease|317309|C', 0.00010612105723695299),\n",
       " ('Other repair and plastic operations on nose|2001080|P',\n",
       "  0.00010560470644256758),\n",
       " ('Chronic schizoaffective schizophrenia|441835|C', 0.00010443095047619278),\n",
       " ('Intervertebral disc disorder of cervical region with myelopathy|139906|C',\n",
       "  0.0001028627949598044),\n",
       " ('Fall from bed|436882|M', 9.951697431905877e-05),\n",
       " ('Arthrocentesis|2005951|P', 9.8168628361274321e-05),\n",
       " ('Initial insertion of transvenous lead [electrode] into ventricle|2001573|P',\n",
       "  9.7913731154244499e-05),\n",
       " ('Insertion of other (naso-)gastric tube|2007914|P', 9.7862303147398832e-05),\n",
       " ('Vagotomy, not otherwise specified|2002568|P', 9.7363615616719178e-05),\n",
       " ('Complication of pregnancy, childbirth and/or the puerperium|435875|C',\n",
       "  9.7176478611165639e-05),\n",
       " ('Cellulitis and abscess of finger|79898|C', 9.5799014199712243e-05),\n",
       " ('Other diagnostic procedures on rectum, rectosigmoid and perirectal tissue|2002948|P',\n",
       "  9.5365151602159245e-05),\n",
       " ('Endovascular implantation of other graft in abdominal aorta|2002250|P',\n",
       "  9.5319387224771087e-05),\n",
       " ('H/O: heart recipient|4058860|M', 9.4310135589929811e-05),\n",
       " ('Degenerative brain disorder|375239|C', 9.2183909363123819e-05),\n",
       " ('Herpes simplex without complication|440021|C', 9.1739732875651059e-05),\n",
       " ('Herpes zoster with nervous system complication|436336|C',\n",
       "  9.1144772659876191e-05),\n",
       " ('Neoplastic pleural effusion|254390|C', 8.9815831735378128e-05),\n",
       " ('Primary malignant neoplasm of hepatic flexure of colon|438979|C',\n",
       "  8.921937983359947e-05),\n",
       " ('Activity|4117957|M', 8.8647404193105208e-05),\n",
       " ('Pressure ulcer stage 1|132393|C', 8.5455616416269428e-05),\n",
       " ('Chronic cholecystitis|200765|C', 8.5131339901910324e-05),\n",
       " ('Other cardiovascular stress test|2007058|P', 8.482937734412693e-05),\n",
       " ('Prolapse of vaginal vault after hysterectomy|195599|C',\n",
       "  8.4254694861998842e-05),\n",
       " ('Late effect of intracranial injury without skull fracture|435127|C',\n",
       "  8.4048807652839402e-05),\n",
       " ('Injury of head|375415|C', 8.3880146609549577e-05),\n",
       " ('Biopsy of uvula and soft palate|2001198|P', 8.3515890402942528e-05),\n",
       " ('Arteriography of cerebral arteries|2006856|P', 8.3191571037134526e-05),\n",
       " ('Eruption|140214|C', 8.1408287212217961e-05),\n",
       " ('Disorder of calcium metabolism|437828|C', 7.9863508042217281e-05),\n",
       " ('Diuretic adverse reaction|443370|C', 7.9599697319486721e-05),\n",
       " ('Cholecystectomy|2003222|P', 7.8416968852331468e-05),\n",
       " ('Ureteral catheterization|2003936|P', 7.7738652541114818e-05),\n",
       " ('Internal fixation of bone without fracture reduction, other bones|2005313|P',\n",
       "  7.7577201225870269e-05),\n",
       " ('Infectious colitis, enteritis and gastroenteritis|198062|C',\n",
       "  7.7420288711426173e-05),\n",
       " ('Sialoadenectomy, not otherwise specified|2001183|P',\n",
       "  7.7141742808953302e-05),\n",
       " ('Mechanical complication of internal orthopedic device, implant AND/OR graft|432798|C',\n",
       "  7.6692612234784154e-05),\n",
       " ('Chronic osteomyelitis of ankle and/or foot|137077|C',\n",
       "  7.6568308807198132e-05),\n",
       " ('Medical induction of labor|2004762|P', 7.5640399600264947e-05),\n",
       " ('Infusion of vasopressor agent|2000018|P', 7.5618614855228113e-05),\n",
       " ('Secondary malignant neoplasm of lymph nodes of neck|442181|C',\n",
       "  7.5459510256578984e-05),\n",
       " ('Non-tuberculous mycobacterial pneumonia|4174281|C', 7.5281200104998868e-05),\n",
       " ('Amyloidosis|432595|C', 7.4323606134654011e-05),\n",
       " ('Aneurysm of artery of lower extremity|432933|C', 7.3905417386386404e-05),\n",
       " ('Myasthenia gravis|76685|C', 7.3760676842052754e-05),\n",
       " ('Other revision of vascular procedure|2002210|P', 7.3621423805358597e-05),\n",
       " ('Liver function tests abnormal|438878|M', 7.333099720627718e-05),\n",
       " ('Other permanent tracheostomy|2001288|P', 7.3296835481954613e-05),\n",
       " ('Malignant tumor of ascending colon|435754|C', 7.3032787043651742e-05),\n",
       " ('Analgesic allergy|4167777|C', 7.2783700064405247e-05),\n",
       " ('Disorder of upper gastrointestinal tract|4000609|C',\n",
       "  7.2178168556176272e-05),\n",
       " ('Epigastric pain|197381|C', 7.1984969551806225e-05),\n",
       " ('Secondary diabetes mellitus|195771|C', 7.1527275609958787e-05),\n",
       " ('Stricture of artery|317305|C', 7.108719321976013e-05),\n",
       " ('Contusion of hip|195401|C', 7.1038156607293573e-05),\n",
       " ('Inguinal hernia without obstruction AND without gangrene|4222781|C',\n",
       "  7.0957017653959585e-05),\n",
       " ('Vertebral artery obstruction|4185117|C', 7.0215453922988421e-05),\n",
       " ('Other antesternal esophagocolostomy|2002490|P', 6.9632854596825448e-05),\n",
       " ('Conjunctivitis|379019|C', 6.9345541483139815e-05),\n",
       " ('Disorder of skin AND/OR subcutaneous tissue|200174|C',\n",
       "  6.8657527614034605e-05),\n",
       " ('Ataxia|437584|C', 6.7586771452009045e-05),\n",
       " ('Secondary malignant neoplasm of intrathoracic lymph nodes|439751|C',\n",
       "  6.6370377592728518e-05),\n",
       " ('Adverse reaction to antidiabetic drug|443603|C', 6.5904024291880896e-05),\n",
       " ('Neuroendocrine tumor|434300|C', 6.5617890791059845e-05),\n",
       " ('Disorder of pancreas|192963|C', 6.5469556260367662e-05),\n",
       " ('Chronic vascular insufficiency of intestine|199064|C',\n",
       "  6.5277161753732891e-05),\n",
       " ('Suicidal deliberate poisoning|444362|C', 6.506397709178141e-05),\n",
       " ('Secondary malignant neoplasm of female genital organ|201240|C',\n",
       "  6.5005309953513205e-05),\n",
       " ('Follow-up orthopedic assessment|4149299|M', 6.4730003540995227e-05),\n",
       " ('Benign paroxysmal positional vertigo|81878|C', 6.3920881152493362e-05),\n",
       " ('Measurement of systemic arterial blood gases|2007091|P',\n",
       "  6.2936166980544512e-05),\n",
       " ('Postprocedural pelvic peritoneal adhesions|194693|C',\n",
       "  6.2621314191999006e-05),\n",
       " ('Coagulation factor deficiency syndrome|432296|C', 6.2474892787168831e-05),\n",
       " ('Late effect of accidental injury|439620|C', 6.202395231890723e-05),\n",
       " ('Radical neck dissection, unilateral|2002311|P', 6.1830464386408135e-05),\n",
       " ('Pyogenic arthritis of ankle|4068237|C', 6.1476010531673629e-05),\n",
       " ('Type 2 diabetes mellitus with hyperosmolar coma|201530|C',\n",
       "  6.1399314300671087e-05),\n",
       " ('Esophageal varices with bleeding, associated with another disorder|4112183|C',\n",
       "  6.0529719906592065e-05),\n",
       " ('Amputation of toe|2006229|P', 6.0318970260497354e-05),\n",
       " ('Candidiasis of skin and nails|133414|C', 6.010681093890422e-05),\n",
       " ('Open heart valvuloplasty without replacement, unspecified valve|2001442|P',\n",
       "  6.0044988926998806e-05),\n",
       " ('H/O: hip fracture|4192270|M', 5.945468656894991e-05),\n",
       " ('Multiple segmental resection of small intestine|2002746|P',\n",
       "  5.9008150375091822e-05),\n",
       " ('Chronic bronchitis|255841|C', 5.8593132941845229e-05),\n",
       " ('Alcohol withdrawal delirium|377830|C', 5.8510493506064208e-05),\n",
       " ('Disorder of lumbar spine|195906|C', 5.7438169112046952e-05),\n",
       " ('Obstruction of bile duct|201066|C', 5.7402296968199452e-05),\n",
       " ('Resection of vessel with replacement, aorta, abdominal|2002084|P',\n",
       "  5.6339994152063857e-05),\n",
       " ('Hypoglycemia|24609|C', 5.6012320344561206e-05),\n",
       " ('Goiter|135772|C', 5.5773127009918712e-05),\n",
       " ('Ankylosing spondylitis|437082|C', 5.5669025992919167e-05),\n",
       " ('H/O: CSF drainage device|4058867|M', 5.4952862704184381e-05),\n",
       " ('Lumbar post-laminectomy syndrome|442425|C', 5.4847380266233966e-05),\n",
       " ('Cannabis abuse|434327|C', 5.4745715511714282e-05),\n",
       " ('Infection due to anaerobic bacteria|4309542|C', 5.4666535020808196e-05),\n",
       " ('Prosthetic joint loosening|80286|C', 5.4558041140639535e-05),\n",
       " ('Closed fracture of metatarsal bone|440238|C', 5.4362085478623107e-05),\n",
       " ('Parietoalveolar pneumopathy|435849|C', 5.4258358517064717e-05),\n",
       " ('Peripheral vascular disease|321052|C', 5.3662992655299066e-05),\n",
       " ('H/O: liver recipient|4059464|M', 5.3285701272090679e-05),\n",
       " ('Dysarthria as late effects of cerebrovascular disease|43530687|C',\n",
       "  5.2912789342531832e-05),\n",
       " ('Revision of arteriovenous shunt for renal dialysis|2002208|P',\n",
       "  5.2749095474416539e-05),\n",
       " ('Ileostomy|2002809|P', 5.2466020372651044e-05),\n",
       " ('Closed fracture of surgical neck of humerus|440853|C',\n",
       "  5.2318936898998151e-05),\n",
       " ('Diabetic oculopathy associated with type 2 diabetes mellitus|443733|C',\n",
       "  5.1725989762889578e-05),\n",
       " ('Moderate mental retardation|436682|C', 5.1513621703927759e-05),\n",
       " ('Knee joint effusion|4115991|C', 5.1334446990566319e-05),\n",
       " ('Attention deficit hyperactivity disorder|438409|C', 5.1042685260557984e-05),\n",
       " ('Accidental dural puncture|4134544|C', 5.0844355507996512e-05),\n",
       " ('Unilateral extended simple mastectomy|2006419|P', 5.0780120927574877e-05),\n",
       " ('Gastroscopy through artificial stoma|2002584|P', 5.0373211966287039e-05),\n",
       " ('Congenital anomaly of lower alimentary tract|198860|C',\n",
       "  5.0361113623516582e-05),\n",
       " ('Invasive candidiasis|438077|C', 4.870335846790095e-05),\n",
       " ('Acute sinusitis|260123|C', 4.768366496471627e-05),\n",
       " ('Disorder of prosthetic joint|73673|C', 4.7656837607248249e-05),\n",
       " ('Unilateral partial vocal cord paralysis|261047|M', 4.7014741774493284e-05),\n",
       " (\"Raynaud's disease|314962|C\", 4.6937029763046751e-05),\n",
       " ('Chronic paranoid schizophrenia|436944|C', 4.686543717098052e-05),\n",
       " ('Neurogenic bowel|201900|C', 4.5575351550717509e-05),\n",
       " ('Parenteral infusion of concentrated nutritional substances|2008250|P',\n",
       "  4.4626573661621504e-05),\n",
       " ('Other diagnostic procedures on blood vessels|2002047|P',\n",
       "  4.4547226035082374e-05),\n",
       " ('Sepsis due to Pseudomonas|40491961|C', 4.4255115857514862e-05),\n",
       " ('Visual disturbance|374034|C', 4.389440246143411e-05),\n",
       " ('Complete thyroidectomy|2000273|P', 4.3878862257361597e-05),\n",
       " ('Heart disease|321588|C', 4.3593960755239106e-05),\n",
       " ('Disorders of urogenital prostheses or implants|76887|C',\n",
       "  4.3074887109875922e-05),\n",
       " ('Hyperparathyroidism|133729|C', 4.3062358068352186e-05),\n",
       " ('Unable to mobilize|4199550|C', 4.2737811571140079e-05),\n",
       " ('Acute pyelonephritis without medullary necrosis|196735|C',\n",
       "  4.2677597696596031e-05),\n",
       " ('Hypothermia|435371|C', 4.2361656563240736e-05),\n",
       " ('Nonexcisional debridement of wound, infection or burn|2006539|P',\n",
       "  4.2135117722687876e-05),\n",
       " ('Cocaine dependence|436389|C', 4.1989707256884847e-05),\n",
       " ('Late effect of accidental fall|437176|C', 4.1970921257987993e-05),\n",
       " ('Pathological fracture|73571|C', 4.1588805644742924e-05),\n",
       " ('Other radiotherapeutic procedure|2007488|P', 4.1526391623559802e-05),\n",
       " ('Visual disturbance as sequela of cerebrovascular disease|43531583|C',\n",
       "  4.1327249517254419e-05),\n",
       " ('Delusional disorder|432590|C', 4.1326191947478098e-05),\n",
       " ('Percutaneous aspiration of bladder|2003763|P', 4.1090311585060251e-05),\n",
       " ('Not for resuscitation|4119499|M', 4.0780545914024563e-05),\n",
       " ('Closed [transurethral] biopsy of bladder|2003784|P',\n",
       "  4.0775654914081627e-05),\n",
       " ('H/O: pneumonectomy|4060079|M', 4.0445694011592522e-05),\n",
       " ('Metabolic syndrome X|436940|C', 4.0253854234973111e-05),\n",
       " ('Congenital stenosis of esophagus|30515|C', 4.0247613608042072e-05),\n",
       " ('Right lower quadrant pain|193322|C', 4.0096300346888402e-05),\n",
       " ('Generalized atherosclerosis|321882|C', 4.0025903842705131e-05),\n",
       " ('Amnesia|439147|C', 3.9351890418114895e-05),\n",
       " ('Arthroscopy, unspecified site|2005655|P', 3.9222776997721438e-05),\n",
       " ('Secondary malignant neoplasm of intrapelvic lymph nodes|200959|C',\n",
       "  3.9107143888987581e-05),\n",
       " ('Peripheral neuritis|4027396|C', 3.8993266344387779e-05),\n",
       " ('Automatic implantable cardioverter/defibrillator (AICD) check|2007073|P',\n",
       "  3.868858435764429e-05),\n",
       " ('Cholecystitis|192956|C', 3.8661492224892154e-05),\n",
       " ('Upper gastrointestinal hemorrhage|4291649|C', 3.8376472455403386e-05),\n",
       " ('Late effect of motor vehicle accident|438329|C', 3.8121485948768512e-05),\n",
       " ('Injection of therapeutic substance into joint or ligament|2005962|P',\n",
       "  3.8063100128269443e-05),\n",
       " ('Osteoclasis, radius and ulna|2005339|P', 3.7960024918918189e-05),\n",
       " ('Other anastomosis or bypass of ureter|2003724|P', 3.7922960940763296e-05),\n",
       " ('Amputated toe|4103642|C', 3.7766494880195739e-05),\n",
       " ('Artificial pacemaker rate check|2007059|P', 3.7619108004885302e-05),\n",
       " ('Nontraumatic hemoperitoneum|194690|C', 3.620065181505294e-05),\n",
       " ('Closed (percutaneous) [needle] biopsy of liver|2003129|P',\n",
       "  3.6184688356259286e-05),\n",
       " ('Open biopsy of soft tissue|2006126|P', 3.5776910873936367e-05),\n",
       " ('Unspecified operation on bone injury, other specified bone|2005600|P',\n",
       "  3.575203755737364e-05),\n",
       " ('Diagnostic dye allergy|4163175|C', 3.5489311921677742e-05),\n",
       " ('Carpal tunnel syndrome|380094|C', 3.5419230707831441e-05),\n",
       " ('Candidiasis|433968|C', 3.5313392321996977e-05),\n",
       " ('Hemiplegia of nondominant side|40480429|C', 3.4890143249051631e-05),\n",
       " ('Endoscopic excision or destruction of lesion or tissue of esophagus|2002449|P',\n",
       "  3.4854114968785355e-05),\n",
       " ('Peritoneal dialysis|2003564|P', 3.3930942448440817e-05),\n",
       " ('Reduction of hemorrhoids|2003068|P', 3.379914070646954e-05),\n",
       " ('Non-healing surgical wound|4228800|C', 3.3750102257498551e-05),\n",
       " ('Closed reduction of fracture without internal fixation, phalanges of hand|2005414|P',\n",
       "  3.2381307394159173e-05),\n",
       " ('Physical rehabilitation therapy procedure|4032376|M',\n",
       "  3.2240822162479674e-05),\n",
       " ('Combined systolic and diastolic dysfunction|40482727|C',\n",
       "  3.1824957907831587e-05),\n",
       " ('Closed traumatic subdural hemorrhage|4014781|C', 3.1751152828953941e-05),\n",
       " ('Cardiac inotropic agent adverse reaction|4167767|C',\n",
       "  3.1362183978132041e-05),\n",
       " ('Replacement of any type pacemaker device with dual-chamber device|2001979|P',\n",
       "  3.1296832944241595e-05),\n",
       " ('Closed fracture of shaft of femur|438887|C', 3.0757642989251649e-05),\n",
       " ('Mobitz type II atrioventricular block|313780|C', 3.0563567020349048e-05),\n",
       " ('Maintenance procedure for cardiac pacemaker system|4049403|P',\n",
       "  3.0556624949150179e-05),\n",
       " ('Subdural hemorrhage following injury without open intracranial wound AND with no loss of consciousness|438595|C',\n",
       "  3.0083864610125726e-05),\n",
       " ('Drug-induced hallucinosis|440987|C', 3.0077925960388125e-05),\n",
       " ('Urostomy present|4200655|C', 2.9834435501020191e-05),\n",
       " ('Persistent postoperative fistula|436003|C', 2.9178220623096131e-05),\n",
       " ('Gallbladder and bile duct calculi|443421|C', 2.8727605606683933e-05),\n",
       " ('Ileostomy present|4201717|C', 2.869968185693147e-05),\n",
       " ('Panhypopituitarism|30365|C', 2.8340375556370358e-05),\n",
       " ('Poisoning by benzodiazepine-based tranquilizer|434819|C',\n",
       "  2.8286595998539244e-05),\n",
       " ('Secondary malignant neoplasm of spleen|442173|C', 2.8137076335008764e-05),\n",
       " ('Closed fracture of ankle|75095|C', 2.8119710883586192e-05),\n",
       " ('Fall from wheelchair|435443|M', 2.7950780790933937e-05),\n",
       " ('(Aorto)coronary bypass of four or more coronary arteries|2001513|P',\n",
       "  2.7382849646250494e-05),\n",
       " ('Intestinal volvulus|197603|C', 2.7098931811588851e-05),\n",
       " ('Disorder due to type 1 diabetes mellitus|435216|C', 2.6448051282770248e-05),\n",
       " ('Methicillin resistant staphylococcus aureus carrier|4160859|C',\n",
       "  2.5581933236795985e-05),\n",
       " ('Diagnostic aspiration of orbit|2000724|P', 2.5563387714847321e-05),\n",
       " ('Endoscopic destruction of other lesion or tissue of large intestine|2002729|P',\n",
       "  2.5403841872632405e-05),\n",
       " ('Hyperplasia of prostate|197032|C', 2.5267736795075123e-05),\n",
       " ('(Aorto)coronary bypass of one coronary artery|2001510|P',\n",
       "  2.5239227647284792e-05),\n",
       " ('Dysarthria|4196636|C', 2.4704369516835888e-05),\n",
       " ('Left lower quadrant pain|195083|C', 2.4346189516211484e-05),\n",
       " ('Revision of hip replacement, both acetabular and femoral components|2000069|P',\n",
       "  2.4227087862616807e-05),\n",
       " ('Abrasion of wrist|4106361|C', 2.4107456300740473e-05),\n",
       " ('Other myectomy|2006147|P', 2.3395008495259409e-05),\n",
       " ('Diagnostic procedures on liver|2003128|P', 2.33491627168735e-05),\n",
       " ('Dissection of thoracic aorta|436136|C', 2.3245766471224324e-05),\n",
       " ('Mechanical complication of internal joint prosthesis|80269|C',\n",
       "  2.3238868240408765e-05),\n",
       " ('Enteral infusion of concentrated nutritional substances|2008005|P',\n",
       "  2.2986386501948091e-05),\n",
       " ('Transfusion of platelets|2008239|P', 2.2887844268791925e-05),\n",
       " ('Drug dependence|440069|C', 2.2013717410271818e-05),\n",
       " ('Formation of cutaneous uretero-ileostomy|2003703|P',\n",
       "  2.1217886134679625e-05),\n",
       " ('Residual cognitive deficit as late effect of cerebrovascular accident|40482301|C',\n",
       "  2.0312176696906531e-05),\n",
       " ('Secondary malignant neoplasm of adrenal gland|193144|C',\n",
       "  1.9969002617782223e-05),\n",
       " ('Percutaneous vertebral augmentation|2005925|P', 1.9933440791840041e-05),\n",
       " ('Excision of lesion of other soft tissue|2006131|P', 1.9576113201592926e-05),\n",
       " ('Lung involvement associated with another disorder|254676|C',\n",
       "  1.9501499693933484e-05),\n",
       " ('Biopsy of gum|2001139|P', 1.9272288667102708e-05),\n",
       " ('Continuous acute alcoholic intoxication in alcoholism|437257|C',\n",
       "  1.8832503352621674e-05),\n",
       " ('Excision of intervertebral disc|2005709|P', 1.786740366980352e-05),\n",
       " ('Open and other resection of transverse colon|2002763|P',\n",
       "  1.738816441528418e-05),\n",
       " ('Transurethral removal of obstruction from ureter and renal pelvis|2003668|P',\n",
       "  1.7217354837854945e-05),\n",
       " ('Injection of other agent into spinal canal|2000191|P',\n",
       "  1.6907543173948879e-05),\n",
       " ('Open reduction of fracture with internal fixation, radius and ulna|2005475|P',\n",
       "  1.5545552922693058e-05),\n",
       " ('Other local excision or destruction of lesion or tissue of urethra|2003858|P',\n",
       "  1.2762793815473757e-05),\n",
       " ('Radical prostatectomy|2003969|P', 4.8568502868887175e-06)]"
      ]
     },
     "execution_count": 41,
     "metadata": {},
     "output_type": "execute_result"
    }
   ],
   "source": [
    "[(selected_variables2[decreasing_order_of_features][i], features_importances[decreasing_order_of_features][i]) \n",
    " for i in range(features_importances.shape[0])]"
   ]
  },
  {
   "cell_type": "code",
   "execution_count": null,
   "metadata": {
    "collapsed": true
   },
   "outputs": [],
   "source": []
  },
  {
   "cell_type": "code",
   "execution_count": null,
   "metadata": {
    "collapsed": true
   },
   "outputs": [],
   "source": []
  }
 ],
 "metadata": {
  "kernelspec": {
   "display_name": "Python 2",
   "language": "python",
   "name": "python2"
  },
  "language_info": {
   "codemirror_mode": {
    "name": "ipython",
    "version": 2
   },
   "file_extension": ".py",
   "mimetype": "text/x-python",
   "name": "python",
   "nbconvert_exporter": "python",
   "pygments_lexer": "ipython2",
   "version": "2.7.11"
  }
 },
 "nbformat": 4,
 "nbformat_minor": 0
}
