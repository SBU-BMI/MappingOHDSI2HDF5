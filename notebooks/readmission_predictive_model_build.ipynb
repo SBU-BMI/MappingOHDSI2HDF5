{
 "cells": [
  {
   "cell_type": "code",
   "execution_count": 1,
   "metadata": {
    "collapsed": true
   },
   "outputs": [],
   "source": [
    "import h5py\n",
    "import numpy as np"
   ]
  },
  {
   "cell_type": "code",
   "execution_count": 2,
   "metadata": {
    "collapsed": true
   },
   "outputs": [],
   "source": [
    "f5 = h5py.File(\"inpatient_readmission_analysis.hdf5\", \"r\")"
   ]
  },
  {
   "cell_type": "code",
   "execution_count": 3,
   "metadata": {
    "collapsed": false
   },
   "outputs": [
    {
     "data": {
      "text/plain": [
       "(66700L, 5686L)"
      ]
     },
     "execution_count": 3,
     "metadata": {},
     "output_type": "execute_result"
    }
   ],
   "source": [
    "independent_array = f5[\"/independent/core_array\"][...]\n",
    "independent_array.shape"
   ]
  },
  {
   "cell_type": "code",
   "execution_count": 4,
   "metadata": {
    "collapsed": false
   },
   "outputs": [
    {
     "data": {
      "text/plain": [
       "array(['gender_concept_name|FEMALE', 'Length of stay in days',\n",
       "       'age_at_visit_start_in_years_int',\n",
       "       'Past history of 30-day inpatient readmissions',\n",
       "       'No matching concept|0|C',\n",
       "       'Gingival and periodontal disease|132344|C',\n",
       "       'Staphylococcal scalded skin syndrome|132392|C',\n",
       "       'Pressure ulcer stage 1|132393|C',\n",
       "       'Post-laminectomy syndrome|132412|C',\n",
       "       'Chronic osteomyelitis of hand|132414|C'],\n",
       "      dtype='|S128')"
      ]
     },
     "execution_count": 4,
     "metadata": {},
     "output_type": "execute_result"
    }
   ],
   "source": [
    "independent_labels = f5[\"/independent/column_annotations\"][...]\n",
    "independent_labels[0: 10]"
   ]
  },
  {
   "cell_type": "code",
   "execution_count": 5,
   "metadata": {
    "collapsed": false
   },
   "outputs": [
    {
     "data": {
      "text/plain": [
       "(66700L,)"
      ]
     },
     "execution_count": 5,
     "metadata": {},
     "output_type": "execute_result"
    }
   ],
   "source": [
    "dependent_array = f5[\"/dependent/core_array\"][...]\n",
    "dependent_array = np.ndarray.flatten(dependent_array)\n",
    "dependent_array.shape"
   ]
  },
  {
   "cell_type": "code",
   "execution_count": 6,
   "metadata": {
    "collapsed": false
   },
   "outputs": [
    {
     "data": {
      "text/plain": [
       "6421.0"
      ]
     },
     "execution_count": 6,
     "metadata": {},
     "output_type": "execute_result"
    }
   ],
   "source": [
    "np.sum(dependent_array)"
   ]
  },
  {
   "cell_type": "code",
   "execution_count": 7,
   "metadata": {
    "collapsed": false
   },
   "outputs": [
    {
     "data": {
      "text/plain": [
       "6000119"
      ]
     },
     "execution_count": 7,
     "metadata": {},
     "output_type": "execute_result"
    }
   ],
   "source": [
    "np.sum(independent_array)"
   ]
  },
  {
   "cell_type": "code",
   "execution_count": 8,
   "metadata": {
    "collapsed": false
   },
   "outputs": [
    {
     "data": {
      "text/plain": [
       "array(['30-day inpatient readmission'],\n",
       "      dtype='|S128')"
      ]
     },
     "execution_count": 8,
     "metadata": {},
     "output_type": "execute_result"
    }
   ],
   "source": [
    "dependent_labels = f5[\"/dependent/column_annotations\"][...]\n",
    "dependent_labels"
   ]
  },
  {
   "cell_type": "code",
   "execution_count": 9,
   "metadata": {
    "collapsed": false
   },
   "outputs": [
    {
     "data": {
      "text/plain": [
       "'0.19.0'"
      ]
     },
     "execution_count": 9,
     "metadata": {},
     "output_type": "execute_result"
    }
   ],
   "source": [
    "import sklearn\n",
    "sklearn.__version__"
   ]
  },
  {
   "cell_type": "code",
   "execution_count": 10,
   "metadata": {
    "collapsed": false
   },
   "outputs": [],
   "source": [
    "from sklearn.model_selection import train_test_split"
   ]
  },
  {
   "cell_type": "code",
   "execution_count": 11,
   "metadata": {
    "collapsed": false
   },
   "outputs": [],
   "source": [
    "X_train, X_test, Y_train, Y_test = train_test_split(independent_array, dependent_array, test_size=0.2)"
   ]
  },
  {
   "cell_type": "code",
   "execution_count": 12,
   "metadata": {
    "collapsed": false
   },
   "outputs": [
    {
     "data": {
      "text/plain": [
       "array([[78,  4,  0, ...,  0,  0,  0],\n",
       "       [95,  4,  1, ...,  0,  0,  0],\n",
       "       [81, 14,  0, ...,  0,  0,  0],\n",
       "       ..., \n",
       "       [68,  3,  1, ...,  0,  0,  0],\n",
       "       [73,  7,  0, ...,  0,  0,  0],\n",
       "       [54,  8,  0, ...,  0,  0,  0]])"
      ]
     },
     "execution_count": 12,
     "metadata": {},
     "output_type": "execute_result"
    }
   ],
   "source": [
    "X_test"
   ]
  },
  {
   "cell_type": "code",
   "execution_count": 13,
   "metadata": {
    "collapsed": true
   },
   "outputs": [],
   "source": [
    "from sklearn.pipeline import Pipeline"
   ]
  },
  {
   "cell_type": "code",
   "execution_count": 14,
   "metadata": {
    "collapsed": true
   },
   "outputs": [],
   "source": [
    "from sklearn.feature_selection import VarianceThreshold\n",
    "from sklearn.feature_selection import SelectKBest\n",
    "from sklearn.ensemble import RandomForestClassifier"
   ]
  },
  {
   "cell_type": "code",
   "execution_count": 15,
   "metadata": {
    "collapsed": true
   },
   "outputs": [],
   "source": [
    "variance_thresh = VarianceThreshold()\n",
    "select_k = SelectKBest(k=250)\n",
    "random_forest = RandomForestClassifier(n_estimators=500)\n",
    "\n",
    "pipeline_steps = [(\"remove_zero_variance\", variance_thresh), \n",
    "                  (\"select_features\", select_k), \n",
    "                  (\"random_forest\", random_forest)]"
   ]
  },
  {
   "cell_type": "code",
   "execution_count": 16,
   "metadata": {
    "collapsed": true
   },
   "outputs": [],
   "source": [
    "pipeline_obj = Pipeline(pipeline_steps)"
   ]
  },
  {
   "cell_type": "code",
   "execution_count": 17,
   "metadata": {
    "collapsed": false
   },
   "outputs": [
    {
     "data": {
      "text/plain": [
       "Pipeline(memory=None,\n",
       "     steps=[('remove_zero_variance', VarianceThreshold(threshold=0.0)), ('select_features', SelectKBest(k=250, score_func=<function f_classif at 0x0000000002A8B978>)), ('random_forest', RandomForestClassifier(bootstrap=True, class_weight=None, criterion='gini',\n",
       "            max_depth=None, max_features='a...n_jobs=1,\n",
       "            oob_score=False, random_state=None, verbose=0,\n",
       "            warm_start=False))])"
      ]
     },
     "execution_count": 17,
     "metadata": {},
     "output_type": "execute_result"
    }
   ],
   "source": [
    "pipeline_obj.fit(X_train, Y_train)"
   ]
  },
  {
   "cell_type": "code",
   "execution_count": 18,
   "metadata": {
    "collapsed": false
   },
   "outputs": [
    {
     "data": {
      "text/plain": [
       "array([ 0.,  0.,  0.,  0.,  0.,  0.,  0.,  0.,  0.,  0.,  0.,  0.,  0.,\n",
       "        0.,  0.,  0.,  0.,  0.,  0.,  0.,  0.,  0.,  0.,  0.,  0.,  0.,\n",
       "        0.,  0.,  0.,  0.,  0.,  0.,  0.,  0.,  0.,  0.,  0.,  0.,  0.,\n",
       "        0.,  0.,  0.,  0.,  0.,  0.,  0.,  0.,  0.,  0.,  0.,  0.,  0.,\n",
       "        0.,  0.,  0.,  0.,  0.,  0.,  0.,  0.,  0.,  0.,  0.,  0.,  0.,\n",
       "        0.,  0.,  0.,  0.,  0.,  0.,  0.,  0.,  0.,  0.,  0.,  0.,  0.,\n",
       "        0.,  0.,  0.,  0.,  0.,  0.,  0.,  0.,  0.,  0.,  0.,  0.,  0.,\n",
       "        0.,  0.,  0.,  0.,  0.,  0.,  0.,  0.,  0.], dtype=float32)"
      ]
     },
     "execution_count": 18,
     "metadata": {},
     "output_type": "execute_result"
    }
   ],
   "source": [
    "Y_predict = pipeline_obj.predict(X_test)\n",
    "Y_predict[0: 100]"
   ]
  },
  {
   "cell_type": "code",
   "execution_count": 19,
   "metadata": {
    "collapsed": true
   },
   "outputs": [],
   "source": [
    "from sklearn.metrics import classification_report"
   ]
  },
  {
   "cell_type": "code",
   "execution_count": 20,
   "metadata": {
    "collapsed": true
   },
   "outputs": [],
   "source": [
    "report = classification_report(Y_predict, Y_test)"
   ]
  },
  {
   "cell_type": "code",
   "execution_count": 21,
   "metadata": {
    "collapsed": false
   },
   "outputs": [
    {
     "name": "stdout",
     "output_type": "stream",
     "text": [
      "             precision    recall  f1-score   support\n",
      "\n",
      "        0.0       0.99      0.91      0.95     13266\n",
      "        1.0       0.00      0.07      0.01        74\n",
      "\n",
      "avg / total       0.99      0.90      0.94     13340\n",
      "\n"
     ]
    }
   ],
   "source": [
    "print(report)"
   ]
  },
  {
   "cell_type": "code",
   "execution_count": 22,
   "metadata": {
    "collapsed": true
   },
   "outputs": [],
   "source": [
    "from sklearn.metrics import roc_curve"
   ]
  },
  {
   "cell_type": "code",
   "execution_count": 23,
   "metadata": {
    "collapsed": false
   },
   "outputs": [
    {
     "data": {
      "text/plain": [
       "array([[ 0.91237876,  0.08762124],\n",
       "       [ 0.91510889,  0.08489111],\n",
       "       [ 0.88041419,  0.11958581],\n",
       "       [ 0.91510889,  0.08489111],\n",
       "       [ 0.92870728,  0.07129272],\n",
       "       [ 0.90946879,  0.09053121],\n",
       "       [ 1.        ,  0.        ],\n",
       "       [ 0.93300372,  0.06699628],\n",
       "       [ 0.88674155,  0.11325845],\n",
       "       [ 0.91237876,  0.08762124]])"
      ]
     },
     "execution_count": 23,
     "metadata": {},
     "output_type": "execute_result"
    }
   ],
   "source": [
    "Y_test_p = pipeline_obj.predict_proba(X_test)\n",
    "Y_test_p[0: 10]"
   ]
  },
  {
   "cell_type": "code",
   "execution_count": 24,
   "metadata": {
    "collapsed": true
   },
   "outputs": [],
   "source": [
    "import matplotlib.pyplot as plt\n",
    "import seaborn as sb"
   ]
  },
  {
   "cell_type": "code",
   "execution_count": 25,
   "metadata": {
    "collapsed": true
   },
   "outputs": [],
   "source": [
    "fpr, tpr, _ = roc_curve(Y_test, Y_test_p[:,1])"
   ]
  },
  {
   "cell_type": "code",
   "execution_count": 26,
   "metadata": {
    "collapsed": true
   },
   "outputs": [],
   "source": [
    "%matplotlib inline"
   ]
  },
  {
   "cell_type": "code",
   "execution_count": 27,
   "metadata": {
    "collapsed": false
   },
   "outputs": [
    {
     "data": {
      "text/plain": [
       "[<matplotlib.lines.Line2D at 0x108576a0>]"
      ]
     },
     "execution_count": 27,
     "metadata": {},
     "output_type": "execute_result"
    },
    {
     "data": {
      "image/png": "[encoded data removed]",
      "text/plain": [
       "<matplotlib.figure.Figure at 0x10857668>"
      ]
     },
     "metadata": {},
     "output_type": "display_data"
    }
   ],
   "source": [
    "sb.set_style(\"darkgrid\")\n",
    "plt.plot(fpr, tpr)\n",
    "plt.plot([0,1],[0,1], \"k-\", color=\"grey\")"
   ]
  },
  {
   "cell_type": "code",
   "execution_count": 28,
   "metadata": {
    "collapsed": false
   },
   "outputs": [],
   "source": [
    "from sklearn.metrics import roc_auc_score"
   ]
  },
  {
   "cell_type": "code",
   "execution_count": 29,
   "metadata": {
    "collapsed": false
   },
   "outputs": [
    {
     "data": {
      "text/plain": [
       "0.53274003575508055"
      ]
     },
     "execution_count": 29,
     "metadata": {},
     "output_type": "execute_result"
    }
   ],
   "source": [
    "roc_auc_score(Y_test, Y_test_p[:,1])"
   ]
  },
  {
   "cell_type": "code",
   "execution_count": 30,
   "metadata": {
    "collapsed": true
   },
   "outputs": [],
   "source": [
    "from sklearn.metrics import confusion_matrix"
   ]
  },
  {
   "cell_type": "code",
   "execution_count": 31,
   "metadata": {
    "collapsed": false
   },
   "outputs": [
    {
     "data": {
      "text/plain": [
       "array([[12014,    69],\n",
       "       [ 1252,     5]], dtype=int64)"
      ]
     },
     "execution_count": 31,
     "metadata": {},
     "output_type": "execute_result"
    }
   ],
   "source": [
    "confusion_matrix(Y_test, Y_predict)"
   ]
  },
  {
   "cell_type": "code",
   "execution_count": 32,
   "metadata": {
    "collapsed": false
   },
   "outputs": [
    {
     "data": {
      "text/plain": [
       "array([ True,  True,  True, ...,  True,  True,  True], dtype=bool)"
      ]
     },
     "execution_count": 32,
     "metadata": {},
     "output_type": "execute_result"
    }
   ],
   "source": [
    "variance_thresh.get_support()"
   ]
  },
  {
   "cell_type": "code",
   "execution_count": 33,
   "metadata": {
    "collapsed": false
   },
   "outputs": [],
   "source": [
    "selected_variables1 = independent_labels[variance_thresh.get_support()]"
   ]
  },
  {
   "cell_type": "code",
   "execution_count": 34,
   "metadata": {
    "collapsed": false
   },
   "outputs": [
    {
     "data": {
      "text/plain": [
       "(5458L,)"
      ]
     },
     "execution_count": 34,
     "metadata": {},
     "output_type": "execute_result"
    }
   ],
   "source": [
    "select_k.get_support().shape"
   ]
  },
  {
   "cell_type": "code",
   "execution_count": 35,
   "metadata": {
    "collapsed": false
   },
   "outputs": [],
   "source": [
    "selected_variables2 = selected_variables1[select_k.get_support()]"
   ]
  },
  {
   "cell_type": "code",
   "execution_count": 36,
   "metadata": {
    "collapsed": false
   },
   "outputs": [
    {
     "data": {
      "text/plain": [
       "(250L,)"
      ]
     },
     "execution_count": 36,
     "metadata": {},
     "output_type": "execute_result"
    }
   ],
   "source": [
    "selected_variables2.shape"
   ]
  },
  {
   "cell_type": "code",
   "execution_count": 37,
   "metadata": {
    "collapsed": false
   },
   "outputs": [],
   "source": [
    "features_importances = random_forest.feature_importances_"
   ]
  },
  {
   "cell_type": "code",
   "execution_count": 38,
   "metadata": {
    "collapsed": false
   },
   "outputs": [
    {
     "data": {
      "text/plain": [
       "(250L,)"
      ]
     },
     "execution_count": 38,
     "metadata": {},
     "output_type": "execute_result"
    }
   ],
   "source": [
    "random_forest.feature_importances_.shape"
   ]
  },
  {
   "cell_type": "code",
   "execution_count": 39,
   "metadata": {
    "collapsed": true
   },
   "outputs": [],
   "source": [
    "import numpy as np"
   ]
  },
  {
   "cell_type": "code",
   "execution_count": 40,
   "metadata": {
    "collapsed": false
   },
   "outputs": [],
   "source": [
    "decreasing_order_of_features = np.argsort(-1*random_forest.feature_importances_,)"
   ]
  },
  {
   "cell_type": "code",
   "execution_count": 41,
   "metadata": {
    "collapsed": false
   },
   "outputs": [
    {
     "data": {
      "text/plain": [
       "[('Biopsy of mouth, unspecified structure|2001200|P', 0.059506339242460002),\n",
       " ('Other resection of rectum|2002987|P', 0.046385648970628447),\n",
       " ('Sepsis|132797|C', 0.043486823720382733),\n",
       " ('Acute respiratory failure|319049|C', 0.040154114247824876),\n",
       " ('Past history of 30-day inpatient readmissions', 0.038457162334139636),\n",
       " ('Atelectasis|261880|C', 0.033398705715970249),\n",
       " ('High risk drug monitoring status|440927|O', 0.028521778718964767),\n",
       " ('Correction of cleft palate|2001221|P', 0.025842372389716324),\n",
       " ('Body mass index 30+ - obesity|4060985|M', 0.020231664405239588),\n",
       " ('Long-term drug therapy|4141759|P', 0.019427727559544611),\n",
       " ('Dysthymia|433440|C', 0.013673430729396717),\n",
       " ('Seizure|377091|C', 0.012293534940689056),\n",
       " ('Total knee replacement|2005904|P', 0.011682507473047709),\n",
       " ('Continuous invasive mechanical ventilation for 96 consecutive hours or more|2008009|P',\n",
       "  0.01073077874635049),\n",
       " ('Esophagitis|30753|C', 0.0096949107687878192),\n",
       " ('Fixation of intestine, not otherwise specified|2002849|P',\n",
       "  0.0095265922304403026),\n",
       " ('Abnormal patient reaction|433656|C', 0.0094814093820754525),\n",
       " ('Percutaneous abdominal drainage|2003547|P', 0.0093268901206923251),\n",
       " ('Infection by methicillin sensitive Staphylococcus aureus|40481816|C',\n",
       "  0.0088853346863960077),\n",
       " ('Fall|436583|O', 0.0085724516974348183),\n",
       " ('Adverse effect, due to correct medicinal substance properly administered|439221|C',\n",
       "  0.008563638948442278),\n",
       " ('Urinary tract obstruction|194406|C', 0.0081948617642375356),\n",
       " ('Computerized axial tomography of head|2006634|P', 0.0077099193780978195),\n",
       " ('Implantation of diaphragmatic pacemaker|2001427|P', 0.0074170457014054413),\n",
       " ('Pressure ulcer|135333|C', 0.0073767109804286982),\n",
       " ('Congestive rheumatic heart failure|315295|C', 0.0072137205623705779),\n",
       " ('Hypovolemia|436375|C', 0.0071282028522410739),\n",
       " ('Fall on same level from slipping, tripping or stumbling|437175|O',\n",
       "  0.0070369852265176232),\n",
       " ('Respiratory medication administered by nebulizer|2007683|P',\n",
       "  0.00683400472890502),\n",
       " ('Transabdominal proctosigmoidoscopy|2002942|P', 0.0066598494281092119),\n",
       " ('Closed reduction of fracture without internal fixation, femur|2005415|P',\n",
       "  0.0063310530455238344),\n",
       " ('Closed [endoscopic] biopsy of bronchus|2001354|P', 0.0060969810551936938),\n",
       " ('Cholangitis|195856|C', 0.0060278217816209564),\n",
       " ('Hemiplegia of dominant side|40482237|C', 0.0056141687734739395),\n",
       " ('Respiratory insufficiency|318459|C', 0.0054211385526412971),\n",
       " ('Renal osteodystrophy|197921|C', 0.005370164194176596),\n",
       " (\"Meniere's disease|79833|C\", 0.0053017387859374101),\n",
       " ('Deep venous thrombosis of lower extremity|443537|C', 0.0050413474897605601),\n",
       " ('Immunosuppressant adverse reaction|433390|C', 0.0050029494942696639),\n",
       " ('Open wound of forehead without complication|138896|C',\n",
       "  0.0049952403105611833),\n",
       " ('Arteriosclerotic dementia with delirium|376094|C', 0.0049261519439174235),\n",
       " ('Bone graft, patella|2005199|P', 0.0047743296115681233),\n",
       " ('Diagnostic procedures on bone, not elsewhere classified, other bones|2005376|P',\n",
       "  0.0047435116021475945),\n",
       " ('Corticosteroids adverse reaction|439222|C', 0.004580709080334376),\n",
       " ('Polycythemia vera|135214|C', 0.0043139498630339361),\n",
       " ('Congenital quadriplegia|4173811|C', 0.0043092629707377796),\n",
       " ('Urticaria|139900|C', 0.0042266237758618362),\n",
       " ('Other excision of common duct|2003265|P', 0.0041823192005054225),\n",
       " ('Pulmonary tuberculosis|253954|C', 0.0040657707411815985),\n",
       " ('Neutropenia associated with infectious disease|432589|C',\n",
       "  0.0040347821645132084),\n",
       " ('Homonymous hemianopia|372897|C', 0.0039955108861169106),\n",
       " ('Vocal cord palsy|261599|C', 0.0039376865385757943),\n",
       " ('Percutaneous aspiration of gallbladder|2003188|P', 0.0039144470928626062),\n",
       " ('Visual disturbance as sequela of cerebrovascular disease|43531583|C',\n",
       "  0.0038843606433645807),\n",
       " ('Other excision or destruction of lesion or tissue of pharynx|2001260|P',\n",
       "  0.0038559829800657091),\n",
       " ('Infarction of lung due to iatrogenic pulmonary embolism|40480461|C',\n",
       "  0.0037352286659839665),\n",
       " ('Arteriography of other intrathoracic vessels|2006859|P',\n",
       "  0.0037045650404716013),\n",
       " ('Secondary malignant neoplasm of respiratory tract|253717|C',\n",
       "  0.0036873587220101118),\n",
       " ('Obsessive-compulsive disorder|440374|C', 0.0036793088114938548),\n",
       " ('Internal carotid artery dissection|45772779|C', 0.0036083161703549817),\n",
       " ('Staphylococcal pneumonia|259852|C', 0.0035948771291643847),\n",
       " ('Chronic graft-versus-host disease|434314|C', 0.0035712587294995982),\n",
       " ('Subdural hemorrhage following injury without open intracranial wound AND with loss of consciousness|433899|C',\n",
       "  0.0035034923857022518),\n",
       " ('Insertion of totally implantable vascular access device [VAD]|2006516|P',\n",
       "  0.0034860573025725177),\n",
       " ('Disorder of rectum|79069|C', 0.0034261830948300901),\n",
       " ('Thrombophlebitis of upper extremities|319054|C', 0.0034122845179579251),\n",
       " ('Other intrathoracic anastomosis of esophagus|2002483|P',\n",
       "  0.0032886774583084622),\n",
       " ('Female sterility|4005743|C', 0.0032236338950275448),\n",
       " ('Current tear of medial cartilage AND/OR meniscus of knee|80242|C',\n",
       "  0.0031855885605272692),\n",
       " ('Lysis of goniosynechiae|2000520|P', 0.0031072516316136144),\n",
       " ('Primary malignant neoplasm of uterine adnexa|200052|C',\n",
       "  0.0030731139218427928),\n",
       " ('Combined alcohol and drug detoxification|2007803|P', 0.0030010379461637856),\n",
       " ('Lives alone|4023168|O', 0.0029599357078815757),\n",
       " ('Injection or infusion of nesiritide|2000014|P', 0.0029334283369571745),\n",
       " ('Infected seroma after surgical procedure|40480515|C',\n",
       "  0.0028541371040896632),\n",
       " ('Dissection of abdominal aorta|4256889|C', 0.00285160411769579),\n",
       " ('Percutaneous hepatic cholangiogram|2006712|P', 0.0027970335501342333),\n",
       " ('Other operations on cul-de-sac|2004643|P', 0.0027906461539070134),\n",
       " ('Bundle branch block|313791|C', 0.0027900207482663458),\n",
       " ('Toxic polyneuropathy|373470|C', 0.0027896411486788976),\n",
       " ('Sprain of interphalangeal joint of finger|75954|C', 0.002752219930696586),\n",
       " ('Prepatellar bursitis|133294|C', 0.0027429876365163866),\n",
       " ('Vesicular eczema of hands and/or feet|133551|C', 0.0026604639743164809),\n",
       " ('Lumbar post-laminectomy syndrome|442425|C', 0.0026249083154600309),\n",
       " ('Intracranial injury|437409|C', 0.002599980390421577),\n",
       " ('Malignant neoplasm of middle lobe, bronchus or lung|4092217|C',\n",
       "  0.0025835064491712108),\n",
       " ('Tenosynovitis of foot|443111|C', 0.002526257602753078),\n",
       " ('Chorea|440990|C', 0.0025190117689963694),\n",
       " ('Paralytic syndrome as late effect of stroke|372654|C',\n",
       "  0.0024325772633157204),\n",
       " ('Closure of laceration of lung|2001369|P', 0.0024293410021118313),\n",
       " ('Interview and evaluation, described as comprehensive|2006978|P',\n",
       "  0.0024130125041596285),\n",
       " ('Inflammatory disease of the uterus|196162|C', 0.0024088663566159095),\n",
       " ('Congenital anomaly of coronary artery|321109|C', 0.0024060261218307971),\n",
       " ('Primary malignant neoplasm of urethra|196049|C', 0.0024036571481172177),\n",
       " ('Local excision of lesion or tissue of bone, tarsals and metatarsals|2005116|P',\n",
       "  0.002334732039166921),\n",
       " ('Injection of anesthetic into sympathetic nerve for analgesia|2000252|P',\n",
       "  0.0023274974036084487),\n",
       " ('Drug-induced psychosis|434900|C', 0.0023157123980945852),\n",
       " ('Removal of sutures from head and neck|2008070|P', 0.002307927105374431),\n",
       " ('Aspiration curettage of uterus for termination of pregnancy|2004525|P',\n",
       "  0.0022893453803895544),\n",
       " ('Sensorineural hearing loss|374366|C', 0.0022471206602897656),\n",
       " ('Vitamin K deficiency|435781|C', 0.0022056356323829776),\n",
       " ('Computerized axial tomography of kidney|2006736|P', 0.0021935562086802516),\n",
       " ('Chronic duodenal ulcer with hemorrhage AND with perforation but without obstruction|438796|C',\n",
       "  0.0021905413852980672),\n",
       " ('Derangement of meniscus|75346|C', 0.0021552383072937446),\n",
       " ('Closure of nephrostomy and pyelostomy|2003630|P', 0.002145426740704955),\n",
       " ('Displacement of lumbar intervertebral disc without myelopathy|80189|C',\n",
       "  0.0021291184630392959),\n",
       " ('Insertion of totally implantable infusion pump|2006515|P',\n",
       "  0.0021213149251482965),\n",
       " ('Senile corneal changes|375550|C', 0.0020988545973823374),\n",
       " ('Legionella pneumonia|4112820|C', 0.0020850932460780543),\n",
       " ('Third degree burn of multiple sites of upper limb|40440777|C',\n",
       "  0.0020779403674590644),\n",
       " ('Alcohol hallucinosis|372607|C', 0.0020475595712365216),\n",
       " ('Pain in eye|379031|C', 0.0020455657001960995),\n",
       " ('Benign neoplasm of rectum and anal canal|434303|C', 0.0020376650150161543),\n",
       " ('Excision or destruction of lesion or tissue of mediastinum|2001409|P',\n",
       "  0.0020168790672578573),\n",
       " ('Factitious disorder with combined physical AND psychological symptoms|433993|C',\n",
       "  0.0019925706045070984),\n",
       " ('Ventricular flutter|433225|C', 0.001973716164776952),\n",
       " ('Chondrocalcinosis due to dicalcium phosphate crystals|437629|C',\n",
       "  0.0019658342563220335),\n",
       " ('Disorder of capillaries|321876|C', 0.0019564869746255299),\n",
       " ('Primary malignant neoplasm of hypopharynx|439746|C', 0.001923157936538065),\n",
       " ('Other diagnostic procedures on kidney|2003590|P', 0.0018674401729958348),\n",
       " ('Repair of cystocele|2004590|P', 0.0018447036179397385),\n",
       " ('Evans syndrome|436956|C', 0.0018439140824009351),\n",
       " ('Excision of lesion of tonsil and adenoid|2001247|P', 0.0017898397443244203),\n",
       " ('Other sympathectomy and ganglionectomy|2000250|P', 0.0017766217008825895),\n",
       " ('Removal of nail, nail bed, or nail fold|2006534|P', 0.0017761522536940226),\n",
       " ('Combined alcohol and drug rehabilitation|2007802|P', 0.0017714072311937851),\n",
       " ('Follicular cyst of ovary|193530|C', 0.0017524863667014413),\n",
       " ('Malignant tumor of body of pancreas|4092072|C', 0.0017422835505122919),\n",
       " ('Ulcerative colitis|81893|C', 0.0017165430870504073),\n",
       " ('Suture of laceration of bronchus|2001367|P', 0.0017138819214990992),\n",
       " ('Diagnostic interview and evaluation, not otherwise specified|2006980|P',\n",
       "  0.0017038478392235247),\n",
       " ('Multiple closed fractures of cervical vertebrae|437689|C',\n",
       "  0.0016573036017615889),\n",
       " ('Congenital nystagmus|373489|C', 0.0016522487893938177),\n",
       " ('Release of carpal tunnel|2000217|P', 0.0016393035108058652),\n",
       " ('Second degree burn of abdominal wall|192785|C', 0.0016286572759049533),\n",
       " ('Benign neoplasm of nervous system|373432|C', 0.0016153471661161426),\n",
       " ('Removal of foreign body from scrotum or penis without incision|2008212|P',\n",
       "  0.0016093411912342431),\n",
       " ('Other repair and plastic operations on lung|2001371|P',\n",
       "  0.0015981068349498007),\n",
       " ('Nodular lymphoma of lymph nodes of multiple sites|320347|C',\n",
       "  0.0015960054186025649),\n",
       " ('Dental restoration finding|4150307|C', 0.0015804592742864698),\n",
       " ('Chondrocalcinosis of joint of pelvis|40483814|C', 0.0015778142589163394),\n",
       " ('Measurement of mixed venous blood gases|2007102|P', 0.0015775285042391011),\n",
       " ('Sprain of foot|436253|C', 0.0015726283175995033),\n",
       " ('Pruritic rash|135618|C', 0.0015696615872576093),\n",
       " ('Joint stiffness|72404|C', 0.0015659922419677516),\n",
       " ('Replacement of other device for musculoskeletal immobilization|2008031|P',\n",
       "  0.0015622517078093293),\n",
       " ('Injury of superficial nerves of head AND/OR neck|200611|C',\n",
       "  0.0015481137644764479),\n",
       " ('Accidental poisoning by heroin|440307|C', 0.0015433981853693198),\n",
       " ('Reactive confusion|441540|C', 0.0015401130922771331),\n",
       " ('Open chest transmyocardial revascularization|2001520|P',\n",
       "  0.0015359779926991677),\n",
       " ('Acute peptic ulcer with hemorrhage AND with perforation but without obstruction|27026|C',\n",
       "  0.0015344020914922895),\n",
       " ('Laceration of kidney without open wound into abdominal cavity|194200|C',\n",
       "  0.0015252752517288712),\n",
       " ('Peripheral retinal degeneration|437267|C', 0.0015248937257429317),\n",
       " ('DiGeorge sequence|141831|C', 0.001524834669187716),\n",
       " ('Pure red cell aplasia|140065|C', 0.0015185200220372696),\n",
       " ('Liver minor laceration with open wound into cavity|198288|C',\n",
       "  0.0015111949392163941),\n",
       " ('Prune belly syndrome|201397|C', 0.0015087613102484803),\n",
       " ('Complex endometrial hyperplasia|198471|C', 0.0015086995193946727),\n",
       " ('Pruritus ani|200169|C', 0.0015083746792182791),\n",
       " ('Other unilateral femoral herniorrhaphy|2003429|P', 0.0015053705956914615),\n",
       " ('Shoulder stiff|72711|C', 0.001504832437043606),\n",
       " ('Vaccination against rubella|2008333|P', 0.0015008411223950055),\n",
       " ('Vaginal construction with graft or prosthesis|2004608|P',\n",
       "  0.0014989681739156695),\n",
       " ('Noninflammatory cervical disorder|4113650|C', 0.0014930905867145395),\n",
       " ('Other enterostomy|2002825|P', 0.0014925137080933854),\n",
       " ('Inflammatory polyarthropathy|74125|C', 0.0014909265573120054),\n",
       " ('Bone graft, femur|2005198|P', 0.0014881735060541022),\n",
       " ('Postartificial menopausal syndrome|440155|C', 0.0014881309282285963),\n",
       " ('Insertion or replacement of pedicle-based dynamic stabilization device(s)|2006357|P',\n",
       "  0.0014871138743087569),\n",
       " ('Somatoform disorder|435784|C', 0.0014864083138998758),\n",
       " (\"Inactive Meniere's disease|76130|C\", 0.0014860806638478982),\n",
       " ('Open biopsy of tongue|2001158|P', 0.0014857850619026155),\n",
       " ('Percutaneous pyelogram|2006740|P', 0.0014854951525216892),\n",
       " ('Refractory migraine with aura|372886|C', 0.0014842005918485265),\n",
       " ('Diabetic macular edema|380097|C', 0.0014841851455280799),\n",
       " ('Gender identity disorder of adulthood|443625|C', 0.0014837446075690044),\n",
       " ('Closed reduction of fracture without internal fixation, carpals and metacarpals|2005413|P',\n",
       "  0.0014837392677277848),\n",
       " ('Tuberculosis of meninges|441775|C', 0.00148054035076292),\n",
       " ('Anastomosis of kidney|2003644|P', 0.0014797192703907187),\n",
       " ('Microcalcifications of the breast|72737|C', 0.0014795015862542455),\n",
       " ('Alcohol-induced psychotic disorder with delusions|442582|C',\n",
       "  0.0014753869359807508),\n",
       " ('Cared for by family|4144149|O', 0.0014749687169906449),\n",
       " ('Open chest cardiac massage|2001993|P', 0.0014735098613880573),\n",
       " ('Irrigation of gastrostomy or enterostomy|2007961|P', 0.0014727510377355816),\n",
       " ('Biopsy of facial bone|2004868|P', 0.0014701137064479922),\n",
       " ('Schizotypal personality disorder|434010|C', 0.00146840603524982),\n",
       " ('Excision or destruction of lesion or tissue of scrotum|2004027|P',\n",
       "  0.0014683724822171351),\n",
       " ('Chickenpox with complication|437791|C', 0.0014627193279595832),\n",
       " ('Biopsy of lip|2001199|P', 0.0014614847774184403),\n",
       " ('Consultation, described as limited|2006981|P', 0.0014610851942551243),\n",
       " ('Traumatic closed dislocation of temporomandibular joint|79173|C',\n",
       "  0.0014589684041602248),\n",
       " ('Total removal of small intestine|2002748|P', 0.0014546332323425617),\n",
       " ('Removal of peripheral neurostimulator lead(s)|2000237|P',\n",
       "  0.0014535534898244414),\n",
       " ('Other operations on bronchus|2001386|P', 0.0014469935705729426),\n",
       " ('Acquired trigger finger|77965|C', 0.0014450011386485193),\n",
       " ('Excision of deep cervical lymph node|2002303|P', 0.0014449747303704118),\n",
       " ('Noncollision motor vehicle traffic accident involving injury by being thrown against some part of, or object in, motor vehicle w',\n",
       "  0.0014436813370373156),\n",
       " ('Syphilis|436033|C', 0.0014382116954270668),\n",
       " ('Hereditary hemolytic anemia|28396|C', 0.0014245710377199495),\n",
       " ('Adverse reaction to BCG vaccine|437768|C', 0.0014211213639225158),\n",
       " ('Common arterial trunk|441950|C', 0.0014208449309467761),\n",
       " ('Total body scan|2007466|P', 0.0014183198348925613),\n",
       " ('Acute exacerbation of intrinsic asthma|45773005|C', 0.0014157957010268842),\n",
       " ('Nystagmus associated with disorder of the vestibular system|377568|C',\n",
       "  0.0014156628902745659),\n",
       " ('Acquired postural lordosis|78842|C', 0.0014098999679855188),\n",
       " ('Open wound of multiple sites of face with complication|134510|C',\n",
       "  0.0014002674221609088),\n",
       " ('Urethritis|195862|C', 0.0013894170390247275),\n",
       " ('Overlapping malignant neoplasm of oropharynx|438691|C',\n",
       "  0.0013846156187262463),\n",
       " ('Malignant secondary hypertension|318437|C', 0.0013833899438485226),\n",
       " ('Contusion of axillary region|434212|C', 0.0013758463146919847),\n",
       " ('Local excision of lesion or tissue of bone, femur|2005113|P',\n",
       "  0.0013667815023890504),\n",
       " ('Closure of other fistula of trachea|2001308|P', 0.001361513501494781),\n",
       " ('Acquired red cell aplasia|138723|C', 0.0013490740798859377),\n",
       " ('Other excision of vessels, lower limb veins|2002128|P',\n",
       "  0.0013471256757275462),\n",
       " ('Primary malignant neoplasm of scrotum|79758|C', 0.001345004481802349),\n",
       " ('Dribbling of urine|200848|C', 0.0013398254834968272),\n",
       " ('Excision of cystic duct remnant|2003263|P', 0.0013301843662164299),\n",
       " ('Laparoscopic repair of indirect inguinal hernia with graft or prosthesis|2000802|P',\n",
       "  0.0013245519368834944),\n",
       " ('Hemophthalmos without current injury|375539|C', 0.0013217794215961997),\n",
       " ('Mixed conductive AND sensorineural hearing loss|379832|C',\n",
       "  0.0013142696852575322),\n",
       " ('Other operations on septa of heart|2001496|P', 0.0013106867456530416),\n",
       " ('Late syphilis|435739|C', 0.0013087497234957951),\n",
       " ('Biopsy of diaphragm|2001406|P', 0.00130769594113945),\n",
       " ('High-dose infusion interleukin-2 [IL-2]|2000016|P', 0.0012993928271939049),\n",
       " ('Central nervous system depressants and anesthetic agent poisoning|443224|C',\n",
       "  0.0012559248400690463),\n",
       " ('Intrauterine synechiae|197927|C', 0.0012533185557883524),\n",
       " ('Primary malignant neoplasm of thymus|438368|C', 0.0012511877908401236),\n",
       " ('Primary malignant neoplasm of spleen|193418|C', 0.0012255205067902538),\n",
       " ('Cortex contusion without open intracranial wound|440858|C',\n",
       "  0.0011189210181421982),\n",
       " ('Cardiac inotropic agent adverse reaction|4167767|C', 0.0010520556871562619),\n",
       " ('Contusion of hip|195401|C', 0.0010130549958898207),\n",
       " ('Loss of consciousness|372448|C', 0.00097601259964769408),\n",
       " ('Superficial injury of hand without infection|80591|C',\n",
       "  0.00094086607548541376),\n",
       " ('Partial thickness burn of multiple sites of trunk|140609|C',\n",
       "  0.00090039780701165991),\n",
       " ('Tendon graft|2006176|P', 0.00086477155963565213),\n",
       " ('Closed fracture of vault of skull without intracranial injury|441133|C',\n",
       "  0.00084602772750789167),\n",
       " ('Premature/false labor|4125778|C', 0.00074957940044103396),\n",
       " ('Excision or destruction of lesion or tissue of tongue|2001160|P',\n",
       "  0.00072241112283604478),\n",
       " ('Infective/parasitic disease in preg/childbirth/puerperium|433266|C',\n",
       "  0.00071090022859472636),\n",
       " ('Lymphangioma|433997|C', 0.00069826082616508353),\n",
       " ('Anomaly of tooth position|433243|C', 0.00063987222209138314),\n",
       " ('Transient hypertension of pregnancy - delivered|137940|C',\n",
       "  0.00052792839007322501),\n",
       " ('Mild pre-eclampsia|314090|C', 0.00046201837818225929),\n",
       " ('Poor fetal growth affecting management|72693|C', 0.00045205869948494065),\n",
       " ('Administration of intelligence test|2007691|P', 0.00037105087007009057),\n",
       " ('Accident with controlled fire|438938|O', 0.00036388864592266305),\n",
       " ('Second degree burn of upper limb|441177|C', 0.00036089208869151266),\n",
       " ('Third degree burn of forehead AND/OR cheek|138033|C',\n",
       "  0.00033800663019330522),\n",
       " ('Full thickness burn of a single finger|77180|C', 0.000318286452037922),\n",
       " ('Injury of unknown intent by burns or fire|432810|C',\n",
       "  0.00031678408004017042)]"
      ]
     },
     "execution_count": 41,
     "metadata": {},
     "output_type": "execute_result"
    }
   ],
   "source": [
    "[(selected_variables2[decreasing_order_of_features][i], features_importances[decreasing_order_of_features][i]) \n",
    " for i in range(features_importances.shape[0])]"
   ]
  },
  {
   "cell_type": "code",
   "execution_count": null,
   "metadata": {
    "collapsed": true
   },
   "outputs": [],
   "source": []
  }
 ],
 "metadata": {
  "kernelspec": {
   "display_name": "Python 2",
   "language": "python",
   "name": "python2"
  },
  "language_info": {
   "codemirror_mode": {
    "name": "ipython",
    "version": 2
   },
   "file_extension": ".py",
   "mimetype": "text/x-python",
   "name": "python",
   "nbconvert_exporter": "python",
   "pygments_lexer": "ipython2",
   "version": "2.7.11"
  }
 },
 "nbformat": 4,
 "nbformat_minor": 0
}
