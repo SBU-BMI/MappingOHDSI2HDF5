{
 "cells": [
  {
   "cell_type": "code",
   "execution_count": 1,
   "metadata": {
    "collapsed": true
   },
   "outputs": [],
   "source": [
    "import h5py\n",
    "import numpy as np"
   ]
  },
  {
   "cell_type": "code",
   "execution_count": 2,
   "metadata": {
    "collapsed": true
   },
   "outputs": [],
   "source": [
    "f5 = h5py.File(\"inpatient_readmission_analysis.hdf5\", \"r\")"
   ]
  },
  {
   "cell_type": "code",
   "execution_count": 3,
   "metadata": {
    "collapsed": false
   },
   "outputs": [
    {
     "data": {
      "text/plain": [
       "(66700L, 5686L)"
      ]
     },
     "execution_count": 3,
     "metadata": {},
     "output_type": "execute_result"
    }
   ],
   "source": [
    "independent_array = f5[\"/independent/core_array\"][...]\n",
    "independent_array.shape"
   ]
  },
  {
   "cell_type": "code",
   "execution_count": 4,
   "metadata": {
    "collapsed": false
   },
   "outputs": [
    {
     "data": {
      "text/plain": [
       "array(['gender_concept_name|FEMALE', 'Length of stay in days',\n",
       "       'age_at_visit_start_in_years_int',\n",
       "       'Past history of 30-day inpatient readmissions',\n",
       "       'No matching concept|0|C',\n",
       "       'Gingival and periodontal disease|132344|C',\n",
       "       'Staphylococcal scalded skin syndrome|132392|C',\n",
       "       'Pressure ulcer stage 1|132393|C',\n",
       "       'Post-laminectomy syndrome|132412|C',\n",
       "       'Chronic osteomyelitis of hand|132414|C'],\n",
       "      dtype='|S128')"
      ]
     },
     "execution_count": 4,
     "metadata": {},
     "output_type": "execute_result"
    }
   ],
   "source": [
    "independent_labels = f5[\"/independent/column_annotations\"][...]\n",
    "independent_labels[0: 10]"
   ]
  },
  {
   "cell_type": "code",
   "execution_count": 5,
   "metadata": {
    "collapsed": false
   },
   "outputs": [
    {
     "data": {
      "text/plain": [
       "(66700L,)"
      ]
     },
     "execution_count": 5,
     "metadata": {},
     "output_type": "execute_result"
    }
   ],
   "source": [
    "dependent_array = f5[\"/dependent/core_array\"][...]\n",
    "dependent_array = np.ndarray.flatten(dependent_array)\n",
    "dependent_array.shape"
   ]
  },
  {
   "cell_type": "code",
   "execution_count": 6,
   "metadata": {
    "collapsed": false
   },
   "outputs": [
    {
     "data": {
      "text/plain": [
       "6421.0"
      ]
     },
     "execution_count": 6,
     "metadata": {},
     "output_type": "execute_result"
    }
   ],
   "source": [
    "np.sum(dependent_array)"
   ]
  },
  {
   "cell_type": "code",
   "execution_count": 7,
   "metadata": {
    "collapsed": false
   },
   "outputs": [
    {
     "data": {
      "text/plain": [
       "6000119"
      ]
     },
     "execution_count": 7,
     "metadata": {},
     "output_type": "execute_result"
    }
   ],
   "source": [
    "np.sum(independent_array)"
   ]
  },
  {
   "cell_type": "code",
   "execution_count": 8,
   "metadata": {
    "collapsed": false
   },
   "outputs": [
    {
     "data": {
      "text/plain": [
       "array(['30-day inpatient readmission'],\n",
       "      dtype='|S128')"
      ]
     },
     "execution_count": 8,
     "metadata": {},
     "output_type": "execute_result"
    }
   ],
   "source": [
    "dependent_labels = f5[\"/dependent/column_annotations\"][...]\n",
    "dependent_labels"
   ]
  },
  {
   "cell_type": "code",
   "execution_count": 9,
   "metadata": {
    "collapsed": false
   },
   "outputs": [
    {
     "data": {
      "text/plain": [
       "'0.19.0'"
      ]
     },
     "execution_count": 9,
     "metadata": {},
     "output_type": "execute_result"
    }
   ],
   "source": [
    "import sklearn\n",
    "sklearn.__version__"
   ]
  },
  {
   "cell_type": "code",
   "execution_count": 10,
   "metadata": {
    "collapsed": false
   },
   "outputs": [],
   "source": [
    "from sklearn.model_selection import train_test_split"
   ]
  },
  {
   "cell_type": "code",
   "execution_count": 11,
   "metadata": {
    "collapsed": false
   },
   "outputs": [],
   "source": [
    "X_train, X_test, Y_train, Y_test = train_test_split(independent_array, dependent_array, test_size=0.2)"
   ]
  },
  {
   "cell_type": "code",
   "execution_count": 12,
   "metadata": {
    "collapsed": false
   },
   "outputs": [
    {
     "data": {
      "text/plain": [
       "array([[34,  9,  1, ...,  0,  0,  0],\n",
       "       [78,  2,  0, ...,  0,  0,  0],\n",
       "       [52, 10,  0, ...,  0,  0,  0],\n",
       "       ..., \n",
       "       [70,  3,  0, ...,  0,  0,  0],\n",
       "       [68,  6,  0, ...,  0,  0,  0],\n",
       "       [79,  7,  1, ...,  0,  0,  0]])"
      ]
     },
     "execution_count": 12,
     "metadata": {},
     "output_type": "execute_result"
    }
   ],
   "source": [
    "X_test"
   ]
  },
  {
   "cell_type": "code",
   "execution_count": 13,
   "metadata": {
    "collapsed": true
   },
   "outputs": [],
   "source": [
    "from sklearn.pipeline import Pipeline"
   ]
  },
  {
   "cell_type": "code",
   "execution_count": 14,
   "metadata": {
    "collapsed": true
   },
   "outputs": [],
   "source": [
    "from sklearn.feature_selection import VarianceThreshold\n",
    "from sklearn.feature_selection import SelectKBest\n",
    "from sklearn.ensemble import RandomForestClassifier"
   ]
  },
  {
   "cell_type": "code",
   "execution_count": 15,
   "metadata": {
    "collapsed": true
   },
   "outputs": [],
   "source": [
    "variance_thresh = VarianceThreshold()\n",
    "select_k = SelectKBest(k=250)\n",
    "random_forest = RandomForestClassifier(n_estimators=500)\n",
    "\n",
    "pipeline_steps = [(\"remove_zero_variance\", variance_thresh), \n",
    "                  (\"select_features\", select_k), \n",
    "                  (\"random_forest\", random_forest)]"
   ]
  },
  {
   "cell_type": "code",
   "execution_count": 16,
   "metadata": {
    "collapsed": true
   },
   "outputs": [],
   "source": [
    "pipeline_obj = Pipeline(pipeline_steps)"
   ]
  },
  {
   "cell_type": "code",
   "execution_count": 17,
   "metadata": {
    "collapsed": false
   },
   "outputs": [
    {
     "data": {
      "text/plain": [
       "Pipeline(memory=None,\n",
       "     steps=[('remove_zero_variance', VarianceThreshold(threshold=0.0)), ('select_features', SelectKBest(k=250, score_func=<function f_classif at 0x000000000495F128>)), ('random_forest', RandomForestClassifier(bootstrap=True, class_weight=None, criterion='gini',\n",
       "            max_depth=None, max_features='a...n_jobs=1,\n",
       "            oob_score=False, random_state=None, verbose=0,\n",
       "            warm_start=False))])"
      ]
     },
     "execution_count": 17,
     "metadata": {},
     "output_type": "execute_result"
    }
   ],
   "source": [
    "pipeline_obj.fit(X_train, Y_train)"
   ]
  },
  {
   "cell_type": "code",
   "execution_count": 18,
   "metadata": {
    "collapsed": false
   },
   "outputs": [
    {
     "data": {
      "text/plain": [
       "array([ 0.,  0.,  0.,  0.,  0.,  0.,  0.,  0.,  0.,  0.,  0.,  0.,  0.,\n",
       "        0.,  0.,  0.,  0.,  0.,  0.,  0.,  0.,  0.,  0.,  0.,  0.,  0.,\n",
       "        0.,  0.,  0.,  0.,  0.,  0.,  0.,  0.,  0.,  0.,  0.,  0.,  0.,\n",
       "        0.,  0.,  0.,  0.,  0.,  0.,  0.,  0.,  0.,  0.,  0.,  0.,  0.,\n",
       "        0.,  0.,  0.,  0.,  0.,  0.,  0.,  0.,  0.,  0.,  0.,  0.,  0.,\n",
       "        0.,  0.,  0.,  0.,  0.,  0.,  0.,  0.,  0.,  0.,  0.,  0.,  0.,\n",
       "        0.,  0.,  0.,  0.,  0.,  0.,  0.,  0.,  0.,  0.,  0.,  0.,  0.,\n",
       "        0.,  0.,  0.,  0.,  0.,  0.,  0.,  0.,  0.], dtype=float32)"
      ]
     },
     "execution_count": 18,
     "metadata": {},
     "output_type": "execute_result"
    }
   ],
   "source": [
    "Y_predict = pipeline_obj.predict(X_test)\n",
    "Y_predict[0: 100]"
   ]
  },
  {
   "cell_type": "code",
   "execution_count": 19,
   "metadata": {
    "collapsed": true
   },
   "outputs": [],
   "source": [
    "from sklearn.metrics import classification_report"
   ]
  },
  {
   "cell_type": "code",
   "execution_count": 20,
   "metadata": {
    "collapsed": true
   },
   "outputs": [],
   "source": [
    "report = classification_report(Y_predict, Y_test)"
   ]
  },
  {
   "cell_type": "code",
   "execution_count": 21,
   "metadata": {
    "collapsed": false
   },
   "outputs": [
    {
     "name": "stdout",
     "output_type": "stream",
     "text": [
      "             precision    recall  f1-score   support\n",
      "\n",
      "        0.0       1.00      0.91      0.95     13296\n",
      "        1.0       0.00      0.14      0.01        44\n",
      "\n",
      "avg / total       0.99      0.90      0.95     13340\n",
      "\n"
     ]
    }
   ],
   "source": [
    "print(report)"
   ]
  },
  {
   "cell_type": "code",
   "execution_count": 22,
   "metadata": {
    "collapsed": true
   },
   "outputs": [],
   "source": [
    "from sklearn.metrics import roc_curve"
   ]
  },
  {
   "cell_type": "code",
   "execution_count": 23,
   "metadata": {
    "collapsed": false
   },
   "outputs": [
    {
     "data": {
      "text/plain": [
       "array([[ 0.91094367,  0.08905633],\n",
       "       [ 0.91094367,  0.08905633],\n",
       "       [ 0.86796899,  0.13203101],\n",
       "       [ 0.91094367,  0.08905633],\n",
       "       [ 0.94239636,  0.05760364],\n",
       "       [ 0.94487402,  0.05512598],\n",
       "       [ 0.91094367,  0.08905633],\n",
       "       [ 0.91094367,  0.08905633],\n",
       "       [ 0.91094367,  0.08905633],\n",
       "       [ 0.91094367,  0.08905633]])"
      ]
     },
     "execution_count": 23,
     "metadata": {},
     "output_type": "execute_result"
    }
   ],
   "source": [
    "Y_test_p = pipeline_obj.predict_proba(X_test)\n",
    "Y_test_p[0: 10]"
   ]
  },
  {
   "cell_type": "code",
   "execution_count": 24,
   "metadata": {
    "collapsed": true
   },
   "outputs": [],
   "source": [
    "import matplotlib.pyplot as plt\n",
    "import seaborn as sb"
   ]
  },
  {
   "cell_type": "code",
   "execution_count": 25,
   "metadata": {
    "collapsed": true
   },
   "outputs": [],
   "source": [
    "fpr, tpr, _ = roc_curve(Y_test, Y_test_p[:,1])"
   ]
  },
  {
   "cell_type": "code",
   "execution_count": 26,
   "metadata": {
    "collapsed": true
   },
   "outputs": [],
   "source": [
    "%matplotlib inline"
   ]
  },
  {
   "cell_type": "code",
   "execution_count": 27,
   "metadata": {
    "collapsed": false
   },
   "outputs": [
    {
     "data": {
      "text/plain": [
       "[<matplotlib.lines.Line2D at 0x106d01d0>]"
      ]
     },
     "execution_count": 27,
     "metadata": {},
     "output_type": "execute_result"
    },
    {
     "data": {
      "image/png": "[encoded data removed]",
      "text/plain": [
       "<matplotlib.figure.Figure at 0x106c0be0>"
      ]
     },
     "metadata": {},
     "output_type": "display_data"
    }
   ],
   "source": [
    "sb.set_style(\"darkgrid\")\n",
    "plt.plot(fpr, tpr)\n",
    "plt.plot([0,1],[0,1], \"k-\", color=\"grey\")"
   ]
  },
  {
   "cell_type": "code",
   "execution_count": 28,
   "metadata": {
    "collapsed": false
   },
   "outputs": [],
   "source": [
    "from sklearn.metrics import roc_auc_score"
   ]
  },
  {
   "cell_type": "code",
   "execution_count": 29,
   "metadata": {
    "collapsed": false
   },
   "outputs": [
    {
     "data": {
      "text/plain": [
       "0.53031923469697073"
      ]
     },
     "execution_count": 29,
     "metadata": {},
     "output_type": "execute_result"
    }
   ],
   "source": [
    "roc_auc_score(Y_test, Y_test_p[:,1])"
   ]
  },
  {
   "cell_type": "code",
   "execution_count": 30,
   "metadata": {
    "collapsed": true
   },
   "outputs": [],
   "source": [
    "from sklearn.metrics import confusion_matrix"
   ]
  },
  {
   "cell_type": "code",
   "execution_count": 31,
   "metadata": {
    "collapsed": false
   },
   "outputs": [
    {
     "data": {
      "text/plain": [
       "array([[12034,    38],\n",
       "       [ 1262,     6]], dtype=int64)"
      ]
     },
     "execution_count": 31,
     "metadata": {},
     "output_type": "execute_result"
    }
   ],
   "source": [
    "confusion_matrix(Y_test, Y_predict)"
   ]
  },
  {
   "cell_type": "code",
   "execution_count": 32,
   "metadata": {
    "collapsed": false
   },
   "outputs": [
    {
     "data": {
      "text/plain": [
       "array([ True,  True,  True, ..., False,  True,  True], dtype=bool)"
      ]
     },
     "execution_count": 32,
     "metadata": {},
     "output_type": "execute_result"
    }
   ],
   "source": [
    "variance_thresh.get_support()"
   ]
  },
  {
   "cell_type": "code",
   "execution_count": 33,
   "metadata": {
    "collapsed": false
   },
   "outputs": [],
   "source": [
    "selected_variables1 = independent_labels[variance_thresh.get_support()]"
   ]
  },
  {
   "cell_type": "code",
   "execution_count": 34,
   "metadata": {
    "collapsed": false
   },
   "outputs": [
    {
     "data": {
      "text/plain": [
       "(5436L,)"
      ]
     },
     "execution_count": 34,
     "metadata": {},
     "output_type": "execute_result"
    }
   ],
   "source": [
    "select_k.get_support().shape"
   ]
  },
  {
   "cell_type": "code",
   "execution_count": 35,
   "metadata": {
    "collapsed": false
   },
   "outputs": [],
   "source": [
    "selected_variables2 = selected_variables1[select_k.get_support()]"
   ]
  },
  {
   "cell_type": "code",
   "execution_count": 36,
   "metadata": {
    "collapsed": false
   },
   "outputs": [
    {
     "data": {
      "text/plain": [
       "(250L,)"
      ]
     },
     "execution_count": 36,
     "metadata": {},
     "output_type": "execute_result"
    }
   ],
   "source": [
    "selected_variables2.shape"
   ]
  },
  {
   "cell_type": "code",
   "execution_count": 37,
   "metadata": {
    "collapsed": false
   },
   "outputs": [],
   "source": [
    "features_importances = random_forest.feature_importances_"
   ]
  },
  {
   "cell_type": "code",
   "execution_count": 38,
   "metadata": {
    "collapsed": false
   },
   "outputs": [
    {
     "data": {
      "text/plain": [
       "(250L,)"
      ]
     },
     "execution_count": 38,
     "metadata": {},
     "output_type": "execute_result"
    }
   ],
   "source": [
    "random_forest.feature_importances_.shape"
   ]
  },
  {
   "cell_type": "code",
   "execution_count": 39,
   "metadata": {
    "collapsed": true
   },
   "outputs": [],
   "source": [
    "import numpy as np"
   ]
  },
  {
   "cell_type": "code",
   "execution_count": 40,
   "metadata": {
    "collapsed": false
   },
   "outputs": [],
   "source": [
    "decreasing_order_of_features = np.argsort(-1*random_forest.feature_importances_,)"
   ]
  },
  {
   "cell_type": "code",
   "execution_count": 41,
   "metadata": {
    "collapsed": false
   },
   "outputs": [
    {
     "data": {
      "text/plain": [
       "[('Biopsy of mouth, unspecified structure|2001200|P', 0.063385055767199147),\n",
       " ('Past history of 30-day inpatient readmissions', 0.038689851064998532),\n",
       " ('End stage renal disease|193782|C', 0.035832784022856369),\n",
       " ('No matching concept|0|M', 0.030379309218931255),\n",
       " ('Long-term drug therapy|4141759|P', 0.021403061381911077),\n",
       " ('Body mass index 30+ - obesity|4060985|M', 0.019992376228145689),\n",
       " ('Hemiplegia|374022|C', 0.017678811064311396),\n",
       " ('Acute infective exacerbation of chronic obstructive airways disease|4115044|C',\n",
       "  0.015151547827271699),\n",
       " ('Dysthymia|433440|C', 0.014676283545252364),\n",
       " ('Complication of procedure|442019|C', 0.012228984816607886),\n",
       " ('Percutaneous abdominal drainage|2003547|P', 0.011088661159058015),\n",
       " ('Other repair or plastic operations on bone, femur|2005278|P',\n",
       "  0.01079861218149672),\n",
       " ('Bacterial infection due to Pseudomonas|438064|C', 0.010694648116454191),\n",
       " ('Adverse effect, due to correct medicinal substance properly administered|439221|C',\n",
       "  0.010629158491346557),\n",
       " ('Computerized axial tomography of head|2006634|P', 0.010458241329298368),\n",
       " ('Fixation of intestine, not otherwise specified|2002849|P',\n",
       "  0.010438408343778592),\n",
       " ('Hematuria syndrome|79864|C', 0.010174436212167197),\n",
       " ('Congestive rheumatic heart failure|315295|C', 0.0094946294858656508),\n",
       " ('Candidiasis of mouth|29735|C', 0.0090546768600876845),\n",
       " ('Continuous invasive mechanical ventilation for 96 consecutive hours or more|2008009|P',\n",
       "  0.0090496148697534577),\n",
       " ('Abnormal patient reaction|433656|C', 0.0089786445055483333),\n",
       " ('Fall on same level from slipping, tripping or stumbling|437175|M',\n",
       "  0.0089614682651034169),\n",
       " ('Complication of surgical procedure|434547|C', 0.0082061215968513134),\n",
       " ('Transabdominal proctosigmoidoscopy|2002942|P', 0.0080840307722595782),\n",
       " ('Pressure ulcer|135333|C', 0.007987850220286051),\n",
       " ('Open reduction of fracture with internal fixation, femur|2005478|P',\n",
       "  0.0079646749092861426),\n",
       " ('Fall|436583|M', 0.0069359997032703222),\n",
       " ('Closed [endoscopic] biopsy of bronchus|2001354|P', 0.0069342256759081901),\n",
       " ('Bone graft, patella|2005199|P', 0.0067859408557855577),\n",
       " ('Cholangitis|195856|C', 0.0064391131524399606),\n",
       " ('Peritonitis|196152|C', 0.0062890632683984312),\n",
       " ('Renal disorder associated with type 1 diabetes mellitus|200687|C',\n",
       "  0.0062886239742870722),\n",
       " ('Respiratory medication administered by nebulizer|2007683|P',\n",
       "  0.0061565145165404043),\n",
       " ('Corticosteroids adverse reaction|439222|C', 0.0061403018545009812),\n",
       " ('Current tear of medial cartilage AND/OR meniscus of knee|80242|C',\n",
       "  0.0059706350383159903),\n",
       " ('Injection of anticoagulant|2008264|P', 0.0059057122620181273),\n",
       " ('Bleeding ulcer of esophagus|26441|C', 0.0057322463986748473),\n",
       " ('Insertion of totally implantable vascular access device [VAD]|2006516|P',\n",
       "  0.0055673326300516328),\n",
       " ('Vocal cord palsy|261599|C', 0.0053003165313389999),\n",
       " ('Respiratory insufficiency|318459|C', 0.0051991912165437913),\n",
       " ('Infectious disease carrier|4280828|C', 0.0050632462370381812),\n",
       " ('Secondary malignant neoplasm of respiratory tract|253717|C',\n",
       "  0.0050614026574079627),\n",
       " ('Percutaneous aspiration of gallbladder|2003188|P', 0.0050098843991150449),\n",
       " ('Lives alone|4023168|M', 0.0045793058236382146),\n",
       " ('Disorder of the urea cycle metabolism|434311|C', 0.0045371712695003903),\n",
       " (\"Crohn's disease of small intestine|195585|C\", 0.0044809559895231128),\n",
       " ('Arteriosclerotic dementia with delirium|376094|C', 0.0044486434416812857),\n",
       " ('Congenital quadriplegia|4173811|C', 0.004370399830993325),\n",
       " ('Other operations on one extraocular muscle involving temporary detachment from globe|2000685|P',\n",
       "  0.0042866465074751529),\n",
       " ('Pulmonary tuberculosis|253954|C', 0.0042765953226268022),\n",
       " ('Duodenal ulcer without hemorrhage, without perforation AND without obstruction|438469|C',\n",
       "  0.0041930094466331742),\n",
       " ('Female sterility|4005743|C', 0.0040639120164529313),\n",
       " ('Deep venous thrombosis of lower extremity|443537|C', 0.0040408054647042228),\n",
       " ('Diagnostic procedures on bone, not elsewhere classified, other bones|2005376|P',\n",
       "  0.0040121126295684867),\n",
       " ('Urticaria|139900|C', 0.0039987835702025125),\n",
       " ('Pancreatic sphincteroplasty|2003285|P', 0.0039783225869057482),\n",
       " ('H/O: lung recipient|4059465|M', 0.0039737267276135826),\n",
       " ('Wristdrop|440193|C', 0.0039597839025960436),\n",
       " ('Testicular hypofunction|26662|C', 0.0039596671884731642),\n",
       " ('Lumbar post-laminectomy syndrome|442425|C', 0.0039466118436090247),\n",
       " ('Injection or infusion of nesiritide|2000014|P', 0.0039308103534833857),\n",
       " ('Thoracic spondylosis with myelopathy|79119|C', 0.0038976990496544196),\n",
       " ('Sprain of interphalangeal joint of finger|75954|C', 0.0038823412416624892),\n",
       " ('Dissection of abdominal aorta|4256889|C', 0.0038819876055180679),\n",
       " ('Thrombophlebitis of upper extremities|319054|C', 0.0038554514627260291),\n",
       " ('Vertebrobasilar artery syndrome|376714|C', 0.0037981389603431873),\n",
       " ('Internal carotid artery dissection|45772779|C', 0.0037780407553289286),\n",
       " ('Primary malignant neoplasm of uterine adnexa|200052|C',\n",
       "  0.003684446580256595),\n",
       " ('Lysis of goniosynechiae|2000520|P', 0.0036803635049840709),\n",
       " ('Other diagnostic procedures on pharynx|2001254|P', 0.0036083334604571915),\n",
       " ('Postartificial menopausal syndrome|440155|C', 0.0036058630847815728),\n",
       " ('Vesicular eczema of hands and/or feet|133551|C', 0.0035488360831258561),\n",
       " ('Arteriography of other intrathoracic vessels|2006859|P',\n",
       "  0.0035478570798641858),\n",
       " ('Other intrathoracic anastomosis of esophagus|2002483|P',\n",
       "  0.0035273401321057039),\n",
       " ('Infarction of lung due to iatrogenic pulmonary embolism|40480461|C',\n",
       "  0.0034773861591842841),\n",
       " ('Subdural hemorrhage following injury without open intracranial wound AND with loss of consciousness|433899|C',\n",
       "  0.0034690183162544692),\n",
       " ('Laparoscopically assisted vaginal hysterectomy (LAVH)|2004467|P',\n",
       "  0.0034600558706268914),\n",
       " ('Disorder of rectum|79069|C', 0.0034483339906128084),\n",
       " ('Sensorineural hearing loss|374366|C', 0.0034414710875863329),\n",
       " ('Paralytic syndrome as late effect of stroke|372654|C',\n",
       "  0.003343916525907945),\n",
       " ('Toxic polyneuropathy|373470|C', 0.0033080733984060659),\n",
       " ('Incision of perirectal tissue|2003023|P', 0.0032533203373269746),\n",
       " ('Congenital anomaly of coronary artery|321109|C', 0.0031918931944071075),\n",
       " ('Formation of cutaneous uretero-ileostomy|2003703|P', 0.00317509390426211),\n",
       " ('Dilation of sphincter of Oddi|2003283|P', 0.0031323224574317538),\n",
       " ('Bundle branch block|313791|C', 0.0031041419784155659),\n",
       " ('Other local excision or destruction of lesion of joint, foot and toe|2005765|P',\n",
       "  0.003093122696545614),\n",
       " ('Closed fracture of T7-T12 level with spinal cord injury|313608|C',\n",
       "  0.0030738040230662211),\n",
       " ('Vitamin K deficiency|435781|C', 0.0030690118038508548),\n",
       " ('Chronic graft-versus-host disease|434314|C', 0.0030220276320254589),\n",
       " ('Interview and evaluation, described as comprehensive|2006978|P',\n",
       "  0.0030105381133690118),\n",
       " ('Chronic duodenal ulcer with hemorrhage AND with perforation but without obstruction|438796|C',\n",
       "  0.0030056343247708422),\n",
       " ('Intracranial injury|437409|C', 0.0029742431557350465),\n",
       " ('Closed reduction of dislocation of hip|2005554|P', 0.002965379045337003),\n",
       " ('Primary malignant neoplasm of urethra|196049|C', 0.002895445419902316),\n",
       " ('Third degree burn of multiple sites of upper limb|40440777|C',\n",
       "  0.0028451407483218042),\n",
       " ('Shortening procedure on one extraocular muscle|2000688|P',\n",
       "  0.0028243435235604927),\n",
       " ('Child attention deficit disorder|440086|C', 0.0028158697851656256),\n",
       " ('Staphylococcal pneumonia|259852|C', 0.002813133201989938),\n",
       " ('Endoscopic excision or destruction of lesion or tissue of stomach|2002544|P',\n",
       "  0.0027689544730472165),\n",
       " ('Other operations on vessels of heart|2001527|P', 0.002760895904212802),\n",
       " ('Local excision of lesion or tissue of bone, humerus|2005100|P',\n",
       "  0.0027489730619941841),\n",
       " ('Resection of vessel with anastomosis, aorta|2002063|P',\n",
       "  0.0027141409502377469),\n",
       " ('Insertion of permanent pacemaker, initial or replacement, type of device not specified|2001973|P',\n",
       "  0.0027035144845267197),\n",
       " ('Neutropenia associated with infectious disease|432589|C',\n",
       "  0.0026865848138577092),\n",
       " ('Alcohol hallucinosis|372607|C', 0.0026687146554014111),\n",
       " ('Ventricular flutter|433225|C', 0.0026600873045768028),\n",
       " ('Physical abuse of adult|439391|M', 0.0025978050768292833),\n",
       " ('Panic disorder with agoraphobia|4147466|C', 0.0025599447710439932),\n",
       " ('Chondrocalcinosis due to dicalcium phosphate crystals|437629|C',\n",
       "  0.0025420625960427463),\n",
       " ('Accidental poisoning|436581|C', 0.0025044912622100191),\n",
       " ('Chorea|440990|C', 0.0024845415741135985),\n",
       " ('Repair of vertebral fracture|2000180|P', 0.0024819140301405034),\n",
       " ('Excision of lesion of tendon sheath of hand|2006002|P',\n",
       "  0.002475709615646192),\n",
       " ('Other diagnostic procedures on kidney|2003590|P', 0.0024654725347626858),\n",
       " ('Benign neoplasm of rectum and anal canal|434303|C', 0.0024117343924420429),\n",
       " ('Evans syndrome|436956|C', 0.0023640295263812165),\n",
       " ('Emotional upset|439791|C', 0.002340175143977575),\n",
       " ('Nicotiana tabacum poisoning|443933|C', 0.0023215256316282541),\n",
       " ('Derangement of meniscus|75346|C', 0.0023052513814272231),\n",
       " ('Closure of laceration of lung|2001369|P', 0.0023017557527085929),\n",
       " ('Injection or tattooing of skin lesion or defect|2006501|P',\n",
       "  0.0022838406006182523),\n",
       " ('Suture of gastric ulcer site|2002610|P', 0.0022545948637506829),\n",
       " ('Wrist pyogenic arthritis|4344398|C', 0.0022308785477992733),\n",
       " ('Tenosynovitis of foot|443111|C', 0.0022154839701176753),\n",
       " ('Removal of sutures from head and neck|2008070|P', 0.0022050031169860134),\n",
       " ('Primary malignant neoplasm of hypopharynx|439746|C', 0.0022035504875769262),\n",
       " ('Other x-ray of prostate and seminal vesicles|2006774|P',\n",
       "  0.0021947555710982295),\n",
       " ('Attention to nephrostomy tube|4140125|P', 0.0021927118500802622),\n",
       " ('Replacement of nephrostomy tube|2003650|P', 0.0021625507338263097),\n",
       " ('Other lavage of bronchus and trachea|2007991|P', 0.0021619664618717014),\n",
       " ('Pain in eye|379031|C', 0.0021249030015424923),\n",
       " ('Miliary tuberculosis|434559|C', 0.0021048090379730362),\n",
       " ('Open wound of multiple sites of face with complication|134510|C',\n",
       "  0.0020693096376205871),\n",
       " ('Accidental poisoning by heroin|440307|C', 0.0020492684561866951),\n",
       " ('Accident caused by fire and flames|432504|M', 0.0020436709765115401),\n",
       " ('Drug-induced psychosis|434900|C', 0.0020428468384836606),\n",
       " ('Rupture of quadriceps tendon|195632|C', 0.0020126939576719008),\n",
       " ('Closure of other fistula of trachea|2001308|P', 0.002010535618823034),\n",
       " ('Noncollision motor vehicle traffic accident involving injury by being thrown against some part of, or object in, motor vehicle w',\n",
       "  0.0020057961861286657),\n",
       " ('Mild pre-eclampsia|314090|C', 0.0019977770788269329),\n",
       " ('Replacement of any type pacemaker device with single-chamber device, not specified as rate responsive|2001977|P',\n",
       "  0.001989012078571164),\n",
       " ('Overlapping malignant neoplasm of oropharynx|438691|C',\n",
       "  0.001979156930412472),\n",
       " ('Muscle weakness|79908|C', 0.0019753196292294829),\n",
       " ('Removal of other device from trunk|2008157|P', 0.0019726816709028975),\n",
       " ('Peripheral retinal degeneration|437267|C', 0.0019661408414800323),\n",
       " ('Second degree burn of abdominal wall|192785|C', 0.0019621904665673854),\n",
       " ('Open chest transmyocardial revascularization|2001520|P',\n",
       "  0.001959692496326766),\n",
       " ('Pollicization operation carrying over nerves and blood supply|2006051|P',\n",
       "  0.0019560151288422921),\n",
       " ('Syphilis|436033|C', 0.0019417334775582819),\n",
       " ('Vaginal construction with graft or prosthesis|2004608|P',\n",
       "  0.0019407720550733741),\n",
       " ('Sudden visual loss|377556|C', 0.0019367836329045062),\n",
       " ('Other sympathectomy and ganglionectomy|2000250|P', 0.0019327867129747022),\n",
       " ('Consultation, described as limited|2006981|P', 0.0019285525443373936),\n",
       " ('Closure of skin and subcutaneous tissue of other sites|2006554|P',\n",
       "  0.001928549442023024),\n",
       " ('Biopsy of facial bone|2004868|P', 0.0019278378232842981),\n",
       " ('Injury of superficial nerves of head AND/OR neck|200611|C',\n",
       "  0.0019270342831628168),\n",
       " ('Industrial accident|437748|M', 0.0019241855783946507),\n",
       " ('Dental restoration finding|4150307|C', 0.0019191926693905407),\n",
       " ('Primary malignant neoplasm of spleen|193418|C', 0.0019143806721243965),\n",
       " ('Release of carpal tunnel|2000217|P', 0.0019123532192650474),\n",
       " ('Biopsy of lip|2001199|P', 0.0019120724304521716),\n",
       " ('Liver minor laceration with open wound into cavity|198288|C',\n",
       "  0.0019110726540122122),\n",
       " ('Replacement of other device for musculoskeletal immobilization|2008031|P',\n",
       "  0.0019109697819897648),\n",
       " ('Mixed conductive AND sensorineural hearing loss|379832|C',\n",
       "  0.0018978950345002637),\n",
       " ('Prader-Willi syndrome|441963|C', 0.0018977814814030349),\n",
       " ('Other and open repair of direct inguinal hernia|2003403|P',\n",
       "  0.0018934566930448428),\n",
       " ('Anomaly of tooth position|433243|C', 0.0018911342490174207),\n",
       " ('Closed traumatic dislocation of hip|4015764|C', 0.0018895989415806842),\n",
       " ('Reactive confusion|441540|C', 0.0018883621939673164),\n",
       " ('Open biopsy of tongue|2001158|P', 0.0018881815691568543),\n",
       " ('Closed traumatic dislocation of first cervical vertebra|434784|C',\n",
       "  0.0018865839766602059),\n",
       " ('Common arterial trunk|441950|C', 0.0018796043762175636),\n",
       " ('Skin lesion|4316083|C', 0.0018788211239153594),\n",
       " ('Closed reduction of fracture without internal fixation, carpals and metacarpals|2005413|P',\n",
       "  0.0018761289588845359),\n",
       " ('Gender identity disorder of adulthood|443625|C', 0.0018695717147246135),\n",
       " ('Laceration of kidney without open wound into abdominal cavity|194200|C',\n",
       "  0.001867553106564583),\n",
       " ('Loss of consciousness|372448|C', 0.0018651746504144097),\n",
       " ('Acute exacerbation of intrinsic asthma|45773005|C', 0.0018630174782525261),\n",
       " ('Pure red cell aplasia|140065|C', 0.0018596294077493605),\n",
       " ('Endoscopy of small intestine through artificial stoma|2002684|P',\n",
       "  0.0018593980873850223),\n",
       " ('Acute peptic ulcer with hemorrhage AND with perforation but without obstruction|27026|C',\n",
       "  0.001858567740429669),\n",
       " ('Pruritic rash|135618|C', 0.0018547980169942465),\n",
       " ('Monoplegia|381548|C', 0.0018533351104055575),\n",
       " ('Progressive multifocal leukoencephalopathy|433957|C',\n",
       "  0.0018500385006916529),\n",
       " ('Removal of foreign body from scrotum or penis without incision|2008212|P',\n",
       "  0.0018476400662821091),\n",
       " ('Anastomosis of kidney|2003644|P', 0.0018443325286211798),\n",
       " ('Other and unspecified pneumonectomy|2001343|P', 0.0018415975143214656),\n",
       " ('Benign neoplasm of nervous system|373432|C', 0.0018396070887175871),\n",
       " ('Excision of bone for graft, tibia and fibula|2005136|P',\n",
       "  0.0018363988577943043),\n",
       " ('Prune belly syndrome|201397|C', 0.0018273097185749036),\n",
       " ('Follicular cyst of ovary|193530|C', 0.0018271932463876119),\n",
       " ('Anal fistulectomy|2003048|P', 0.0018262340394766628),\n",
       " ('Postpartum cardiomyopathy|312383|C', 0.0018223416104669609),\n",
       " ('Cared for by family|4144149|M', 0.0018220419335152858),\n",
       " ('Insertion or replacement of pedicle-based dynamic stabilization device(s)|2006357|P',\n",
       "  0.0018207824939611874),\n",
       " ('Second degree burn of hand|141474|C', 0.0018174730508814002),\n",
       " ('Pruritus ani|200169|C', 0.0018153853998790906),\n",
       " ('Other repair and plastic operations on lung|2001371|P',\n",
       "  0.0018087752198341878),\n",
       " ('Shoulder stiff|72711|C', 0.0018085336306033273),\n",
       " ('Acquired red cell aplasia|138723|C', 0.0018081996861929795),\n",
       " ('Acquired trigger finger|77965|C', 0.0018028630675178381),\n",
       " ('Closed fracture of C1-C4 level with spinal cord injury|432458|C',\n",
       "  0.0018021637483886239),\n",
       " ('Total removal of small intestine|2002748|P', 0.0018003435010334654),\n",
       " ('Other excision of vessels, lower limb veins|2002128|P',\n",
       "  0.0018002531854912336),\n",
       " (\"Inactive Meniere's disease|76130|C\", 0.0017940151260227191),\n",
       " ('Removal of peripheral neurostimulator lead(s)|2000237|P',\n",
       "  0.0017828102936130398),\n",
       " ('Chickenpox with complication|437791|C', 0.0017758872082129088),\n",
       " ('DiGeorge sequence|141831|C', 0.0017756295268780546),\n",
       " ('Measurement of mixed venous blood gases|2007102|P', 0.0017741359235459923),\n",
       " ('Excision of deep cervical lymph node|2002303|P', 0.0017670238418577087),\n",
       " ('Other operations on bronchus|2001386|P', 0.0017600648809624015),\n",
       " ('Complex endometrial hyperplasia|198471|C', 0.0017570417469973984),\n",
       " ('Diabetic macular edema|380097|C', 0.0017526123325231637),\n",
       " ('Chondrocalcinosis of joint of pelvis|40483814|C', 0.001737150106030202),\n",
       " ('Schizotypal personality disorder|434010|C', 0.0016985905277229381),\n",
       " ('Other operations on septa of heart|2001496|P', 0.0016518783840895213),\n",
       " ('Lipoma of intrathoracic organs|433167|C', 0.0016415531847565768),\n",
       " ('Central nervous system depressants and anesthetic agent poisoning|443224|C',\n",
       "  0.0016247371763744099),\n",
       " ('Cystic fibrosis with intestinal manifestations|194325|C',\n",
       "  0.0016176167974524737),\n",
       " ('Late syphilis|435739|C', 0.0015905358793575908),\n",
       " ('Primary malignant neoplasm of thymus|438368|C', 0.0015710959190772245),\n",
       " ('Excision of cystic duct remnant|2003263|P', 0.0015609614943029035),\n",
       " ('Tendon graft|2006176|P', 0.0014911656014696053),\n",
       " ('High-dose infusion interleukin-2 [IL-2]|2000016|P', 0.0014844224201344403),\n",
       " ('Prepatellar bursitis|133294|C', 0.0014694917905321643),\n",
       " ('Factitious disorder with combined physical AND psychological symptoms|433993|C',\n",
       "  0.0014534626717065428),\n",
       " ('Partial thickness burn of multiple sites of trunk|140609|C',\n",
       "  0.0014534375284040858),\n",
       " ('Parasympathomimetic adverse reaction|435163|C', 0.0013415589291561594),\n",
       " ('Closed fracture of base of metacarpal bone other than first metacarpal|440855|C',\n",
       "  0.0013133454379907821),\n",
       " ('Chronic post-traumatic headache|377546|C', 0.0013084203750484151),\n",
       " ('Disorder of bursa of shoulder region|442256|C', 0.0012981670919039259),\n",
       " ('Internal fixation of bone without fracture reduction, tarsals and metatarsals|2005312|P',\n",
       "  0.0012223915107610617),\n",
       " ('Superficial injury of hand without infection|80591|C',\n",
       "  0.0011678821244108621),\n",
       " ('Ganglion of joint|80815|C', 0.0010519249951306501),\n",
       " ('Congenital nystagmus|373489|C', 0.0010329157175768043),\n",
       " ('Repair of retinal detachment with cryotherapy|2000643|P',\n",
       "  0.00093811563138525625),\n",
       " ('Infective/parasitic disease in preg/childbirth/puerperium|433266|C',\n",
       "  0.00089537889838369595),\n",
       " ('Premature/false labor|4125778|C', 0.00087209333811730726),\n",
       " ('Primary malignant neoplasm of scrotum|79758|C', 0.00086206035823466925),\n",
       " ('Recreation therapy|2007673|P', 0.00082473064411645242),\n",
       " ('Primary malignant neoplasm of pelvic bones, sacrum and coccyx|72566|C',\n",
       "  0.00069161777969327072),\n",
       " ('Microscopic examination of peritoneal and retroperitoneal specimen, toxicology|2007313|P',\n",
       "  0.00068866827169844795),\n",
       " ('Second degree burn of upper limb|441177|C', 0.00068580267185459811),\n",
       " ('Administration of intelligence test|2007691|P', 0.00064921388582318319),\n",
       " ('Midtarsal fusion|2005834|P', 0.0006403014836237434),\n",
       " ('Third degree burn of forehead AND/OR cheek|138033|C',\n",
       "  0.00062642879836880808),\n",
       " ('Closed traumatic dislocation of joint of wrist|437406|C',\n",
       "  0.00052956787305273448),\n",
       " ('Full thickness burn of a single finger|77180|C', 0.00042618736112031553),\n",
       " ('Injury of unknown intent by burns or fire|432810|C',\n",
       "  0.00028771607232807228)]"
      ]
     },
     "execution_count": 41,
     "metadata": {},
     "output_type": "execute_result"
    }
   ],
   "source": [
    "[(selected_variables2[decreasing_order_of_features][i], features_importances[decreasing_order_of_features][i]) \n",
    " for i in range(features_importances.shape[0])]"
   ]
  },
  {
   "cell_type": "code",
   "execution_count": null,
   "metadata": {
    "collapsed": true
   },
   "outputs": [],
   "source": []
  }
 ],
 "metadata": {
  "kernelspec": {
   "display_name": "Python 2",
   "language": "python",
   "name": "python2"
  },
  "language_info": {
   "codemirror_mode": {
    "name": "ipython",
    "version": 2
   },
   "file_extension": ".py",
   "mimetype": "text/x-python",
   "name": "python",
   "nbconvert_exporter": "python",
   "pygments_lexer": "ipython2",
   "version": "2.7.11"
  }
 },
 "nbformat": 4,
 "nbformat_minor": 0
}
