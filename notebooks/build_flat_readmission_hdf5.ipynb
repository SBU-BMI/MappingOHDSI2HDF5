{
 "cells": [
  {
   "cell_type": "markdown",
   "metadata": {},
   "source": [
    "From the HDF5 container of the mapped OHDSI inpatient data a subset of the data is extracted into two separate matrices\n",
    "`/independent/core_array` and `/dependent/core_array`."
   ]
  },
  {
   "cell_type": "code",
   "execution_count": 1,
   "metadata": {
    "collapsed": true
   },
   "outputs": [],
   "source": [
    "import h5py\n",
    "import numpy as np"
   ]
  },
  {
   "cell_type": "code",
   "execution_count": 2,
   "metadata": {
    "collapsed": true
   },
   "outputs": [],
   "source": [
    "ohdsi_file_name = \"synpuf_inpatient_combined_readmission.hdf5\" # Edit this for your file\n",
    "f5 = h5py.File(ohdsi_file_name, \"r\")"
   ]
  },
  {
   "cell_type": "code",
   "execution_count": 3,
   "metadata": {
    "collapsed": true
   },
   "outputs": [],
   "source": [
    "# Define helper function for joining labels together\n",
    "def flatten_column_annotations(f5, base_path, abbreviation=None, field_separator=\"|\", first_part=2, second_part=1):\n",
    "    column_annotations = f5[base_path + \"column_annotations\"][...]\n",
    "    number_of_columns = column_annotations.shape[1]\n",
    "    if abbreviation is not None:\n",
    "        abbreviation = field_separator + abbreviation\n",
    "    else:\n",
    "        abbreviation = \"\"\n",
    "    flattened_list = [column_annotations[first_part, i] + field_separator \n",
    "                      + column_annotations[second_part, i] + abbreviation \n",
    "                      for i in range(number_of_columns)]\n",
    "    \n",
    "    cleaned_flattened_list = []\n",
    "    for name in flattened_list:\n",
    "        if name[-1] == field_separator:\n",
    "            name = name.strip()[:-1]\n",
    "        \n",
    "        cleaned_flattened_list += [name]\n",
    "    \n",
    "    return np.array(cleaned_flattened_list, dtype=column_annotations.dtype)"
   ]
  },
  {
   "cell_type": "code",
   "execution_count": 4,
   "metadata": {
    "collapsed": true
   },
   "outputs": [],
   "source": [
    "# Define paths to data in HDF5 container\n",
    "condition_path = \"/ohdsi/condition_occurrence/\"\n",
    "procedure_path = \"/ohdsi/procedure_occurrence/\"\n",
    "person_path = \"/ohdsi/person/\"\n",
    "visit_occurrence_path = \"/ohdsi/visit_occurrence/\"\n",
    "measurement_path = \"/ohdsi/measurement/count/\"\n",
    "observation_path = \"/ohdsi/observation/count/\"\n",
    "readmission_30_day_path = \"/computed/next/30_days/visit_occurrence/\"\n",
    "past_readmission_30_day_history_path = \"/computed/past_history/180/computed/next/30_days/visit_occurrence/\""
   ]
  },
  {
   "cell_type": "code",
   "execution_count": 5,
   "metadata": {
    "collapsed": false
   },
   "outputs": [
    {
     "data": {
      "text/plain": [
       "array(['No matching concept|0|C',\n",
       "       'Gingival and periodontal disease|132344|C',\n",
       "       'Staphylococcal scalded skin syndrome|132392|C',\n",
       "       'Pressure ulcer stage 1|132393|C',\n",
       "       'Post-laminectomy syndrome|132412|C',\n",
       "       'Chronic osteomyelitis of hand|132414|C',\n",
       "       'Congenital anomaly of skin|132446|C',\n",
       "       'Contusion of scapular region|132491|C',\n",
       "       'Chronic myeloid leukemia in remission|132572|C',\n",
       "       'Postablative hypothyroidism|132583|C'],\n",
       "      dtype='|S128')"
      ]
     },
     "execution_count": 5,
     "metadata": {},
     "output_type": "execute_result"
    }
   ],
   "source": [
    "condition_names = flatten_column_annotations(f5, condition_path, abbreviation=\"C\")\n",
    "condition_names[0:10]"
   ]
  },
  {
   "cell_type": "code",
   "execution_count": 6,
   "metadata": {
    "collapsed": false
   },
   "outputs": [
    {
     "data": {
      "text/plain": [
       "array(['Infusion of drotrecogin alfa (activated)|2000012|P',\n",
       "       'Injection or infusion of nesiritide|2000014|P',\n",
       "       'Injection or infusion of oxazolidinone class of antibiotics|2000015|P',\n",
       "       'High-dose infusion interleukin-2 [IL-2]|2000016|P',\n",
       "       'Infusion of vasopressor agent|2000018|P',\n",
       "       'Computer assisted surgery with CT/CTA|2000030|P',\n",
       "       'Computer assisted surgery with fluoroscopy|2000032|P',\n",
       "       'Other computer assisted surgery|2000035|P',\n",
       "       'Procedure on single vessel|2000037|P',\n",
       "       'Insertion of one vascular stent|2000042|P'],\n",
       "      dtype='|S128')"
      ]
     },
     "execution_count": 6,
     "metadata": {},
     "output_type": "execute_result"
    }
   ],
   "source": [
    "procedure_names = flatten_column_annotations(f5, procedure_path, abbreviation=\"P\")\n",
    "procedure_names[0:10]"
   ]
  },
  {
   "cell_type": "code",
   "execution_count": 7,
   "metadata": {
    "collapsed": false
   },
   "outputs": [
    {
     "data": {
      "text/plain": [
       "array(['Myelophthisis|134315|M',\n",
       "       'Abnormal results of cardiovascular function studies|137989|M',\n",
       "       'Urinalysis, by dip stick or tablet reagent for bilirubin, glucose, hemoglobin, ketones, leukocytes, nitrite, pH, protein, specif',\n",
       "       'Increased blood lymphocyte number|320074|M',\n",
       "       'Electrocardiogram abnormal|320536|M', 'Laboratory test|4034850|M',\n",
       "       'Band neutrophil count above reference range|40481861|M',\n",
       "       'Type II diabetes mellitus uncontrolled|40482801|M',\n",
       "       'Type 1 diabetes mellitus uncontrolled|40484648|M',\n",
       "       'Body mass index 25-29 - overweight|4060705|M'],\n",
       "      dtype='|S128')"
      ]
     },
     "execution_count": 7,
     "metadata": {},
     "output_type": "execute_result"
    }
   ],
   "source": [
    "measurement_names = flatten_column_annotations(f5,measurement_path, abbreviation=\"M\", second_part=0)\n",
    "measurement_names[0:10]"
   ]
  },
  {
   "cell_type": "code",
   "execution_count": 8,
   "metadata": {
    "collapsed": false
   },
   "outputs": [
    {
     "data": {
      "text/plain": [
       "array(['No matching concept|0|O',\n",
       "       'Unilateral recurrent femoral hernia with obstruction but no gangrene|196731|O',\n",
       "       'Unilateral recurrent inguinal hernia with obstruction but no gangrene|197022|O',\n",
       "       'Unilateral recurrent inguinal hernia|201899|O',\n",
       "       'Unilateral partial vocal cord paralysis|261047|O',\n",
       "       'Unilateral complete paralysis of vocal cords|261888|O',\n",
       "       'Patient need for|4011950|O', 'Palliative care|4014023|O',\n",
       "       'Consultation|4014829|O', 'Vaccination required|4015724|O'],\n",
       "      dtype='|S128')"
      ]
     },
     "execution_count": 8,
     "metadata": {},
     "output_type": "execute_result"
    }
   ],
   "source": [
    "observation_names = flatten_column_annotations(f5, observation_path, abbreviation=\"O\", second_part=0)\n",
    "observation_names[0:10]"
   ]
  },
  {
   "cell_type": "code",
   "execution_count": 9,
   "metadata": {
    "collapsed": false
   },
   "outputs": [
    {
     "data": {
      "text/plain": [
       "array(['gender_concept_id|8507', 'gender_concept_id|8532',\n",
       "       'race_concept_id|0', 'race_concept_id|8516', 'race_concept_id|8527',\n",
       "       'ethnicity_concept_id|38003563', 'ethnicity_concept_id|38003564',\n",
       "       'birth_julian_day', 'birth_date'],\n",
       "      dtype='|S128')"
      ]
     },
     "execution_count": 9,
     "metadata": {},
     "output_type": "execute_result"
    }
   ],
   "source": [
    "person_names = flatten_column_annotations(f5, person_path, first_part=0)\n",
    "person_names"
   ]
  },
  {
   "cell_type": "code",
   "execution_count": 10,
   "metadata": {
    "collapsed": false
   },
   "outputs": [
    {
     "data": {
      "text/plain": [
       "array(['visit_concept_id|9201', 'visit_type_concept_id|44818517',\n",
       "       'age_at_visit_start_in_years_int', 'age_at_visit_start_in_days',\n",
       "       'visit_start_julian_day', 'visit_end_julian_day',\n",
       "       'visit_start_datetime', 'visit_end_datetime'],\n",
       "      dtype='|S128')"
      ]
     },
     "execution_count": 10,
     "metadata": {},
     "output_type": "execute_result"
    }
   ],
   "source": [
    "visit_names = flatten_column_annotations(f5, visit_occurrence_path, first_part=0)\n",
    "visit_names"
   ]
  },
  {
   "cell_type": "code",
   "execution_count": 11,
   "metadata": {
    "collapsed": false
   },
   "outputs": [
    {
     "data": {
      "text/plain": [
       "array(['30-day inpatient readmission'],\n",
       "      dtype='|S128')"
      ]
     },
     "execution_count": 11,
     "metadata": {},
     "output_type": "execute_result"
    }
   ],
   "source": [
    "readmission_names = np.array([\"30-day inpatient readmission\"], dtype=visit_names.dtype)\n",
    "readmission_names"
   ]
  },
  {
   "cell_type": "code",
   "execution_count": 12,
   "metadata": {
    "collapsed": false
   },
   "outputs": [
    {
     "data": {
      "text/plain": [
       "array(['Past history of 30-day inpatient readmissions'],\n",
       "      dtype='|S128')"
      ]
     },
     "execution_count": 12,
     "metadata": {},
     "output_type": "execute_result"
    }
   ],
   "source": [
    "readmission_history_names = np.array([\"Past history of 30-day inpatient readmissions\"], dtype=visit_names.dtype)\n",
    "readmission_history_names"
   ]
  },
  {
   "cell_type": "code",
   "execution_count": 13,
   "metadata": {
    "collapsed": true
   },
   "outputs": [],
   "source": [
    "los_names = np.array([\"Length of stay in days\"], dtype=visit_names.dtype)"
   ]
  },
  {
   "cell_type": "code",
   "execution_count": 14,
   "metadata": {
    "collapsed": true
   },
   "outputs": [],
   "source": [
    "# Helper function for finding\n",
    "def find_positions(names_array, to_find):\n",
    "    return np.where(names_array == to_find)[0].tolist()"
   ]
  },
  {
   "cell_type": "code",
   "execution_count": 15,
   "metadata": {
    "collapsed": true
   },
   "outputs": [],
   "source": [
    "gender_position = find_positions(person_names, \"gender_concept_id|8532\")"
   ]
  },
  {
   "cell_type": "code",
   "execution_count": 16,
   "metadata": {
    "collapsed": false
   },
   "outputs": [],
   "source": [
    "age_in_years_position = find_positions(visit_names, \"age_at_visit_start_in_years_int\")\n",
    "visit_start_julian_day_position = find_positions(visit_names, \"visit_start_julian_day\")\n",
    "visit_end_julian_day_position = find_positions(visit_names, \"visit_end_julian_day\")"
   ]
  },
  {
   "cell_type": "code",
   "execution_count": 17,
   "metadata": {
    "collapsed": false
   },
   "outputs": [
    {
     "data": {
      "text/plain": [
       "((66700, 3559), (66700, 1888), (66700, 41), (66700, 194), (66700, 8))"
      ]
     },
     "execution_count": 17,
     "metadata": {},
     "output_type": "execute_result"
    }
   ],
   "source": [
    "condition_ap = f5[condition_path + \"core_array\"]\n",
    "procedure_ap = f5[procedure_path + \"core_array\"]\n",
    "measurement_ap = f5[measurement_path + \"core_array\"]\n",
    "observation_ap = f5[observation_path + \"core_array\"]\n",
    "visit_occurrence_ap = f5[visit_occurrence_path + \"core_array\"]\n",
    "person_ap = f5[person_path + \"core_array\"]\n",
    "readmission_30_day_ap = f5[readmission_30_day_path + \"core_array\"]\n",
    "past_readmission_30_day_history_ap = f5[past_readmission_30_day_history_path + \"core_array\"]\n",
    "(condition_ap.shape, procedure_ap.shape, measurement_ap.shape, observation_ap.shape, visit_occurrence_ap.shape)"
   ]
  },
  {
   "cell_type": "code",
   "execution_count": 18,
   "metadata": {
    "collapsed": false
   },
   "outputs": [
    {
     "data": {
      "text/plain": [
       "66700"
      ]
     },
     "execution_count": 18,
     "metadata": {},
     "output_type": "execute_result"
    }
   ],
   "source": [
    "number_of_inpatient_stays = condition_ap.shape[0]\n",
    "number_of_inpatient_stays"
   ]
  },
  {
   "cell_type": "code",
   "execution_count": 19,
   "metadata": {
    "collapsed": false
   },
   "outputs": [
    {
     "data": {
      "text/plain": [
       "5686L"
      ]
     },
     "execution_count": 19,
     "metadata": {},
     "output_type": "execute_result"
    }
   ],
   "source": [
    "# First two positions age, gender, past history of readmission, los in days\n",
    "offset = 4\n",
    "number_of_columns = offset + condition_names.shape[0] + procedure_names.shape[0] + measurement_names.shape[0] + observation_names.shape[0]\n",
    "number_of_columns"
   ]
  },
  {
   "cell_type": "code",
   "execution_count": 20,
   "metadata": {
    "collapsed": false
   },
   "outputs": [],
   "source": [
    "hdf5_file_to_write_to = \"inpatient_readmission_analysis.hdf5\"\n",
    "w5 = h5py.File(hdf5_file_to_write_to, \"w\")"
   ]
  },
  {
   "cell_type": "code",
   "execution_count": 21,
   "metadata": {
    "collapsed": false
   },
   "outputs": [],
   "source": [
    "independent_array_ds = w5.create_dataset(\"/independent/core_array\", shape=(number_of_inpatient_stays, number_of_columns) \n",
    "                                         ,dtype=\"i\", compression=\"gzip\")"
   ]
  },
  {
   "cell_type": "code",
   "execution_count": 22,
   "metadata": {
    "collapsed": false
   },
   "outputs": [],
   "source": [
    "independent_array_ds[:, 0] = visit_occurrence_ap[:, age_in_years_position[0]]"
   ]
  },
  {
   "cell_type": "code",
   "execution_count": 23,
   "metadata": {
    "collapsed": false
   },
   "outputs": [],
   "source": [
    "independent_array_ds[:, 1] = 1 + (visit_occurrence_ap[:, visit_end_julian_day_position[0]] - visit_occurrence_ap[:, visit_start_julian_day_position[0]])"
   ]
  },
  {
   "cell_type": "code",
   "execution_count": 24,
   "metadata": {
    "collapsed": false
   },
   "outputs": [],
   "source": [
    "independent_array_ds[:, 2] = person_ap[:, gender_position[0]]"
   ]
  },
  {
   "cell_type": "code",
   "execution_count": 25,
   "metadata": {
    "collapsed": true
   },
   "outputs": [],
   "source": [
    "independent_array_ds[:, 3] = past_readmission_30_day_history_ap[:,0]"
   ]
  },
  {
   "cell_type": "code",
   "execution_count": 26,
   "metadata": {
    "collapsed": false
   },
   "outputs": [],
   "source": [
    "independent_array_ds[:, offset:(offset + condition_names.shape[0])] = condition_ap[...]\n",
    "offset += condition_names.shape[0]"
   ]
  },
  {
   "cell_type": "code",
   "execution_count": 27,
   "metadata": {
    "collapsed": true
   },
   "outputs": [],
   "source": [
    "independent_array_ds[:, offset:(offset + procedure_names.shape[0])] = procedure_ap[...]\n",
    "offset += procedure_names.shape[0]"
   ]
  },
  {
   "cell_type": "code",
   "execution_count": 28,
   "metadata": {
    "collapsed": true
   },
   "outputs": [],
   "source": [
    "independent_array_ds[:, offset:(offset + measurement_names.shape[0])] = measurement_ap[...]\n",
    "offset += measurement_names.shape[0]"
   ]
  },
  {
   "cell_type": "code",
   "execution_count": 29,
   "metadata": {
    "collapsed": true
   },
   "outputs": [],
   "source": [
    "independent_array_ds[:, offset:(offset + observation_names.shape[0])] = observation_ap[...]\n",
    "offset += observation_names.shape[0]"
   ]
  },
  {
   "cell_type": "code",
   "execution_count": 30,
   "metadata": {
    "collapsed": true
   },
   "outputs": [],
   "source": [
    "# For non 0 and 1 values set to 1\n",
    "core_dummy_variables = w5[\"/independent/core_array\"][:, 2:]\n",
    "core_dummy_variables[core_dummy_variables > 1] = 1"
   ]
  },
  {
   "cell_type": "code",
   "execution_count": 31,
   "metadata": {
    "collapsed": false
   },
   "outputs": [],
   "source": [
    "independent_name_array = np.concatenate((visit_names[age_in_years_position],\n",
    "                                         los_names, \n",
    "                                         person_names[gender_position],\n",
    "                                         readmission_history_names,\n",
    "                                         condition_names,\n",
    "                                         procedure_names,\n",
    "                                         measurement_names,\n",
    "                                         observation_names), axis=0)  "
   ]
  },
  {
   "cell_type": "code",
   "execution_count": 32,
   "metadata": {
    "collapsed": false
   },
   "outputs": [
    {
     "data": {
      "text/plain": [
       "(5686L,)"
      ]
     },
     "execution_count": 32,
     "metadata": {},
     "output_type": "execute_result"
    }
   ],
   "source": [
    "independent_name_array.shape"
   ]
  },
  {
   "cell_type": "code",
   "execution_count": 33,
   "metadata": {
    "collapsed": true
   },
   "outputs": [],
   "source": [
    "independent_name_array_ds = w5.create_dataset(\"/independent/column_annotations\", shape=(number_of_columns,), \n",
    "                                              dtype=independent_name_array.dtype)"
   ]
  },
  {
   "cell_type": "code",
   "execution_count": 34,
   "metadata": {
    "collapsed": false
   },
   "outputs": [],
   "source": [
    "independent_name_array_ds[...] = independent_name_array[...]"
   ]
  },
  {
   "cell_type": "code",
   "execution_count": 35,
   "metadata": {
    "collapsed": true
   },
   "outputs": [],
   "source": [
    "dependent_array_ds = w5.create_dataset(\"/dependent/core_array\", shape=(number_of_inpatient_stays, 1), \n",
    "                                       compression=\"gzip\")"
   ]
  },
  {
   "cell_type": "code",
   "execution_count": 36,
   "metadata": {
    "collapsed": true
   },
   "outputs": [],
   "source": [
    "dependent_array_ds[...] = readmission_30_day_ap[...]"
   ]
  },
  {
   "cell_type": "code",
   "execution_count": 37,
   "metadata": {
    "collapsed": true
   },
   "outputs": [],
   "source": [
    "dependent_array_name_ds = w5.create_dataset(\"/dependent/column_annotations\", shape=(1,),\n",
    "                                            dtype=readmission_names.dtype)"
   ]
  },
  {
   "cell_type": "code",
   "execution_count": 38,
   "metadata": {
    "collapsed": true
   },
   "outputs": [],
   "source": [
    "dependent_array_name_ds[...] = readmission_names[...]"
   ]
  },
  {
   "cell_type": "code",
   "execution_count": 39,
   "metadata": {
    "collapsed": false
   },
   "outputs": [],
   "source": [
    "w5.close()"
   ]
  },
  {
   "cell_type": "code",
   "execution_count": 40,
   "metadata": {
    "collapsed": true
   },
   "outputs": [],
   "source": [
    "ff5 = h5py.File(hdf5_file_to_write_to, 'r')"
   ]
  },
  {
   "cell_type": "code",
   "execution_count": 41,
   "metadata": {
    "collapsed": false
   },
   "outputs": [
    {
     "data": {
      "text/plain": [
       "[u'dependent', u'independent']"
      ]
     },
     "execution_count": 41,
     "metadata": {},
     "output_type": "execute_result"
    }
   ],
   "source": [
    "list(ff5[\"/\"])"
   ]
  },
  {
   "cell_type": "code",
   "execution_count": 42,
   "metadata": {
    "collapsed": false
   },
   "outputs": [
    {
     "data": {
      "text/plain": [
       "1120726"
      ]
     },
     "execution_count": 42,
     "metadata": {},
     "output_type": "execute_result"
    }
   ],
   "source": [
    "np.sum(ff5[\"/independent/core_array\"][:,1:])"
   ]
  },
  {
   "cell_type": "code",
   "execution_count": 43,
   "metadata": {
    "collapsed": false
   },
   "outputs": [],
   "source": [
    "f5.close()\n",
    "ff5.close()"
   ]
  },
  {
   "cell_type": "markdown",
   "metadata": {
    "collapsed": true
   },
   "source": [
    "The file generated can now be used for building a predictive readmission model."
   ]
  },
  {
   "cell_type": "code",
   "execution_count": null,
   "metadata": {
    "collapsed": true
   },
   "outputs": [],
   "source": []
  }
 ],
 "metadata": {
  "kernelspec": {
   "display_name": "Python 2",
   "language": "python",
   "name": "python2"
  },
  "language_info": {
   "codemirror_mode": {
    "name": "ipython",
    "version": 2
   },
   "file_extension": ".py",
   "mimetype": "text/x-python",
   "name": "python",
   "nbconvert_exporter": "python",
   "pygments_lexer": "ipython2",
   "version": "2.7.11"
  }
 },
 "nbformat": 4,
 "nbformat_minor": 0
}
