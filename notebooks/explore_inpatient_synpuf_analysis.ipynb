{
 "cells": [
  {
   "cell_type": "markdown",
   "metadata": {},
   "source": [
    "CMS (Centers for Medicare & Medicaid Services) has made available a synthetic PUF (Public Use File) of Medicare claims. This data set is known as [SYNPUF](https://www.cms.gov/Research-Statistics-Data-and-Systems/Downloadable-Public-Use-Files/SynPUFs/). It contains generated fake diagnoses, demographics and procedures for visits. The data is stored in a terse format which is difficult to work with. The data can be transformed using an [ETL script](https://github.com/OHDSI/ETL-CMS/blob/master/python_etl/README.md) [OHDSI](https://www.ohdsi.org/)'s [Common Data Model](https://github.com/OHDSI/CommonDataModel). The tranformed SYNPUF data (version 5) was loaded into a PostGreSQL database server. Using a [mapper script](https://github.com/jhajagos/TransformDBtoHDF5ML) inpatient visits are mapped into separate matrices.\n",
    "\n",
    "The goal is to build a predictive 30-day inpatient readmission model. In order to build such a model the data needs to be proceesed further. This part of the tutorial explores basic analysis of the synthetic clinical HDF5 container file using [h5py](http://www.h5py.org/) and [NumPy](http://www.numpy.org/). "
   ]
  },
  {
   "cell_type": "code",
   "execution_count": 1,
   "metadata": {
    "collapsed": true
   },
   "outputs": [],
   "source": [
    "import h5py # Library for reading HDF5 files"
   ]
  },
  {
   "cell_type": "code",
   "execution_count": 2,
   "metadata": {
    "collapsed": true
   },
   "outputs": [],
   "source": [
    "import numpy as np # Numerical matrix library"
   ]
  },
  {
   "cell_type": "code",
   "execution_count": 3,
   "metadata": {
    "collapsed": true
   },
   "outputs": [],
   "source": [
    "f5 = h5py.File(\"synpuf_inpatient_combined_readmission.hdf5\", \"r\")"
   ]
  },
  {
   "cell_type": "markdown",
   "metadata": {},
   "source": [
    "The `f5` object controls access to the underlying data in the hdf5 container. Matrix containers are accessed using a notation similiar to traversing a file system. Here the container is being opened in read mode only."
   ]
  },
  {
   "cell_type": "code",
   "execution_count": 4,
   "metadata": {
    "collapsed": false
   },
   "outputs": [
    {
     "data": {
      "text/plain": [
       "[u'computed', u'ohdsi']"
      ]
     },
     "execution_count": 4,
     "metadata": {},
     "output_type": "execute_result"
    }
   ],
   "source": [
    "list(f5[\"/\"])"
   ]
  },
  {
   "cell_type": "code",
   "execution_count": 5,
   "metadata": {
    "collapsed": false
   },
   "outputs": [
    {
     "data": {
      "text/plain": [
       "[u'condition_occurrence',\n",
       " u'death',\n",
       " u'drug_exposure',\n",
       " u'identifiers',\n",
       " u'measurement',\n",
       " u'observation',\n",
       " u'observation_period',\n",
       " u'person',\n",
       " u'procedure_occurrence',\n",
       " u'visit_occurrence']"
      ]
     },
     "execution_count": 5,
     "metadata": {},
     "output_type": "execute_result"
    }
   ],
   "source": [
    "list(f5[\"/ohdsi/\"])"
   ]
  },
  {
   "cell_type": "code",
   "execution_count": 6,
   "metadata": {
    "collapsed": false
   },
   "outputs": [
    {
     "data": {
      "text/plain": [
       "[u'column_annotations', u'column_header', u'core_array']"
      ]
     },
     "execution_count": 6,
     "metadata": {},
     "output_type": "execute_result"
    }
   ],
   "source": [
    "list(f5[\"/ohdsi/condition_occurrence/\"])"
   ]
  },
  {
   "cell_type": "markdown",
   "metadata": {},
   "source": [
    "The object stored at `/ohdsi/condition_occurrence/core_array` is a numeric array. The h5py library emulates the API of NumPy. "
   ]
  },
  {
   "cell_type": "code",
   "execution_count": 7,
   "metadata": {
    "collapsed": false
   },
   "outputs": [
    {
     "data": {
      "text/plain": [
       "(66700, 3559)"
      ]
     },
     "execution_count": 7,
     "metadata": {},
     "output_type": "execute_result"
    }
   ],
   "source": [
    "f5[\"/ohdsi/condition_occurrence/core_array\"].shape"
   ]
  },
  {
   "cell_type": "markdown",
   "metadata": {},
   "source": [
    "Lets start by looking at the data stored in the matrix. Each row represents a separate hospitalization.  A `1` indicates that a condition is present. Each column is a separate condition."
   ]
  },
  {
   "cell_type": "code",
   "execution_count": 8,
   "metadata": {
    "collapsed": false
   },
   "outputs": [
    {
     "data": {
      "text/plain": [
       "array([[ 0.,  0.,  0., ...,  0.,  0.,  0.],\n",
       "       [ 0.,  0.,  0., ...,  0.,  0.,  0.],\n",
       "       [ 0.,  0.,  0., ...,  0.,  0.,  0.],\n",
       "       ..., \n",
       "       [ 0.,  0.,  0., ...,  0.,  0.,  0.],\n",
       "       [ 0.,  0.,  0., ...,  0.,  0.,  0.],\n",
       "       [ 0.,  0.,  0., ...,  0.,  0.,  0.]])"
      ]
     },
     "execution_count": 8,
     "metadata": {},
     "output_type": "execute_result"
    }
   ],
   "source": [
    "f5[\"/ohdsi/condition_occurrence/core_array\"][0:10,:]"
   ]
  },
  {
   "cell_type": "code",
   "execution_count": 9,
   "metadata": {
    "collapsed": false
   },
   "outputs": [
    {
     "data": {
      "text/plain": [
       "49.0"
      ]
     },
     "execution_count": 9,
     "metadata": {},
     "output_type": "execute_result"
    }
   ],
   "source": [
    "np.sum(f5[\"/ohdsi/condition_occurrence/core_array\"][0:10,:])"
   ]
  },
  {
   "cell_type": "markdown",
   "metadata": {},
   "source": [
    "The array is sparse as it mostly contains `0`. This is not uncommon in health care data that encoded array data is sparse."
   ]
  },
  {
   "cell_type": "code",
   "execution_count": 10,
   "metadata": {
    "collapsed": true
   },
   "outputs": [],
   "source": [
    "conditions_ap = f5[\"/ohdsi/condition_occurrence/core_array\"]"
   ]
  },
  {
   "cell_type": "code",
   "execution_count": 11,
   "metadata": {
    "collapsed": false
   },
   "outputs": [
    {
     "data": {
      "text/plain": [
       "0.0017294036319856368"
      ]
     },
     "execution_count": 11,
     "metadata": {},
     "output_type": "execute_result"
    }
   ],
   "source": [
    "np.sum(conditions_ap) / (conditions_ap.shape[0] * conditions_ap.shape[1])"
   ]
  },
  {
   "cell_type": "code",
   "execution_count": 12,
   "metadata": {
    "collapsed": false
   },
   "outputs": [
    {
     "data": {
      "text/plain": [
       "array([['condition_concept', 'condition_concept', 'condition_concept', ...,\n",
       "        'condition_concept', 'condition_concept', 'condition_concept'],\n",
       "       ['0', '132344', '132392', ..., '81931', '81942', '81989'],\n",
       "       ['No matching concept', 'Gingival and periodontal disease',\n",
       "        'Staphylococcal scalded skin syndrome', ...,\n",
       "        'Psoriasis with arthropathy',\n",
       "        'Enthesopathy of ankle AND/OR tarsus',\n",
       "        'Open wound of upper arm with complication'],\n",
       "       ['categorical_list', 'categorical_list', 'categorical_list', ...,\n",
       "        'categorical_list', 'categorical_list', 'categorical_list']],\n",
       "      dtype='|S128')"
      ]
     },
     "execution_count": 12,
     "metadata": {},
     "output_type": "execute_result"
    }
   ],
   "source": [
    "f5[\"/ohdsi/condition_occurrence/column_annotations\"][...]"
   ]
  },
  {
   "cell_type": "markdown",
   "metadata": {},
   "source": [
    "Each `core_array` is paired with `column_annotations` which provide human readable label and codes."
   ]
  },
  {
   "cell_type": "code",
   "execution_count": 13,
   "metadata": {
    "collapsed": true
   },
   "outputs": [],
   "source": [
    "conditions = f5[\"/ohdsi/condition_occurrence/column_annotations\"][...]"
   ]
  },
  {
   "cell_type": "markdown",
   "metadata": {},
   "source": []
  },
  {
   "cell_type": "code",
   "execution_count": 14,
   "metadata": {
    "collapsed": false
   },
   "outputs": [],
   "source": [
    "summed_conditions = np.sum(conditions_ap, 0)"
   ]
  },
  {
   "cell_type": "code",
   "execution_count": 15,
   "metadata": {
    "collapsed": false
   },
   "outputs": [
    {
     "data": {
      "text/plain": [
       "array(['No matching concept', 'Gingival and periodontal disease',\n",
       "       'Staphylococcal scalded skin syndrome', ...,\n",
       "       'Psoriasis with arthropathy', 'Enthesopathy of ankle AND/OR tarsus',\n",
       "       'Open wound of upper arm with complication'],\n",
       "      dtype='|S128')"
      ]
     },
     "execution_count": 15,
     "metadata": {},
     "output_type": "execute_result"
    }
   ],
   "source": [
    "conditions[2, :]"
   ]
  },
  {
   "cell_type": "code",
   "execution_count": 16,
   "metadata": {
    "collapsed": false
   },
   "outputs": [
    {
     "data": {
      "text/plain": [
       "array([ 796, 1843, 1121, ..., 3540, 3549, 3558], dtype=int64)"
      ]
     },
     "execution_count": 16,
     "metadata": {},
     "output_type": "execute_result"
    }
   ],
   "source": [
    "np.lexsort((-1 * summed_conditions,))"
   ]
  },
  {
   "cell_type": "code",
   "execution_count": 17,
   "metadata": {
    "collapsed": true
   },
   "outputs": [],
   "source": [
    "conditions_sort_order = np.lexsort((-1 * summed_conditions,))"
   ]
  },
  {
   "cell_type": "code",
   "execution_count": 18,
   "metadata": {
    "collapsed": false
   },
   "outputs": [
    {
     "data": {
      "text/plain": [
       "3559L"
      ]
     },
     "execution_count": 18,
     "metadata": {},
     "output_type": "execute_result"
    }
   ],
   "source": [
    "conditions_sort_order.shape[0]"
   ]
  },
  {
   "cell_type": "code",
   "execution_count": 19,
   "metadata": {
    "collapsed": true
   },
   "outputs": [],
   "source": [
    "condition_names = conditions[2,:]"
   ]
  },
  {
   "cell_type": "code",
   "execution_count": 20,
   "metadata": {
    "collapsed": false
   },
   "outputs": [
    {
     "data": {
      "text/plain": [
       "array(['Type 2 diabetes mellitus',\n",
       "       'Coronary arteriosclerosis in native artery',\n",
       "       'Congestive heart failure', ...,\n",
       "       'Closed traumatic dislocation of knee joint',\n",
       "       'Traumatic spondylopathy',\n",
       "       'Open wound of upper arm with complication'],\n",
       "      dtype='|S128')"
      ]
     },
     "execution_count": 20,
     "metadata": {},
     "output_type": "execute_result"
    }
   ],
   "source": [
    "condition_names[conditions_sort_order]"
   ]
  },
  {
   "cell_type": "code",
   "execution_count": 21,
   "metadata": {
    "collapsed": false
   },
   "outputs": [
    {
     "data": {
      "text/plain": [
       "array([  1.42200000e+04,   1.13600000e+04,   1.11370000e+04, ...,\n",
       "         1.00000000e+00,   1.00000000e+00,   1.00000000e+00])"
      ]
     },
     "execution_count": 21,
     "metadata": {},
     "output_type": "execute_result"
    }
   ],
   "source": [
    "summed_conditions[conditions_sort_order]"
   ]
  },
  {
   "cell_type": "code",
   "execution_count": 22,
   "metadata": {
    "collapsed": false
   },
   "outputs": [
    {
     "data": {
      "text/plain": [
       "array([  2.13193403e-01,   1.70314843e-01,   1.66971514e-01, ...,\n",
       "         1.49925037e-05,   1.49925037e-05,   1.49925037e-05])"
      ]
     },
     "execution_count": 22,
     "metadata": {},
     "output_type": "execute_result"
    }
   ],
   "source": [
    "summed_conditions[conditions_sort_order] / conditions_ap.shape[0]"
   ]
  },
  {
   "cell_type": "code",
   "execution_count": 23,
   "metadata": {
    "collapsed": false
   },
   "outputs": [
    {
     "data": {
      "text/plain": [
       "[('Type 2 diabetes mellitus', 0.21319340329835082),\n",
       " ('Coronary arteriosclerosis in native artery', 0.17031484257871066),\n",
       " ('Congestive heart failure', 0.16697151424287857),\n",
       " ('Atrial fibrillation', 0.16640179910044978),\n",
       " ('Urinary tract infectious disease', 0.14211394302848576),\n",
       " ('Gastroesophageal reflux disease', 0.13380809595202398),\n",
       " ('Hypertensive renal disease with renal failure', 0.12647676161919041),\n",
       " ('Hypothyroidism', 0.11437781109445277),\n",
       " ('Anemia', 0.091154422788605693),\n",
       " ('Coronary arteriosclerosis', 0.079055472263868068),\n",
       " ('Dehydration', 0.073448275862068965),\n",
       " ('No matching concept', 0.072983508245877057),\n",
       " ('Tobacco dependence syndrome', 0.070704647676161914),\n",
       " ('Pure hypercholesterolemia', 0.067901049475262362),\n",
       " ('Sepsis', 0.06697151424287856),\n",
       " ('Hypokalemia', 0.065847076461769113),\n",
       " ('Acute exacerbation of chronic obstructive airways disease',\n",
       "  0.056596701649175414),\n",
       " ('Osteoarthritis', 0.055772113943028487),\n",
       " ('Organic mental disorder', 0.055607196401799099),\n",
       " ('Acute respiratory failure', 0.053598200899550225)]"
      ]
     },
     "execution_count": 23,
     "metadata": {},
     "output_type": "execute_result"
    }
   ],
   "source": [
    "fraction_conditions_sorted = summed_conditions[conditions_sort_order]  / conditions_ap.shape[0]\n",
    "conditions_names_sorted = condition_names[conditions_sort_order]\n",
    "paired_conditions_sorted = [(conditions_names_sorted[i], fraction_conditions_sorted[i]) \n",
    "                            for i in range(fraction_conditions_sorted.shape[0])]\n",
    "paired_conditions_sorted[0:20]"
   ]
  },
  {
   "cell_type": "code",
   "execution_count": 24,
   "metadata": {
    "collapsed": true
   },
   "outputs": [],
   "source": [
    "procedures_ap = f5[\"/ohdsi/procedure_occurrence/core_array\"]\n",
    "procedures = f5[\"/ohdsi/procedure_occurrence/column_annotations\"][...]"
   ]
  },
  {
   "cell_type": "code",
   "execution_count": 25,
   "metadata": {
    "collapsed": false
   },
   "outputs": [
    {
     "data": {
      "text/plain": [
       "array(['Infusion of drotrecogin alfa (activated)',\n",
       "       'Injection or infusion of nesiritide',\n",
       "       'Injection or infusion of oxazolidinone class of antibiotics', ...,\n",
       "       'Attention to tracheostomy', 'Attention to catheter',\n",
       "       'Implantation of epiretinal visual prosthesis'],\n",
       "      dtype='|S128')"
      ]
     },
     "execution_count": 25,
     "metadata": {},
     "output_type": "execute_result"
    }
   ],
   "source": [
    "procedure_names = procedures[2,:]\n",
    "procedure_names"
   ]
  },
  {
   "cell_type": "code",
   "execution_count": 26,
   "metadata": {
    "collapsed": false
   },
   "outputs": [
    {
     "data": {
      "text/plain": [
       "array([  2.,  18.,   9., ...,  65.,   1.,   8.])"
      ]
     },
     "execution_count": 26,
     "metadata": {},
     "output_type": "execute_result"
    }
   ],
   "source": [
    "summed_procedures = np.sum(procedures_ap,0)\n",
    "summed_procedures"
   ]
  },
  {
   "cell_type": "code",
   "execution_count": 27,
   "metadata": {
    "collapsed": false
   },
   "outputs": [
    {
     "data": {
      "text/plain": [
       "[('Other diagnostic procedures on lymphatic structures', 0.38083958020989506),\n",
       " ('Biopsy of mouth, unspecified structure', 0.19587706146926537),\n",
       " ('Other repair of urethra', 0.10338830584707646),\n",
       " ('Excision of anus', 0.10263868065967016),\n",
       " ('Other resection of rectum', 0.096596701649175415),\n",
       " ('Suture of laceration of palate', 0.069070464767616191),\n",
       " ('Temporary tracheostomy', 0.056806596701649177),\n",
       " ('Splenotomy', 0.043538230884557723),\n",
       " ('Other intrathoracic esophagoenterostomy', 0.039925037481259369),\n",
       " ('Long-term drug therapy', 0.039085457271364317),\n",
       " ('Other gastroenterostomy without gastrectomy', 0.036041979010494753),\n",
       " ('Correction of cleft palate', 0.030839580209895051),\n",
       " ('Other diagnostic procedures on biliary tract', 0.030779610194902548),\n",
       " ('Transfusion of packed cells', 0.027901049475262368),\n",
       " ('Rehabilitation therapy', 0.027511244377811096),\n",
       " ('Total knee replacement', 0.024677661169415291),\n",
       " ('Bone graft, humerus', 0.024122938530734633),\n",
       " ('Esophagectomy, not otherwise specified', 0.02287856071964018),\n",
       " ('Partial esophagectomy', 0.021379310344827585),\n",
       " ('Venous catheterization, not elsewhere classified', 0.021349325337331335)]"
      ]
     },
     "execution_count": 27,
     "metadata": {},
     "output_type": "execute_result"
    }
   ],
   "source": [
    "procedures_sort_order = np.lexsort((summed_procedures * -1, ))\n",
    "fraction_procedures_sorted = summed_procedures[procedures_sort_order] / procedures_ap.shape[0]\n",
    "procedure_names_sorted = procedure_names[procedures_sort_order]\n",
    "paired_procedures_sorted = [(procedure_names_sorted[i],fraction_procedures_sorted[i])\n",
    "                            for i in range(fraction_procedures_sorted.shape[0])]\n",
    "paired_procedures_sorted[0:20]"
   ]
  },
  {
   "cell_type": "code",
   "execution_count": 28,
   "metadata": {
    "collapsed": false
   },
   "outputs": [
    {
     "data": {
      "text/plain": [
       "array([['person_id'],\n",
       "       [''],\n",
       "       [''],\n",
       "       ['integer']],\n",
       "      dtype='|S128')"
      ]
     },
     "execution_count": 28,
     "metadata": {},
     "output_type": "execute_result"
    }
   ],
   "source": [
    "f5[\"/ohdsi/identifiers/column_annotations\"][...]"
   ]
  },
  {
   "cell_type": "code",
   "execution_count": 29,
   "metadata": {
    "collapsed": false
   },
   "outputs": [
    {
     "data": {
      "text/plain": [
       "37780L"
      ]
     },
     "execution_count": 29,
     "metadata": {},
     "output_type": "execute_result"
    }
   ],
   "source": [
    "np.unique(f5[\"/ohdsi/identifiers/core_array\"][...]).shape[0]"
   ]
  },
  {
   "cell_type": "code",
   "execution_count": 30,
   "metadata": {
    "collapsed": false
   },
   "outputs": [
    {
     "data": {
      "text/plain": [
       "array([[  1.00000000e+00],\n",
       "       [  2.00000000e+00],\n",
       "       [  2.00000000e+00],\n",
       "       ..., \n",
       "       [  1.16343000e+05],\n",
       "       [  1.16346000e+05],\n",
       "       [  1.16349000e+05]])"
      ]
     },
     "execution_count": 30,
     "metadata": {},
     "output_type": "execute_result"
    }
   ],
   "source": [
    "f5[\"/ohdsi/identifiers/core_array\"][...]"
   ]
  },
  {
   "cell_type": "code",
   "execution_count": 31,
   "metadata": {
    "collapsed": false
   },
   "outputs": [
    {
     "data": {
      "text/plain": [
       "array([['gender_concept_name', 'gender_concept_name', 'race_concept_name',\n",
       "        'race_concept_name', 'race_concept_name', 'ethnicity_concept_name',\n",
       "        'ethnicity_concept_name', 'birth_julian_day', 'birth_date'],\n",
       "       ['FEMALE', 'MALE', 'Black or African American',\n",
       "        'No matching concept', 'White', 'Hispanic or Latino',\n",
       "        'Not Hispanic or Latino', '', ''],\n",
       "       ['', '', '', '', '', '', '', '', ''],\n",
       "       ['categorical', 'categorical', 'categorical', 'categorical',\n",
       "        'categorical', 'categorical', 'categorical', 'integer', 'datetime']],\n",
       "      dtype='|S128')"
      ]
     },
     "execution_count": 31,
     "metadata": {},
     "output_type": "execute_result"
    }
   ],
   "source": [
    "f5[\"/ohdsi/person/column_annotations\"][...]"
   ]
  },
  {
   "cell_type": "code",
   "execution_count": 32,
   "metadata": {
    "collapsed": false
   },
   "outputs": [
    {
     "data": {
      "text/plain": [
       "37718.0"
      ]
     },
     "execution_count": 32,
     "metadata": {},
     "output_type": "execute_result"
    }
   ],
   "source": [
    "persons = f5[\"/ohdsi/person/column_annotations\"][...]\n",
    "gender_index = persons[0,:].tolist().index(\"gender_concept_name\")\n",
    "persons_af = f5[\"/ohdsi/person/core_array\"]\n",
    "gender_array = persons_af[:,gender_index]\n",
    "np.sum(gender_array)"
   ]
  },
  {
   "cell_type": "code",
   "execution_count": 33,
   "metadata": {
    "collapsed": false
   },
   "outputs": [
    {
     "data": {
      "text/plain": [
       "array([['visit_concept_name', 'visit_type_concept_name',\n",
       "        'age_at_visit_start_in_years_int', 'age_at_visit_start_in_days',\n",
       "        'visit_start_julian_day', 'visit_end_julian_day',\n",
       "        'visit_start_datetime', 'visit_end_datetime'],\n",
       "       ['Inpatient Visit', 'Visit derived from encounter on claim', '', '',\n",
       "        '', '', '', ''],\n",
       "       ['', '', '', '', '', '', '', ''],\n",
       "       ['categorical', 'categorical', 'integer', 'integer', 'integer',\n",
       "        'integer', 'datetime', 'datetime']],\n",
       "      dtype='|S128')"
      ]
     },
     "execution_count": 33,
     "metadata": {},
     "output_type": "execute_result"
    }
   ],
   "source": [
    "f5[\"/ohdsi/visit_occurrence/column_annotations\"][...]"
   ]
  },
  {
   "cell_type": "code",
   "execution_count": 34,
   "metadata": {
    "collapsed": false
   },
   "outputs": [
    {
     "data": {
      "text/plain": [
       "array([ 24,  25,  26,  27,  28,  29,  30,  31,  32,  33,  34,  35,  36,\n",
       "        37,  38,  39,  40,  41,  42,  43,  44,  45,  46,  47,  48,  49,\n",
       "        50,  51,  52,  53,  54,  55,  56,  57,  58,  59,  60,  61,  62,\n",
       "        63,  64,  65,  66,  67,  68,  69,  70,  71,  72,  73,  74,  75,\n",
       "        76,  77,  78,  79,  80,  81,  82,  83,  84,  85,  86,  87,  88,\n",
       "        89,  90,  91,  92,  93,  94,  95,  96,  97,  98,  99, 100, 101], dtype=int64)"
      ]
     },
     "execution_count": 34,
     "metadata": {},
     "output_type": "execute_result"
    }
   ],
   "source": [
    "visit_occurrences = f5[\"/ohdsi/visit_occurrence/column_annotations\"][...]\n",
    "age_years_index = visit_occurrences[0,:].tolist().index(\"age_at_visit_start_in_years_int\")\n",
    "persons_af = f5[\"/ohdsi/visit_occurrence/core_array\"]\n",
    "age_in_years_array = persons_af[:,age_years_index]\n",
    "np.unique(np.array(age_in_years_array, dtype=\"int64\"))"
   ]
  },
  {
   "cell_type": "code",
   "execution_count": 35,
   "metadata": {
    "collapsed": false
   },
   "outputs": [
    {
     "data": {
      "text/plain": [
       "(array([   0,    0,    0,    0,    0,    0,    0,    0,    0,    0,    0,\n",
       "           0,    0,    0,    0,    0,    0,    0,    0,    0,    0,    0,\n",
       "           0,    0,   12,   52,   83,  108,   93,   80,   94,   85,  109,\n",
       "         106,  123,  125,  153,  142,  145,  178,  197,  157,  174,  168,\n",
       "         258,  312,  367,  330,  312,  343,  356,  351,  397,  344,  390,\n",
       "         446,  579,  539,  548,  522,  471,  534,  555,  525,  771, 1426,\n",
       "        2124, 2363, 2325, 2247, 2277, 2269, 2208, 2221, 2289, 2322, 2174,\n",
       "        2167, 2186, 2247, 2187, 2035, 1882, 1959, 1846, 1685, 1475, 1461,\n",
       "        1394, 1250,  802,  490,  457,  500,  474,  461,  423,  462,  799], dtype=int64),\n",
       " array([ 0,  1,  2,  3,  4,  5,  6,  7,  8,  9, 10, 11, 12, 13, 14, 15, 16,\n",
       "        17, 18, 19, 20, 21, 22, 23, 24, 25, 26, 27, 28, 29, 30, 31, 32, 33,\n",
       "        34, 35, 36, 37, 38, 39, 40, 41, 42, 43, 44, 45, 46, 47, 48, 49, 50,\n",
       "        51, 52, 53, 54, 55, 56, 57, 58, 59, 60, 61, 62, 63, 64, 65, 66, 67,\n",
       "        68, 69, 70, 71, 72, 73, 74, 75, 76, 77, 78, 79, 80, 81, 82, 83, 84,\n",
       "        85, 86, 87, 88, 89, 90, 91, 92, 93, 94, 95, 96, 97, 98, 99]))"
      ]
     },
     "execution_count": 35,
     "metadata": {},
     "output_type": "execute_result"
    }
   ],
   "source": [
    "np.histogram(age_in_years_array,bins=np.arange(0,100))"
   ]
  },
  {
   "cell_type": "code",
   "execution_count": 36,
   "metadata": {
    "collapsed": false
   },
   "outputs": [
    {
     "data": {
      "text/plain": [
       "array([['visit_concept_name'],\n",
       "       ['Inpatient Visit'],\n",
       "       [''],\n",
       "       ['categorical']],\n",
       "      dtype='|S128')"
      ]
     },
     "execution_count": 36,
     "metadata": {},
     "output_type": "execute_result"
    }
   ],
   "source": [
    "f5[\"/computed/next/30_days/visit_occurrence/column_annotations\"][...]"
   ]
  },
  {
   "cell_type": "code",
   "execution_count": 37,
   "metadata": {
    "collapsed": false
   },
   "outputs": [
    {
     "data": {
      "text/plain": [
       "6421.0"
      ]
     },
     "execution_count": 37,
     "metadata": {},
     "output_type": "execute_result"
    }
   ],
   "source": [
    "np.sum(f5[\"/computed/next/30_days/visit_occurrence/core_array\"])"
   ]
  },
  {
   "cell_type": "code",
   "execution_count": 38,
   "metadata": {
    "collapsed": false
   },
   "outputs": [
    {
     "data": {
      "text/plain": [
       "0.096266866566716638"
      ]
     },
     "execution_count": 38,
     "metadata": {},
     "output_type": "execute_result"
    }
   ],
   "source": [
    "np.sum(f5[\"/computed/next/30_days/visit_occurrence/core_array\"])/\\\n",
    "f5[\"/computed/next/30_days/visit_occurrence/core_array\"].shape[0]"
   ]
  },
  {
   "cell_type": "code",
   "execution_count": 39,
   "metadata": {
    "collapsed": true
   },
   "outputs": [],
   "source": [
    "readmissions30_ap = f5[\"/computed/next/30_days/visit_occurrence/core_array\"]\n",
    "readmissions30_array = readmissions30_ap[:]"
   ]
  },
  {
   "cell_type": "code",
   "execution_count": 44,
   "metadata": {
    "collapsed": false
   },
   "outputs": [
    {
     "data": {
      "text/plain": [
       "{'condition_occurrence': '/ohdsi/condition_occurrence/core_array',\n",
       " 'measurement/count': '/ohdsi/measurement/count/core_array',\n",
       " 'observation/count': '/ohdsi/observation/count/core_array',\n",
       " 'person': '/ohdsi/person/core_array',\n",
       " 'procedure_occurrence': '/ohdsi/procedure_occurrence/core_array',\n",
       " 'visit_occurrence': '/ohdsi/visit_occurrence/core_array'}"
      ]
     },
     "execution_count": 44,
     "metadata": {},
     "output_type": "execute_result"
    }
   ],
   "source": [
    "domains_of_interest = [\"person\",\n",
    "\"visit_occurrence\",\n",
    "\"condition_occurrence\",\n",
    "\"procedure_occurrence\",\n",
    "\"measurement/count\",\n",
    "\"observation/count\"]\n",
    "\n",
    "domain_dict = {d : \"/ohdsi/\" + d + \"/core_array\" for d in domains_of_interest }\n",
    "domain_dict"
   ]
  },
  {
   "cell_type": "code",
   "execution_count": 49,
   "metadata": {
    "collapsed": false
   },
   "outputs": [
    {
     "name": "stdout",
     "output_type": "stream",
     "text": [
      "('person', (66700L, 9L), (268370L,))\n",
      "('condition_occurrence', (66700L, 3559L), (410535L,))\n",
      "('visit_occurrence', (66700L, 8L), (533600L,))\n",
      "('procedure_occurrence', (66700L, 1888L), (177437L,))\n",
      "('observation/count', (66700L, 194L), (32652L,))\n",
      "('measurement/count', (66700L, 41L), (5551L,))\n"
     ]
    }
   ],
   "source": [
    "for domain in domain_dict:\n",
    "    ca = f5[domain_dict[domain]][...]\n",
    "    nonzero_ca = np.where(ca > 0)\n",
    "    print(domain, ca.shape, nonzero_ca[0].shape)"
   ]
  },
  {
   "cell_type": "code",
   "execution_count": null,
   "metadata": {
    "collapsed": true
   },
   "outputs": [],
   "source": []
  }
 ],
 "metadata": {
  "kernelspec": {
   "display_name": "Python 2",
   "language": "python",
   "name": "python2"
  },
  "language_info": {
   "codemirror_mode": {
    "name": "ipython",
    "version": 2
   },
   "file_extension": ".py",
   "mimetype": "text/x-python",
   "name": "python",
   "nbconvert_exporter": "python",
   "pygments_lexer": "ipython2",
   "version": "2.7.11"
  }
 },
 "nbformat": 4,
 "nbformat_minor": 0
}
